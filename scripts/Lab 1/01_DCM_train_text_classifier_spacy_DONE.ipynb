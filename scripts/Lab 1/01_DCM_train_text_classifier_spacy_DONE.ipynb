{
  "nbformat": 4,
  "nbformat_minor": 0,
  "metadata": {
    "colab": {
      "name": "01-train-text-classifier-spacy_TODO.ipynb",
      "provenance": []
    },
    "kernelspec": {
      "name": "python3",
      "display_name": "Python 3"
    }
  },
  "cells": [
    {
      "cell_type": "markdown",
      "metadata": {
        "id": "hdE6Z7BICzhk"
      },
      "source": [
        "# TRAINING TEXT CLASSIFIERS WITH SPACY\n",
        "\n",
        "In this lab we will train different text classifiers with spacy.\n",
        "\n",
        "1. Read through the code and train to add more inline documentation as you try to understand the functionality.\n",
        "\n",
        "2. We will adapt the code to train two different fake news classifiers: one on general fake news from 6 different domains and another one on celebrities, were there are legitimate news but also news which are false gossip.\n",
        "\n"
      ]
    },
    {
      "cell_type": "markdown",
      "source": [
        "# New section"
      ],
      "metadata": {
        "id": "aTONrgrWppN0"
      }
    },
    {
      "cell_type": "code",
      "metadata": {
        "id": "dbtb9NusdN1d",
        "colab": {
          "base_uri": "https://localhost:8080/"
        },
        "outputId": "48ce27e1-b0a7-4e5c-e8d7-61ef3608c2e0"
      },
      "source": [
        "from google.colab import drive\n",
        "drive.mount('/content/drive')"
      ],
      "execution_count": 39,
      "outputs": [
        {
          "output_type": "stream",
          "name": "stdout",
          "text": [
            "Drive already mounted at /content/drive; to attempt to forcibly remount, call drive.mount(\"/content/drive\", force_remount=True).\n"
          ]
        }
      ]
    },
    {
      "cell_type": "code",
      "metadata": {
        "id": "KQCUHxFt3GYh"
      },
      "source": [
        "# We will be using spacy v2, so no need to upgrade to v3"
      ],
      "execution_count": 40,
      "outputs": []
    },
    {
      "cell_type": "code",
      "metadata": {
        "id": "kIZTbJw_7RNE",
        "colab": {
          "base_uri": "https://localhost:8080/"
        },
        "outputId": "05cae82b-93aa-4b96-8e0f-f3f90263cd68"
      },
      "source": [
        "# TODO install and test the language modules of your choice following the https://spacy.io/usage\n",
        "\n",
        "!python -m spacy download en_core_web_sm\n",
        "#!python -m spacy download en_core_web_md\n",
        "#!python -m spacy download en_core_web_lg"
      ],
      "execution_count": 41,
      "outputs": [
        {
          "output_type": "stream",
          "name": "stdout",
          "text": [
            "Collecting en_core_web_sm==2.2.5\n",
            "  Downloading https://github.com/explosion/spacy-models/releases/download/en_core_web_sm-2.2.5/en_core_web_sm-2.2.5.tar.gz (12.0 MB)\n",
            "\u001b[K     |████████████████████████████████| 12.0 MB 5.5 MB/s \n",
            "\u001b[?25hRequirement already satisfied: spacy>=2.2.2 in /usr/local/lib/python3.7/dist-packages (from en_core_web_sm==2.2.5) (2.2.4)\n",
            "Requirement already satisfied: blis<0.5.0,>=0.4.0 in /usr/local/lib/python3.7/dist-packages (from spacy>=2.2.2->en_core_web_sm==2.2.5) (0.4.1)\n",
            "Requirement already satisfied: numpy>=1.15.0 in /usr/local/lib/python3.7/dist-packages (from spacy>=2.2.2->en_core_web_sm==2.2.5) (1.21.5)\n",
            "Requirement already satisfied: thinc==7.4.0 in /usr/local/lib/python3.7/dist-packages (from spacy>=2.2.2->en_core_web_sm==2.2.5) (7.4.0)\n",
            "Requirement already satisfied: srsly<1.1.0,>=1.0.2 in /usr/local/lib/python3.7/dist-packages (from spacy>=2.2.2->en_core_web_sm==2.2.5) (1.0.5)\n",
            "Requirement already satisfied: preshed<3.1.0,>=3.0.2 in /usr/local/lib/python3.7/dist-packages (from spacy>=2.2.2->en_core_web_sm==2.2.5) (3.0.6)\n",
            "Requirement already satisfied: wasabi<1.1.0,>=0.4.0 in /usr/local/lib/python3.7/dist-packages (from spacy>=2.2.2->en_core_web_sm==2.2.5) (0.9.0)\n",
            "Requirement already satisfied: requests<3.0.0,>=2.13.0 in /usr/local/lib/python3.7/dist-packages (from spacy>=2.2.2->en_core_web_sm==2.2.5) (2.23.0)\n",
            "Requirement already satisfied: tqdm<5.0.0,>=4.38.0 in /usr/local/lib/python3.7/dist-packages (from spacy>=2.2.2->en_core_web_sm==2.2.5) (4.62.3)\n",
            "Requirement already satisfied: murmurhash<1.1.0,>=0.28.0 in /usr/local/lib/python3.7/dist-packages (from spacy>=2.2.2->en_core_web_sm==2.2.5) (1.0.6)\n",
            "Requirement already satisfied: setuptools in /usr/local/lib/python3.7/dist-packages (from spacy>=2.2.2->en_core_web_sm==2.2.5) (57.4.0)\n",
            "Requirement already satisfied: catalogue<1.1.0,>=0.0.7 in /usr/local/lib/python3.7/dist-packages (from spacy>=2.2.2->en_core_web_sm==2.2.5) (1.0.0)\n",
            "Requirement already satisfied: cymem<2.1.0,>=2.0.2 in /usr/local/lib/python3.7/dist-packages (from spacy>=2.2.2->en_core_web_sm==2.2.5) (2.0.6)\n",
            "Requirement already satisfied: plac<1.2.0,>=0.9.6 in /usr/local/lib/python3.7/dist-packages (from spacy>=2.2.2->en_core_web_sm==2.2.5) (1.1.3)\n",
            "Requirement already satisfied: importlib-metadata>=0.20 in /usr/local/lib/python3.7/dist-packages (from catalogue<1.1.0,>=0.0.7->spacy>=2.2.2->en_core_web_sm==2.2.5) (4.11.0)\n",
            "Requirement already satisfied: zipp>=0.5 in /usr/local/lib/python3.7/dist-packages (from importlib-metadata>=0.20->catalogue<1.1.0,>=0.0.7->spacy>=2.2.2->en_core_web_sm==2.2.5) (3.7.0)\n",
            "Requirement already satisfied: typing-extensions>=3.6.4 in /usr/local/lib/python3.7/dist-packages (from importlib-metadata>=0.20->catalogue<1.1.0,>=0.0.7->spacy>=2.2.2->en_core_web_sm==2.2.5) (3.10.0.2)\n",
            "Requirement already satisfied: idna<3,>=2.5 in /usr/local/lib/python3.7/dist-packages (from requests<3.0.0,>=2.13.0->spacy>=2.2.2->en_core_web_sm==2.2.5) (2.10)\n",
            "Requirement already satisfied: chardet<4,>=3.0.2 in /usr/local/lib/python3.7/dist-packages (from requests<3.0.0,>=2.13.0->spacy>=2.2.2->en_core_web_sm==2.2.5) (3.0.4)\n",
            "Requirement already satisfied: certifi>=2017.4.17 in /usr/local/lib/python3.7/dist-packages (from requests<3.0.0,>=2.13.0->spacy>=2.2.2->en_core_web_sm==2.2.5) (2021.10.8)\n",
            "Requirement already satisfied: urllib3!=1.25.0,!=1.25.1,<1.26,>=1.21.1 in /usr/local/lib/python3.7/dist-packages (from requests<3.0.0,>=2.13.0->spacy>=2.2.2->en_core_web_sm==2.2.5) (1.24.3)\n",
            "\u001b[38;5;2m✔ Download and installation successful\u001b[0m\n",
            "You can now load the model via spacy.load('en_core_web_sm')\n"
          ]
        }
      ]
    },
    {
      "cell_type": "code",
      "metadata": {
        "id": "9S-N6UPAsyyE"
      },
      "source": [
        "import spacy\n",
        "import csv\n",
        "import random\n",
        "import time\n",
        "import numpy as np\n",
        "import pandas as pd\n",
        "import re\n",
        "import string\n",
        "\n",
        "from spacy.util import minibatch, compounding\n",
        "import sys\n",
        "from spacy import displacy\n",
        "from itertools import chain\n",
        "\n",
        "from sklearn.metrics import classification_report\n",
        "from sklearn.model_selection import train_test_split\n",
        "\n",
        "# TODO add inline documentation describing the functionality of each function\n",
        "# load data\n",
        "def load_data(fnames):\n",
        "    data = []\n",
        "    for fname in fnames:\n",
        "        data.append(pd.read_csv(fname, sep='\\t', encoding='utf-8'))\n",
        "    data = pd.concat(data)\n",
        "    targets = set(data['Target'])\n",
        "    return data, list(targets)\n",
        "\n",
        "# pre-process tweets\n",
        "def cleanup(tweet):\n",
        "    \"\"\"we remove urls, hashtags and user symbols\"\"\"\n",
        "    tweet = re.sub(r\"http\\S+\", \"\", tweet.replace(\"#\", \"\").replace(\"@\", \"\").replace('\\n', ' ').replace('\\t', ' '))\n",
        "    return tweet"
      ],
      "execution_count": 42,
      "outputs": []
    },
    {
      "cell_type": "code",
      "metadata": {
        "colab": {
          "base_uri": "https://localhost:8080/",
          "height": 424
        },
        "id": "It1ah6R0wXWZ",
        "outputId": "bd92440c-4adf-4f03-8b29-6e09206dd7ef"
      },
      "source": [
        "# data path. trial data used as training too.\n",
        "trial_file = \"/content/drive/MyDrive/2022-ILTAPP/datasets/stance-semeval2016/semeval2016-task6-trialdata.utf-8.txt\"\n",
        "train_file = \"/content/drive/MyDrive/2022-ILTAPP/datasets/stance-semeval2016/semeval2016-task6-trainingdata.utf-8.txt\"\n",
        "test_file = \"/content/drive/MyDrive/2022-ILTAPP/datasets/stance-semeval2016/SemEval2016-Task6-subtaskA-testdata-gold.txt\"\n",
        "\n",
        "training_data, targets = load_data([trial_file, train_file])\n",
        "training_data['Clean_tweet'] = training_data['Tweet'].apply(cleanup)\n",
        "\n",
        "test_data, _ = load_data([test_file])\n",
        "test_data['Clean_tweet'] = test_data['Tweet'].apply(cleanup)\n",
        "display(training_data)"
      ],
      "execution_count": 43,
      "outputs": [
        {
          "output_type": "display_data",
          "data": {
            "text/html": [
              "\n",
              "  <div id=\"df-2cc18c5a-b394-4ad6-b01b-47095db3f5c7\">\n",
              "    <div class=\"colab-df-container\">\n",
              "      <div>\n",
              "<style scoped>\n",
              "    .dataframe tbody tr th:only-of-type {\n",
              "        vertical-align: middle;\n",
              "    }\n",
              "\n",
              "    .dataframe tbody tr th {\n",
              "        vertical-align: top;\n",
              "    }\n",
              "\n",
              "    .dataframe thead th {\n",
              "        text-align: right;\n",
              "    }\n",
              "</style>\n",
              "<table border=\"1\" class=\"dataframe\">\n",
              "  <thead>\n",
              "    <tr style=\"text-align: right;\">\n",
              "      <th></th>\n",
              "      <th>ID</th>\n",
              "      <th>Target</th>\n",
              "      <th>Tweet</th>\n",
              "      <th>Stance</th>\n",
              "      <th>Clean_tweet</th>\n",
              "    </tr>\n",
              "  </thead>\n",
              "  <tbody>\n",
              "    <tr>\n",
              "      <th>0</th>\n",
              "      <td>1</td>\n",
              "      <td>Hillary Clinton</td>\n",
              "      <td>@tedcruz And, #HandOverTheServer she wiped cle...</td>\n",
              "      <td>AGAINST</td>\n",
              "      <td>tedcruz And, HandOverTheServer she wiped clean...</td>\n",
              "    </tr>\n",
              "    <tr>\n",
              "      <th>1</th>\n",
              "      <td>2</td>\n",
              "      <td>Hillary Clinton</td>\n",
              "      <td>Hillary is our best choice if we truly want to...</td>\n",
              "      <td>FAVOR</td>\n",
              "      <td>Hillary is our best choice if we truly want to...</td>\n",
              "    </tr>\n",
              "    <tr>\n",
              "      <th>2</th>\n",
              "      <td>3</td>\n",
              "      <td>Hillary Clinton</td>\n",
              "      <td>@TheView I think our country is ready for a fe...</td>\n",
              "      <td>AGAINST</td>\n",
              "      <td>TheView I think our country is ready for a fem...</td>\n",
              "    </tr>\n",
              "    <tr>\n",
              "      <th>3</th>\n",
              "      <td>4</td>\n",
              "      <td>Hillary Clinton</td>\n",
              "      <td>I just gave an unhealthy amount of my hard-ear...</td>\n",
              "      <td>AGAINST</td>\n",
              "      <td>I just gave an unhealthy amount of my hard-ear...</td>\n",
              "    </tr>\n",
              "    <tr>\n",
              "      <th>4</th>\n",
              "      <td>5</td>\n",
              "      <td>Hillary Clinton</td>\n",
              "      <td>@PortiaABoulger Thank you for adding me to you...</td>\n",
              "      <td>NONE</td>\n",
              "      <td>PortiaABoulger Thank you for adding me to your...</td>\n",
              "    </tr>\n",
              "    <tr>\n",
              "      <th>...</th>\n",
              "      <td>...</td>\n",
              "      <td>...</td>\n",
              "      <td>...</td>\n",
              "      <td>...</td>\n",
              "      <td>...</td>\n",
              "    </tr>\n",
              "    <tr>\n",
              "      <th>2809</th>\n",
              "      <td>2910</td>\n",
              "      <td>Legalization of Abortion</td>\n",
              "      <td>There's a law protecting unborn eagles, but no...</td>\n",
              "      <td>AGAINST</td>\n",
              "      <td>There's a law protecting unborn eagles, but no...</td>\n",
              "    </tr>\n",
              "    <tr>\n",
              "      <th>2810</th>\n",
              "      <td>2911</td>\n",
              "      <td>Legalization of Abortion</td>\n",
              "      <td>I am 1 in 3... I have had an abortion #Abortio...</td>\n",
              "      <td>AGAINST</td>\n",
              "      <td>I am 1 in 3... I have had an abortion Abortion...</td>\n",
              "    </tr>\n",
              "    <tr>\n",
              "      <th>2811</th>\n",
              "      <td>2912</td>\n",
              "      <td>Legalization of Abortion</td>\n",
              "      <td>How dare you say my sexual preference is a cho...</td>\n",
              "      <td>AGAINST</td>\n",
              "      <td>How dare you say my sexual preference is a cho...</td>\n",
              "    </tr>\n",
              "    <tr>\n",
              "      <th>2812</th>\n",
              "      <td>2913</td>\n",
              "      <td>Legalization of Abortion</td>\n",
              "      <td>Equal rights for those 'born that way', no rig...</td>\n",
              "      <td>AGAINST</td>\n",
              "      <td>Equal rights for those 'born that way', no rig...</td>\n",
              "    </tr>\n",
              "    <tr>\n",
              "      <th>2813</th>\n",
              "      <td>2914</td>\n",
              "      <td>Legalization of Abortion</td>\n",
              "      <td>#POTUS seals his legacy w/ 1/2 doz wins. The #...</td>\n",
              "      <td>AGAINST</td>\n",
              "      <td>POTUS seals his legacy w/ 1/2 doz wins. The GO...</td>\n",
              "    </tr>\n",
              "  </tbody>\n",
              "</table>\n",
              "<p>2914 rows × 5 columns</p>\n",
              "</div>\n",
              "      <button class=\"colab-df-convert\" onclick=\"convertToInteractive('df-2cc18c5a-b394-4ad6-b01b-47095db3f5c7')\"\n",
              "              title=\"Convert this dataframe to an interactive table.\"\n",
              "              style=\"display:none;\">\n",
              "        \n",
              "  <svg xmlns=\"http://www.w3.org/2000/svg\" height=\"24px\"viewBox=\"0 0 24 24\"\n",
              "       width=\"24px\">\n",
              "    <path d=\"M0 0h24v24H0V0z\" fill=\"none\"/>\n",
              "    <path d=\"M18.56 5.44l.94 2.06.94-2.06 2.06-.94-2.06-.94-.94-2.06-.94 2.06-2.06.94zm-11 1L8.5 8.5l.94-2.06 2.06-.94-2.06-.94L8.5 2.5l-.94 2.06-2.06.94zm10 10l.94 2.06.94-2.06 2.06-.94-2.06-.94-.94-2.06-.94 2.06-2.06.94z\"/><path d=\"M17.41 7.96l-1.37-1.37c-.4-.4-.92-.59-1.43-.59-.52 0-1.04.2-1.43.59L10.3 9.45l-7.72 7.72c-.78.78-.78 2.05 0 2.83L4 21.41c.39.39.9.59 1.41.59.51 0 1.02-.2 1.41-.59l7.78-7.78 2.81-2.81c.8-.78.8-2.07 0-2.86zM5.41 20L4 18.59l7.72-7.72 1.47 1.35L5.41 20z\"/>\n",
              "  </svg>\n",
              "      </button>\n",
              "      \n",
              "  <style>\n",
              "    .colab-df-container {\n",
              "      display:flex;\n",
              "      flex-wrap:wrap;\n",
              "      gap: 12px;\n",
              "    }\n",
              "\n",
              "    .colab-df-convert {\n",
              "      background-color: #E8F0FE;\n",
              "      border: none;\n",
              "      border-radius: 50%;\n",
              "      cursor: pointer;\n",
              "      display: none;\n",
              "      fill: #1967D2;\n",
              "      height: 32px;\n",
              "      padding: 0 0 0 0;\n",
              "      width: 32px;\n",
              "    }\n",
              "\n",
              "    .colab-df-convert:hover {\n",
              "      background-color: #E2EBFA;\n",
              "      box-shadow: 0px 1px 2px rgba(60, 64, 67, 0.3), 0px 1px 3px 1px rgba(60, 64, 67, 0.15);\n",
              "      fill: #174EA6;\n",
              "    }\n",
              "\n",
              "    [theme=dark] .colab-df-convert {\n",
              "      background-color: #3B4455;\n",
              "      fill: #D2E3FC;\n",
              "    }\n",
              "\n",
              "    [theme=dark] .colab-df-convert:hover {\n",
              "      background-color: #434B5C;\n",
              "      box-shadow: 0px 1px 3px 1px rgba(0, 0, 0, 0.15);\n",
              "      filter: drop-shadow(0px 1px 2px rgba(0, 0, 0, 0.3));\n",
              "      fill: #FFFFFF;\n",
              "    }\n",
              "  </style>\n",
              "\n",
              "      <script>\n",
              "        const buttonEl =\n",
              "          document.querySelector('#df-2cc18c5a-b394-4ad6-b01b-47095db3f5c7 button.colab-df-convert');\n",
              "        buttonEl.style.display =\n",
              "          google.colab.kernel.accessAllowed ? 'block' : 'none';\n",
              "\n",
              "        async function convertToInteractive(key) {\n",
              "          const element = document.querySelector('#df-2cc18c5a-b394-4ad6-b01b-47095db3f5c7');\n",
              "          const dataTable =\n",
              "            await google.colab.kernel.invokeFunction('convertToInteractive',\n",
              "                                                     [key], {});\n",
              "          if (!dataTable) return;\n",
              "\n",
              "          const docLinkHtml = 'Like what you see? Visit the ' +\n",
              "            '<a target=\"_blank\" href=https://colab.research.google.com/notebooks/data_table.ipynb>data table notebook</a>'\n",
              "            + ' to learn more about interactive tables.';\n",
              "          element.innerHTML = '';\n",
              "          dataTable['output_type'] = 'display_data';\n",
              "          await google.colab.output.renderOutput(dataTable, element);\n",
              "          const docLink = document.createElement('div');\n",
              "          docLink.innerHTML = docLinkHtml;\n",
              "          element.appendChild(docLink);\n",
              "        }\n",
              "      </script>\n",
              "    </div>\n",
              "  </div>\n",
              "  "
            ],
            "text/plain": [
              "        ID  ...                                        Clean_tweet\n",
              "0        1  ...  tedcruz And, HandOverTheServer she wiped clean...\n",
              "1        2  ...  Hillary is our best choice if we truly want to...\n",
              "2        3  ...  TheView I think our country is ready for a fem...\n",
              "3        4  ...  I just gave an unhealthy amount of my hard-ear...\n",
              "4        5  ...  PortiaABoulger Thank you for adding me to your...\n",
              "...    ...  ...                                                ...\n",
              "2809  2910  ...  There's a law protecting unborn eagles, but no...\n",
              "2810  2911  ...  I am 1 in 3... I have had an abortion Abortion...\n",
              "2811  2912  ...  How dare you say my sexual preference is a cho...\n",
              "2812  2913  ...  Equal rights for those 'born that way', no rig...\n",
              "2813  2914  ...  POTUS seals his legacy w/ 1/2 doz wins. The GO...\n",
              "\n",
              "[2914 rows x 5 columns]"
            ]
          },
          "metadata": {}
        }
      ]
    },
    {
      "cell_type": "code",
      "metadata": {
        "id": "pc-5nX2DESYy"
      },
      "source": [
        "for target in targets:\n",
        "  training_data[training_data['Target'] == target][['Stance', 'Clean_tweet']].to_csv(f\"/content/drive/MyDrive/2022-ILTAPP/datasets/stance-semeval2016/train.{target}.tsv\",\n",
        "          sep=\"\\t\", index=False, quoting=csv.QUOTE_NONE, quotechar=\"\", escapechar=\"\")\n",
        "  test_data[test_data['Target'] == target][['Stance', 'Clean_tweet']].to_csv(f\"/content/drive/MyDrive/2022-ILTAPP/datasets/stance-semeval2016/test.{target}.tsv\",\n",
        "          sep=\"\\t\", index=False, quoting=csv.QUOTE_NONE, quotechar=\"\", escapechar=\"\")"
      ],
      "execution_count": 44,
      "outputs": []
    },
    {
      "cell_type": "markdown",
      "metadata": {
        "id": "EUcJndNsCt4u"
      },
      "source": [
        ""
      ]
    },
    {
      "cell_type": "code",
      "metadata": {
        "id": "TvjWbWcwZf1W"
      },
      "source": [
        "def load_data_spacy(fname):\n",
        "  training_data = pd.read_csv(fname, sep='\\t', encoding='utf-8')\n",
        "  #train_data.dropna(axis = 0, how ='any',inplace=True)\n",
        "  #train_data['Num_words_text'] = train_data['text'].apply(lambda x:len(str(x).split())) \n",
        "  #mask = train_data['Num_words_text'] >2\n",
        "  #train_data = train_data[mask]\n",
        "  print(training_data['Stance'].value_counts())\n",
        "   \n",
        "  train_texts = training_data['Clean_tweet'].tolist()\n",
        "  train_cats = training_data['Stance'].tolist()\n",
        "  final_train_cats=[]\n",
        "  for cat in train_cats:\n",
        "    cat_list = {}\n",
        "    if cat == 'AGAINST':\n",
        "      cat_list['AGAINST'] =  1\n",
        "      cat_list['FAVOR'] =  0\n",
        "      cat_list['NONE'] =  0\n",
        "    elif cat == 'FAVOR':\n",
        "      cat_list['AGAINST'] =  0\n",
        "      cat_list['FAVOR'] =  1\n",
        "      cat_list['NONE'] =  0\n",
        "    else:\n",
        "      cat_list['AGAINST'] =  0\n",
        "      cat_list['FAVOR'] =  0\n",
        "      cat_list['NONE'] =  1\n",
        "    final_train_cats.append(cat_list)\n",
        "    \n",
        "  train_data = list(zip(train_texts, [{\"cats\": cats} for cats in final_train_cats]))\n",
        "  return train_data, train_texts, train_cats\n"
      ],
      "execution_count": 45,
      "outputs": []
    },
    {
      "cell_type": "code",
      "metadata": {
        "id": "TqxmbgRXzPxC",
        "colab": {
          "base_uri": "https://localhost:8080/"
        },
        "outputId": "b5207954-c8d8-4d29-86cd-ab25e633cc79"
      },
      "source": [
        "training_data, train_texts, train_cats = load_data_spacy('/content/drive/MyDrive/2022-ILTAPP/datasets/stance-semeval2016/train.Feminist Movement.tsv')\n",
        "print(training_data[:10])\n",
        "print(len(training_data))\n",
        "test_data, test_texts, test_cats = load_data_spacy('/content/drive/MyDrive/2022-ILTAPP/datasets/stance-semeval2016/test.Feminist Movement.tsv')\n",
        "print(len(test_data))"
      ],
      "execution_count": 46,
      "outputs": [
        {
          "output_type": "stream",
          "name": "stdout",
          "text": [
            "AGAINST    328\n",
            "FAVOR      210\n",
            "NONE       126\n",
            "Name: Stance, dtype: int64\n",
            "[('Always a delight to see chest-drumming alpha males hiss and scuttle backwards up the wall when a feminist enters the room. manly SemST', {'cats': {'AGAINST': 0, 'FAVOR': 1, 'NONE': 0}}), (\"Sometimes I overheat and want to take off my shirt but can't because of social expectations of people with breasts. ;n; SemST\", {'cats': {'AGAINST': 0, 'FAVOR': 1, 'NONE': 0}}), ('If feminists spent 1/2 as much time reading papers as they do tumblr they would be real people, not ignorant sexist bigots. SemST', {'cats': {'AGAINST': 1, 'FAVOR': 0, 'NONE': 0}}), ('Stupid Feminists, the civilization you take for granted was built with the labour, blood sweat and tears of men. SemST', {'cats': {'AGAINST': 1, 'FAVOR': 0, 'NONE': 0}}), (\"YOU'RE A GIRL AND HAVE A SEX DRIVE!? YOU MUST BE A SLUT! feminist SemST\", {'cats': {'AGAINST': 0, 'FAVOR': 1, 'NONE': 0}}), (\"Suns out....  Dresses out...  StreetHarassment out...  This shouldn't be daily life  YesAllWomen EverydaySexism SemST\", {'cats': {'AGAINST': 0, 'FAVOR': 1, 'NONE': 0}}), (\"Women's rights are humanrights! Join the CPDvoices twitter rally at 3pm ET if you agree! CPD48 SemST\", {'cats': {'AGAINST': 0, 'FAVOR': 1, 'NONE': 0}}), (\"So you support unequal pricing based on gender CamilleBogrand?  Don't you normally call that sexism?  EqualPayDay SemST\", {'cats': {'AGAINST': 0, 'FAVOR': 1, 'NONE': 0}}), ('These pics of pornstars with/without makeup? Just perpetuating the myth that women need makeup to be considered pretty. SemST', {'cats': {'AGAINST': 0, 'FAVOR': 1, 'NONE': 0}}), ('YesAllWomen should know how to protect herself. Which is why I carry a gun. republicanvalues SemST', {'cats': {'AGAINST': 0, 'FAVOR': 1, 'NONE': 0}})]\n",
            "664\n",
            "AGAINST    183\n",
            "FAVOR       58\n",
            "NONE        44\n",
            "Name: Stance, dtype: int64\n",
            "285\n"
          ]
        }
      ]
    },
    {
      "cell_type": "code",
      "metadata": {
        "id": "fVVY29A557be"
      },
      "source": [
        "def Sort(sub_li):\n",
        "  # reverse = True (Soresulting_list = list(first_list)rts in Descending  order) \n",
        "  # key is set to sort using second element of  \n",
        "  # sublist lambda has been used \n",
        "  return(sorted(sub_li, key = lambda x: x[1],reverse=True))  \n",
        "\n",
        "# run the predictions on each sentence in the evaluation  dataset, and return the metrics\n",
        "def evaluate(tokenizer, textcat, test_texts, test_cats ):\n",
        "  docs = (tokenizer(text) for text in test_texts)\n",
        "  preds = []\n",
        "  for i, doc in enumerate(textcat.pipe(docs)):\n",
        "    #print(doc.cats.items())\n",
        "    scores = Sort(doc.cats.items())\n",
        "    #print(scores)\n",
        "    catList=[]\n",
        "    for score in scores:\n",
        "      catList.append(score[0])\n",
        "    preds.append(catList[0])\n",
        "        \n",
        "  labels = ['AGAINST', 'FAVOR']\n",
        "  print(classification_report(test_cats, preds,labels=labels))\n",
        "    "
      ],
      "execution_count": 47,
      "outputs": []
    },
    {
      "cell_type": "code",
      "metadata": {
        "id": "UoYAGQHvILqV"
      },
      "source": [
        "def train_spacy(  train_data, iterations,test_texts,test_cats, model_arch, dropout = 0.3, model=None, init_tok2vec=None):\n",
        "    ''' Train a spacy NER model, which can be queried against with test data\n",
        "   \n",
        "    train_data : training data in the format of (sentence, {cats: ['AGAINST'|'FAVOR'|'NONE']})\n",
        "    labels : a list of unique annotations\n",
        "    iterations : number of training iterations\n",
        "    dropout : dropout proportion for training\n",
        "    display_freq : number of epochs between logging losses to console\n",
        "    '''\n",
        "    \n",
        "    nlp = spacy.load('en_core_web_sm')\n",
        "    \n",
        "\n",
        "    # add the text classifier to the pipeline if it doesn't exist\n",
        "    # nlp.create_pipe works for built-ins that are registered with spaCy\n",
        "    if \"textcat\" not in nlp.pipe_names:\n",
        "        textcat = nlp.create_pipe(\n",
        "            \"textcat\", config={\"exclusive_classes\": True, \"architecture\": model_arch}\n",
        "        )\n",
        "        nlp.add_pipe(textcat, last=True)\n",
        "        \n",
        "    # otherwise, get it, so we can add labels to it\n",
        "    else:\n",
        "        textcat = nlp.get_pipe(\"textcat\")\n",
        "\n",
        "    # add label to text classifier\n",
        "    textcat.add_label(\"AGAINST\")\n",
        "    textcat.add_label(\"FAVOR\")\n",
        "    textcat.add_label(\"NONE\")\n",
        "\n",
        "\n",
        "    # get names of other pipes to disable them during training\n",
        "    pipe_exceptions = [\"textcat\", \"trf_wordpiecer\", \"trf_tok2vec\"]\n",
        "    other_pipes = [pipe for pipe in nlp.pipe_names if pipe not in pipe_exceptions]\n",
        "    with nlp.disable_pipes(*other_pipes):  # only train textcat\n",
        "        optimizer = nlp.begin_training()\n",
        "        if init_tok2vec is not None:\n",
        "            with init_tok2vec.open(\"rb\") as file_:\n",
        "                textcat.model.tok2vec.from_bytes(file_.read())\n",
        "        print(\"Training the model...\")\n",
        "        print(\"{:^5}\\t{:^5}\\t{:^5}\\t{:^5}\".format(\"LOSS\", \"P\", \"R\", \"F\"))\n",
        "        batch_sizes = compounding(16.0, 64.0, 1.5)\n",
        "        for i in range(iterations):\n",
        "            print('Iteration: '+str(i))\n",
        "            start_time = time.clock()\n",
        "            losses = {}\n",
        "            # batch up the examples using spaCy's minibatch\n",
        "            random.shuffle(train_data)\n",
        "            batches = minibatch(train_data, size=batch_sizes)\n",
        "            for batch in batches:\n",
        "                texts, annotations = zip(*batch)\n",
        "                nlp.update(texts, annotations, sgd=optimizer, drop=dropout, losses=losses)\n",
        "            with textcat.model.use_params(optimizer.averages):\n",
        "                # evaluate on the test data \n",
        "                evaluate(nlp.tokenizer, textcat, test_texts,test_cats)\n",
        "            print ('Elapsed time'+str(time.clock() - start_time)+  \"seconds\")\n",
        "        with nlp.use_params(optimizer.averages):\n",
        "            model_name = model_arch + \"_Feminism_Stance_Semeval2016\"\n",
        "            filepath = \"/content/drive/MyDrive/2022-ILTAPP/resources/\" + model_name \n",
        "            nlp.to_disk(filepath)\n",
        "    return nlp"
      ],
      "execution_count": 48,
      "outputs": []
    },
    {
      "cell_type": "code",
      "metadata": {
        "id": "OorDhD-vMSfN",
        "colab": {
          "base_uri": "https://localhost:8080/"
        },
        "outputId": "2f707cb4-8c54-40bd-b44c-b21b1f9ed327"
      },
      "source": [
        "nlp = train_spacy(training_data, 20, test_texts, test_cats, \"bow\")"
      ],
      "execution_count": 49,
      "outputs": [
        {
          "output_type": "stream",
          "name": "stdout",
          "text": [
            "Training the model...\n",
            "LOSS \t  P  \t  R  \t  F  \n",
            "Iteration: 0\n"
          ]
        },
        {
          "output_type": "stream",
          "name": "stderr",
          "text": [
            "/usr/local/lib/python3.7/dist-packages/ipykernel_launcher.py:45: DeprecationWarning: time.clock has been deprecated in Python 3.3 and will be removed from Python 3.8: use time.perf_counter or time.process_time instead\n"
          ]
        },
        {
          "output_type": "stream",
          "name": "stdout",
          "text": [
            "              precision    recall  f1-score   support\n",
            "\n",
            "     AGAINST       0.66      0.98      0.79       183\n",
            "       FAVOR       0.64      0.12      0.20        58\n",
            "\n",
            "   micro avg       0.66      0.78      0.71       241\n",
            "   macro avg       0.65      0.55      0.50       241\n",
            "weighted avg       0.65      0.78      0.65       241\n",
            "\n",
            "Elapsed time0.6363750000000437seconds\n",
            "Iteration: 1\n"
          ]
        },
        {
          "output_type": "stream",
          "name": "stderr",
          "text": [
            "/usr/local/lib/python3.7/dist-packages/ipykernel_launcher.py:56: DeprecationWarning: time.clock has been deprecated in Python 3.3 and will be removed from Python 3.8: use time.perf_counter or time.process_time instead\n",
            "/usr/local/lib/python3.7/dist-packages/ipykernel_launcher.py:45: DeprecationWarning: time.clock has been deprecated in Python 3.3 and will be removed from Python 3.8: use time.perf_counter or time.process_time instead\n"
          ]
        },
        {
          "output_type": "stream",
          "name": "stdout",
          "text": [
            "              precision    recall  f1-score   support\n",
            "\n",
            "     AGAINST       0.64      1.00      0.78       183\n",
            "       FAVOR       0.00      0.00      0.00        58\n",
            "\n",
            "   micro avg       0.64      0.76      0.70       241\n",
            "   macro avg       0.32      0.50      0.39       241\n",
            "weighted avg       0.49      0.76      0.60       241\n",
            "\n",
            "Elapsed time0.4222440000000347seconds\n",
            "Iteration: 2\n"
          ]
        },
        {
          "output_type": "stream",
          "name": "stderr",
          "text": [
            "/usr/local/lib/python3.7/dist-packages/ipykernel_launcher.py:56: DeprecationWarning: time.clock has been deprecated in Python 3.3 and will be removed from Python 3.8: use time.perf_counter or time.process_time instead\n",
            "/usr/local/lib/python3.7/dist-packages/ipykernel_launcher.py:45: DeprecationWarning: time.clock has been deprecated in Python 3.3 and will be removed from Python 3.8: use time.perf_counter or time.process_time instead\n"
          ]
        },
        {
          "output_type": "stream",
          "name": "stdout",
          "text": [
            "              precision    recall  f1-score   support\n",
            "\n",
            "     AGAINST       0.65      1.00      0.79       183\n",
            "       FAVOR       0.50      0.02      0.03        58\n",
            "\n",
            "   micro avg       0.65      0.76      0.70       241\n",
            "   macro avg       0.57      0.51      0.41       241\n",
            "weighted avg       0.61      0.76      0.60       241\n",
            "\n",
            "Elapsed time0.48458400000004076seconds\n",
            "Iteration: 3\n"
          ]
        },
        {
          "output_type": "stream",
          "name": "stderr",
          "text": [
            "/usr/local/lib/python3.7/dist-packages/ipykernel_launcher.py:56: DeprecationWarning: time.clock has been deprecated in Python 3.3 and will be removed from Python 3.8: use time.perf_counter or time.process_time instead\n",
            "/usr/local/lib/python3.7/dist-packages/ipykernel_launcher.py:45: DeprecationWarning: time.clock has been deprecated in Python 3.3 and will be removed from Python 3.8: use time.perf_counter or time.process_time instead\n"
          ]
        },
        {
          "output_type": "stream",
          "name": "stdout",
          "text": [
            "              precision    recall  f1-score   support\n",
            "\n",
            "     AGAINST       0.64      0.98      0.78       183\n",
            "       FAVOR       0.29      0.03      0.06        58\n",
            "\n",
            "   micro avg       0.64      0.75      0.69       241\n",
            "   macro avg       0.46      0.51      0.42       241\n",
            "weighted avg       0.56      0.75      0.60       241\n",
            "\n",
            "Elapsed time0.32724300000000994seconds\n",
            "Iteration: 4\n"
          ]
        },
        {
          "output_type": "stream",
          "name": "stderr",
          "text": [
            "/usr/local/lib/python3.7/dist-packages/ipykernel_launcher.py:56: DeprecationWarning: time.clock has been deprecated in Python 3.3 and will be removed from Python 3.8: use time.perf_counter or time.process_time instead\n",
            "/usr/local/lib/python3.7/dist-packages/ipykernel_launcher.py:45: DeprecationWarning: time.clock has been deprecated in Python 3.3 and will be removed from Python 3.8: use time.perf_counter or time.process_time instead\n"
          ]
        },
        {
          "output_type": "stream",
          "name": "stdout",
          "text": [
            "              precision    recall  f1-score   support\n",
            "\n",
            "     AGAINST       0.65      0.96      0.78       183\n",
            "       FAVOR       0.38      0.10      0.16        58\n",
            "\n",
            "   micro avg       0.64      0.76      0.69       241\n",
            "   macro avg       0.51      0.53      0.47       241\n",
            "weighted avg       0.59      0.76      0.63       241\n",
            "\n",
            "Elapsed time0.3844659999999749seconds\n",
            "Iteration: 5\n"
          ]
        },
        {
          "output_type": "stream",
          "name": "stderr",
          "text": [
            "/usr/local/lib/python3.7/dist-packages/ipykernel_launcher.py:56: DeprecationWarning: time.clock has been deprecated in Python 3.3 and will be removed from Python 3.8: use time.perf_counter or time.process_time instead\n",
            "/usr/local/lib/python3.7/dist-packages/ipykernel_launcher.py:45: DeprecationWarning: time.clock has been deprecated in Python 3.3 and will be removed from Python 3.8: use time.perf_counter or time.process_time instead\n"
          ]
        },
        {
          "output_type": "stream",
          "name": "stdout",
          "text": [
            "              precision    recall  f1-score   support\n",
            "\n",
            "     AGAINST       0.66      0.94      0.78       183\n",
            "       FAVOR       0.40      0.17      0.24        58\n",
            "\n",
            "   micro avg       0.64      0.76      0.69       241\n",
            "   macro avg       0.53      0.56      0.51       241\n",
            "weighted avg       0.60      0.76      0.65       241\n",
            "\n",
            "Elapsed time0.45183900000000676seconds\n",
            "Iteration: 6\n"
          ]
        },
        {
          "output_type": "stream",
          "name": "stderr",
          "text": [
            "/usr/local/lib/python3.7/dist-packages/ipykernel_launcher.py:56: DeprecationWarning: time.clock has been deprecated in Python 3.3 and will be removed from Python 3.8: use time.perf_counter or time.process_time instead\n",
            "/usr/local/lib/python3.7/dist-packages/ipykernel_launcher.py:45: DeprecationWarning: time.clock has been deprecated in Python 3.3 and will be removed from Python 3.8: use time.perf_counter or time.process_time instead\n"
          ]
        },
        {
          "output_type": "stream",
          "name": "stdout",
          "text": [
            "              precision    recall  f1-score   support\n",
            "\n",
            "     AGAINST       0.66      0.92      0.77       183\n",
            "       FAVOR       0.34      0.17      0.23        58\n",
            "\n",
            "   micro avg       0.62      0.74      0.68       241\n",
            "   macro avg       0.50      0.55      0.50       241\n",
            "weighted avg       0.58      0.74      0.64       241\n",
            "\n",
            "Elapsed time0.47196700000000646seconds\n",
            "Iteration: 7\n"
          ]
        },
        {
          "output_type": "stream",
          "name": "stderr",
          "text": [
            "/usr/local/lib/python3.7/dist-packages/ipykernel_launcher.py:56: DeprecationWarning: time.clock has been deprecated in Python 3.3 and will be removed from Python 3.8: use time.perf_counter or time.process_time instead\n",
            "/usr/local/lib/python3.7/dist-packages/ipykernel_launcher.py:45: DeprecationWarning: time.clock has been deprecated in Python 3.3 and will be removed from Python 3.8: use time.perf_counter or time.process_time instead\n"
          ]
        },
        {
          "output_type": "stream",
          "name": "stdout",
          "text": [
            "              precision    recall  f1-score   support\n",
            "\n",
            "     AGAINST       0.67      0.91      0.77       183\n",
            "       FAVOR       0.37      0.24      0.29        58\n",
            "\n",
            "   micro avg       0.63      0.75      0.68       241\n",
            "   macro avg       0.52      0.57      0.53       241\n",
            "weighted avg       0.60      0.75      0.66       241\n",
            "\n",
            "Elapsed time0.4597210000000018seconds\n",
            "Iteration: 8\n"
          ]
        },
        {
          "output_type": "stream",
          "name": "stderr",
          "text": [
            "/usr/local/lib/python3.7/dist-packages/ipykernel_launcher.py:56: DeprecationWarning: time.clock has been deprecated in Python 3.3 and will be removed from Python 3.8: use time.perf_counter or time.process_time instead\n",
            "/usr/local/lib/python3.7/dist-packages/ipykernel_launcher.py:45: DeprecationWarning: time.clock has been deprecated in Python 3.3 and will be removed from Python 3.8: use time.perf_counter or time.process_time instead\n"
          ]
        },
        {
          "output_type": "stream",
          "name": "stdout",
          "text": [
            "              precision    recall  f1-score   support\n",
            "\n",
            "     AGAINST       0.68      0.90      0.78       183\n",
            "       FAVOR       0.38      0.29      0.33        58\n",
            "\n",
            "   micro avg       0.64      0.75      0.69       241\n",
            "   macro avg       0.53      0.59      0.55       241\n",
            "weighted avg       0.61      0.75      0.67       241\n",
            "\n",
            "Elapsed time0.4802050000000122seconds\n",
            "Iteration: 9\n"
          ]
        },
        {
          "output_type": "stream",
          "name": "stderr",
          "text": [
            "/usr/local/lib/python3.7/dist-packages/ipykernel_launcher.py:56: DeprecationWarning: time.clock has been deprecated in Python 3.3 and will be removed from Python 3.8: use time.perf_counter or time.process_time instead\n",
            "/usr/local/lib/python3.7/dist-packages/ipykernel_launcher.py:45: DeprecationWarning: time.clock has been deprecated in Python 3.3 and will be removed from Python 3.8: use time.perf_counter or time.process_time instead\n"
          ]
        },
        {
          "output_type": "stream",
          "name": "stdout",
          "text": [
            "              precision    recall  f1-score   support\n",
            "\n",
            "     AGAINST       0.68      0.88      0.77       183\n",
            "       FAVOR       0.35      0.29      0.32        58\n",
            "\n",
            "   micro avg       0.62      0.74      0.68       241\n",
            "   macro avg       0.51      0.59      0.54       241\n",
            "weighted avg       0.60      0.74      0.66       241\n",
            "\n",
            "Elapsed time0.4793000000000234seconds\n",
            "Iteration: 10\n"
          ]
        },
        {
          "output_type": "stream",
          "name": "stderr",
          "text": [
            "/usr/local/lib/python3.7/dist-packages/ipykernel_launcher.py:56: DeprecationWarning: time.clock has been deprecated in Python 3.3 and will be removed from Python 3.8: use time.perf_counter or time.process_time instead\n",
            "/usr/local/lib/python3.7/dist-packages/ipykernel_launcher.py:45: DeprecationWarning: time.clock has been deprecated in Python 3.3 and will be removed from Python 3.8: use time.perf_counter or time.process_time instead\n"
          ]
        },
        {
          "output_type": "stream",
          "name": "stdout",
          "text": [
            "              precision    recall  f1-score   support\n",
            "\n",
            "     AGAINST       0.68      0.86      0.76       183\n",
            "       FAVOR       0.35      0.33      0.34        58\n",
            "\n",
            "   micro avg       0.62      0.73      0.67       241\n",
            "   macro avg       0.51      0.59      0.55       241\n",
            "weighted avg       0.60      0.73      0.66       241\n",
            "\n",
            "Elapsed time0.4725090000000023seconds\n",
            "Iteration: 11\n"
          ]
        },
        {
          "output_type": "stream",
          "name": "stderr",
          "text": [
            "/usr/local/lib/python3.7/dist-packages/ipykernel_launcher.py:56: DeprecationWarning: time.clock has been deprecated in Python 3.3 and will be removed from Python 3.8: use time.perf_counter or time.process_time instead\n",
            "/usr/local/lib/python3.7/dist-packages/ipykernel_launcher.py:45: DeprecationWarning: time.clock has been deprecated in Python 3.3 and will be removed from Python 3.8: use time.perf_counter or time.process_time instead\n"
          ]
        },
        {
          "output_type": "stream",
          "name": "stdout",
          "text": [
            "              precision    recall  f1-score   support\n",
            "\n",
            "     AGAINST       0.69      0.86      0.77       183\n",
            "       FAVOR       0.40      0.40      0.40        58\n",
            "\n",
            "   micro avg       0.63      0.75      0.69       241\n",
            "   macro avg       0.55      0.63      0.58       241\n",
            "weighted avg       0.62      0.75      0.68       241\n",
            "\n",
            "Elapsed time0.46632099999999355seconds\n",
            "Iteration: 12\n"
          ]
        },
        {
          "output_type": "stream",
          "name": "stderr",
          "text": [
            "/usr/local/lib/python3.7/dist-packages/ipykernel_launcher.py:56: DeprecationWarning: time.clock has been deprecated in Python 3.3 and will be removed from Python 3.8: use time.perf_counter or time.process_time instead\n",
            "/usr/local/lib/python3.7/dist-packages/ipykernel_launcher.py:45: DeprecationWarning: time.clock has been deprecated in Python 3.3 and will be removed from Python 3.8: use time.perf_counter or time.process_time instead\n"
          ]
        },
        {
          "output_type": "stream",
          "name": "stdout",
          "text": [
            "              precision    recall  f1-score   support\n",
            "\n",
            "     AGAINST       0.70      0.85      0.77       183\n",
            "       FAVOR       0.40      0.43      0.41        58\n",
            "\n",
            "   micro avg       0.63      0.75      0.69       241\n",
            "   macro avg       0.55      0.64      0.59       241\n",
            "weighted avg       0.63      0.75      0.68       241\n",
            "\n",
            "Elapsed time0.4623320000000035seconds\n",
            "Iteration: 13\n"
          ]
        },
        {
          "output_type": "stream",
          "name": "stderr",
          "text": [
            "/usr/local/lib/python3.7/dist-packages/ipykernel_launcher.py:56: DeprecationWarning: time.clock has been deprecated in Python 3.3 and will be removed from Python 3.8: use time.perf_counter or time.process_time instead\n",
            "/usr/local/lib/python3.7/dist-packages/ipykernel_launcher.py:45: DeprecationWarning: time.clock has been deprecated in Python 3.3 and will be removed from Python 3.8: use time.perf_counter or time.process_time instead\n"
          ]
        },
        {
          "output_type": "stream",
          "name": "stdout",
          "text": [
            "              precision    recall  f1-score   support\n",
            "\n",
            "     AGAINST       0.70      0.85      0.77       183\n",
            "       FAVOR       0.41      0.45      0.43        58\n",
            "\n",
            "   micro avg       0.64      0.75      0.69       241\n",
            "   macro avg       0.56      0.65      0.60       241\n",
            "weighted avg       0.63      0.75      0.69       241\n",
            "\n",
            "Elapsed time0.47347100000001774seconds\n",
            "Iteration: 14\n"
          ]
        },
        {
          "output_type": "stream",
          "name": "stderr",
          "text": [
            "/usr/local/lib/python3.7/dist-packages/ipykernel_launcher.py:56: DeprecationWarning: time.clock has been deprecated in Python 3.3 and will be removed from Python 3.8: use time.perf_counter or time.process_time instead\n",
            "/usr/local/lib/python3.7/dist-packages/ipykernel_launcher.py:45: DeprecationWarning: time.clock has been deprecated in Python 3.3 and will be removed from Python 3.8: use time.perf_counter or time.process_time instead\n"
          ]
        },
        {
          "output_type": "stream",
          "name": "stdout",
          "text": [
            "              precision    recall  f1-score   support\n",
            "\n",
            "     AGAINST       0.70      0.84      0.77       183\n",
            "       FAVOR       0.39      0.43      0.41        58\n",
            "\n",
            "   micro avg       0.63      0.74      0.68       241\n",
            "   macro avg       0.55      0.64      0.59       241\n",
            "weighted avg       0.63      0.74      0.68       241\n",
            "\n",
            "Elapsed time0.4532029999999736seconds\n",
            "Iteration: 15\n"
          ]
        },
        {
          "output_type": "stream",
          "name": "stderr",
          "text": [
            "/usr/local/lib/python3.7/dist-packages/ipykernel_launcher.py:56: DeprecationWarning: time.clock has been deprecated in Python 3.3 and will be removed from Python 3.8: use time.perf_counter or time.process_time instead\n",
            "/usr/local/lib/python3.7/dist-packages/ipykernel_launcher.py:45: DeprecationWarning: time.clock has been deprecated in Python 3.3 and will be removed from Python 3.8: use time.perf_counter or time.process_time instead\n"
          ]
        },
        {
          "output_type": "stream",
          "name": "stdout",
          "text": [
            "              precision    recall  f1-score   support\n",
            "\n",
            "     AGAINST       0.71      0.84      0.77       183\n",
            "       FAVOR       0.39      0.45      0.42        58\n",
            "\n",
            "   micro avg       0.64      0.75      0.69       241\n",
            "   macro avg       0.55      0.64      0.59       241\n",
            "weighted avg       0.63      0.75      0.69       241\n",
            "\n",
            "Elapsed time0.4534680000000435seconds\n",
            "Iteration: 16\n"
          ]
        },
        {
          "output_type": "stream",
          "name": "stderr",
          "text": [
            "/usr/local/lib/python3.7/dist-packages/ipykernel_launcher.py:56: DeprecationWarning: time.clock has been deprecated in Python 3.3 and will be removed from Python 3.8: use time.perf_counter or time.process_time instead\n",
            "/usr/local/lib/python3.7/dist-packages/ipykernel_launcher.py:45: DeprecationWarning: time.clock has been deprecated in Python 3.3 and will be removed from Python 3.8: use time.perf_counter or time.process_time instead\n"
          ]
        },
        {
          "output_type": "stream",
          "name": "stdout",
          "text": [
            "              precision    recall  f1-score   support\n",
            "\n",
            "     AGAINST       0.72      0.83      0.77       183\n",
            "       FAVOR       0.39      0.48      0.43        58\n",
            "\n",
            "   micro avg       0.63      0.74      0.68       241\n",
            "   macro avg       0.55      0.65      0.60       241\n",
            "weighted avg       0.64      0.74      0.69       241\n",
            "\n",
            "Elapsed time0.45351199999998926seconds\n",
            "Iteration: 17\n"
          ]
        },
        {
          "output_type": "stream",
          "name": "stderr",
          "text": [
            "/usr/local/lib/python3.7/dist-packages/ipykernel_launcher.py:56: DeprecationWarning: time.clock has been deprecated in Python 3.3 and will be removed from Python 3.8: use time.perf_counter or time.process_time instead\n",
            "/usr/local/lib/python3.7/dist-packages/ipykernel_launcher.py:45: DeprecationWarning: time.clock has been deprecated in Python 3.3 and will be removed from Python 3.8: use time.perf_counter or time.process_time instead\n"
          ]
        },
        {
          "output_type": "stream",
          "name": "stdout",
          "text": [
            "              precision    recall  f1-score   support\n",
            "\n",
            "     AGAINST       0.73      0.82      0.77       183\n",
            "       FAVOR       0.41      0.53      0.46        58\n",
            "\n",
            "   micro avg       0.64      0.75      0.69       241\n",
            "   macro avg       0.57      0.68      0.62       241\n",
            "weighted avg       0.65      0.75      0.70       241\n",
            "\n",
            "Elapsed time0.46401300000002266seconds\n",
            "Iteration: 18\n"
          ]
        },
        {
          "output_type": "stream",
          "name": "stderr",
          "text": [
            "/usr/local/lib/python3.7/dist-packages/ipykernel_launcher.py:56: DeprecationWarning: time.clock has been deprecated in Python 3.3 and will be removed from Python 3.8: use time.perf_counter or time.process_time instead\n",
            "/usr/local/lib/python3.7/dist-packages/ipykernel_launcher.py:45: DeprecationWarning: time.clock has been deprecated in Python 3.3 and will be removed from Python 3.8: use time.perf_counter or time.process_time instead\n"
          ]
        },
        {
          "output_type": "stream",
          "name": "stdout",
          "text": [
            "              precision    recall  f1-score   support\n",
            "\n",
            "     AGAINST       0.73      0.81      0.77       183\n",
            "       FAVOR       0.40      0.53      0.46        58\n",
            "\n",
            "   micro avg       0.64      0.75      0.69       241\n",
            "   macro avg       0.56      0.67      0.61       241\n",
            "weighted avg       0.65      0.75      0.69       241\n",
            "\n",
            "Elapsed time0.46658899999999903seconds\n",
            "Iteration: 19\n"
          ]
        },
        {
          "output_type": "stream",
          "name": "stderr",
          "text": [
            "/usr/local/lib/python3.7/dist-packages/ipykernel_launcher.py:56: DeprecationWarning: time.clock has been deprecated in Python 3.3 and will be removed from Python 3.8: use time.perf_counter or time.process_time instead\n",
            "/usr/local/lib/python3.7/dist-packages/ipykernel_launcher.py:45: DeprecationWarning: time.clock has been deprecated in Python 3.3 and will be removed from Python 3.8: use time.perf_counter or time.process_time instead\n"
          ]
        },
        {
          "output_type": "stream",
          "name": "stdout",
          "text": [
            "              precision    recall  f1-score   support\n",
            "\n",
            "     AGAINST       0.74      0.82      0.78       183\n",
            "       FAVOR       0.42      0.55      0.47        58\n",
            "\n",
            "   micro avg       0.65      0.76      0.70       241\n",
            "   macro avg       0.58      0.69      0.63       241\n",
            "weighted avg       0.66      0.76      0.70       241\n",
            "\n",
            "Elapsed time0.4615699999999947seconds\n"
          ]
        },
        {
          "output_type": "stream",
          "name": "stderr",
          "text": [
            "/usr/local/lib/python3.7/dist-packages/ipykernel_launcher.py:56: DeprecationWarning: time.clock has been deprecated in Python 3.3 and will be removed from Python 3.8: use time.perf_counter or time.process_time instead\n"
          ]
        }
      ]
    },
    {
      "cell_type": "code",
      "metadata": {
        "id": "noB8ldyTPJ8m",
        "colab": {
          "base_uri": "https://localhost:8080/"
        },
        "outputId": "1d624bb0-563e-4eb7-830b-0c6f15cb1319"
      },
      "source": [
        "nlp = train_spacy(training_data, 20, test_texts, test_cats, \"simple_cnn\")"
      ],
      "execution_count": 50,
      "outputs": [
        {
          "output_type": "stream",
          "name": "stdout",
          "text": [
            "Training the model...\n",
            "LOSS \t  P  \t  R  \t  F  \n",
            "Iteration: 0\n"
          ]
        },
        {
          "output_type": "stream",
          "name": "stderr",
          "text": [
            "/usr/local/lib/python3.7/dist-packages/ipykernel_launcher.py:45: DeprecationWarning: time.clock has been deprecated in Python 3.3 and will be removed from Python 3.8: use time.perf_counter or time.process_time instead\n",
            "/usr/local/lib/python3.7/dist-packages/sklearn/metrics/_classification.py:1318: UndefinedMetricWarning: Precision and F-score are ill-defined and being set to 0.0 in labels with no predicted samples. Use `zero_division` parameter to control this behavior.\n",
            "  _warn_prf(average, modifier, msg_start, len(result))\n",
            "/usr/local/lib/python3.7/dist-packages/sklearn/metrics/_classification.py:1318: UndefinedMetricWarning: Precision and F-score are ill-defined and being set to 0.0 in labels with no predicted samples. Use `zero_division` parameter to control this behavior.\n",
            "  _warn_prf(average, modifier, msg_start, len(result))\n",
            "/usr/local/lib/python3.7/dist-packages/sklearn/metrics/_classification.py:1318: UndefinedMetricWarning: Precision and F-score are ill-defined and being set to 0.0 in labels with no predicted samples. Use `zero_division` parameter to control this behavior.\n",
            "  _warn_prf(average, modifier, msg_start, len(result))\n",
            "/usr/local/lib/python3.7/dist-packages/ipykernel_launcher.py:56: DeprecationWarning: time.clock has been deprecated in Python 3.3 and will be removed from Python 3.8: use time.perf_counter or time.process_time instead\n",
            "/usr/local/lib/python3.7/dist-packages/ipykernel_launcher.py:45: DeprecationWarning: time.clock has been deprecated in Python 3.3 and will be removed from Python 3.8: use time.perf_counter or time.process_time instead\n"
          ]
        },
        {
          "output_type": "stream",
          "name": "stdout",
          "text": [
            "              precision    recall  f1-score   support\n",
            "\n",
            "     AGAINST       0.64      1.00      0.78       183\n",
            "       FAVOR       0.00      0.00      0.00        58\n",
            "\n",
            "   micro avg       0.64      0.76      0.70       241\n",
            "   macro avg       0.32      0.50      0.39       241\n",
            "weighted avg       0.49      0.76      0.59       241\n",
            "\n",
            "Elapsed time2.640264000000002seconds\n",
            "Iteration: 1\n",
            "              precision    recall  f1-score   support\n",
            "\n",
            "     AGAINST       0.65      0.92      0.76       183\n",
            "       FAVOR       0.16      0.07      0.10        58\n",
            "\n",
            "   micro avg       0.61      0.72      0.66       241\n",
            "   macro avg       0.41      0.50      0.43       241\n",
            "weighted avg       0.53      0.72      0.60       241\n",
            "\n",
            "Elapsed time2.7376010000000406seconds\n",
            "Iteration: 2\n"
          ]
        },
        {
          "output_type": "stream",
          "name": "stderr",
          "text": [
            "/usr/local/lib/python3.7/dist-packages/ipykernel_launcher.py:56: DeprecationWarning: time.clock has been deprecated in Python 3.3 and will be removed from Python 3.8: use time.perf_counter or time.process_time instead\n",
            "/usr/local/lib/python3.7/dist-packages/ipykernel_launcher.py:45: DeprecationWarning: time.clock has been deprecated in Python 3.3 and will be removed from Python 3.8: use time.perf_counter or time.process_time instead\n"
          ]
        },
        {
          "output_type": "stream",
          "name": "stdout",
          "text": [
            "              precision    recall  f1-score   support\n",
            "\n",
            "     AGAINST       0.66      0.80      0.72       183\n",
            "       FAVOR       0.21      0.22      0.22        58\n",
            "\n",
            "   micro avg       0.56      0.66      0.61       241\n",
            "   macro avg       0.44      0.51      0.47       241\n",
            "weighted avg       0.55      0.66      0.60       241\n",
            "\n",
            "Elapsed time2.7256909999999834seconds\n",
            "Iteration: 3\n"
          ]
        },
        {
          "output_type": "stream",
          "name": "stderr",
          "text": [
            "/usr/local/lib/python3.7/dist-packages/ipykernel_launcher.py:56: DeprecationWarning: time.clock has been deprecated in Python 3.3 and will be removed from Python 3.8: use time.perf_counter or time.process_time instead\n",
            "/usr/local/lib/python3.7/dist-packages/ipykernel_launcher.py:45: DeprecationWarning: time.clock has been deprecated in Python 3.3 and will be removed from Python 3.8: use time.perf_counter or time.process_time instead\n"
          ]
        },
        {
          "output_type": "stream",
          "name": "stdout",
          "text": [
            "              precision    recall  f1-score   support\n",
            "\n",
            "     AGAINST       0.71      0.65      0.68       183\n",
            "       FAVOR       0.29      0.55      0.38        58\n",
            "\n",
            "   micro avg       0.54      0.63      0.58       241\n",
            "   macro avg       0.50      0.60      0.53       241\n",
            "weighted avg       0.61      0.63      0.61       241\n",
            "\n",
            "Elapsed time2.730004000000008seconds\n",
            "Iteration: 4\n"
          ]
        },
        {
          "output_type": "stream",
          "name": "stderr",
          "text": [
            "/usr/local/lib/python3.7/dist-packages/ipykernel_launcher.py:56: DeprecationWarning: time.clock has been deprecated in Python 3.3 and will be removed from Python 3.8: use time.perf_counter or time.process_time instead\n",
            "/usr/local/lib/python3.7/dist-packages/ipykernel_launcher.py:45: DeprecationWarning: time.clock has been deprecated in Python 3.3 and will be removed from Python 3.8: use time.perf_counter or time.process_time instead\n"
          ]
        },
        {
          "output_type": "stream",
          "name": "stdout",
          "text": [
            "              precision    recall  f1-score   support\n",
            "\n",
            "     AGAINST       0.74      0.63      0.68       183\n",
            "       FAVOR       0.30      0.45      0.36        58\n",
            "\n",
            "   micro avg       0.58      0.59      0.58       241\n",
            "   macro avg       0.52      0.54      0.52       241\n",
            "weighted avg       0.63      0.59      0.60       241\n",
            "\n",
            "Elapsed time2.774460999999974seconds\n",
            "Iteration: 5\n"
          ]
        },
        {
          "output_type": "stream",
          "name": "stderr",
          "text": [
            "/usr/local/lib/python3.7/dist-packages/ipykernel_launcher.py:56: DeprecationWarning: time.clock has been deprecated in Python 3.3 and will be removed from Python 3.8: use time.perf_counter or time.process_time instead\n",
            "/usr/local/lib/python3.7/dist-packages/ipykernel_launcher.py:45: DeprecationWarning: time.clock has been deprecated in Python 3.3 and will be removed from Python 3.8: use time.perf_counter or time.process_time instead\n"
          ]
        },
        {
          "output_type": "stream",
          "name": "stdout",
          "text": [
            "              precision    recall  f1-score   support\n",
            "\n",
            "     AGAINST       0.75      0.64      0.69       183\n",
            "       FAVOR       0.29      0.45      0.35        58\n",
            "\n",
            "   micro avg       0.58      0.59      0.59       241\n",
            "   macro avg       0.52      0.54      0.52       241\n",
            "weighted avg       0.64      0.59      0.61       241\n",
            "\n",
            "Elapsed time2.7664309999999546seconds\n",
            "Iteration: 6\n"
          ]
        },
        {
          "output_type": "stream",
          "name": "stderr",
          "text": [
            "/usr/local/lib/python3.7/dist-packages/ipykernel_launcher.py:56: DeprecationWarning: time.clock has been deprecated in Python 3.3 and will be removed from Python 3.8: use time.perf_counter or time.process_time instead\n",
            "/usr/local/lib/python3.7/dist-packages/ipykernel_launcher.py:45: DeprecationWarning: time.clock has been deprecated in Python 3.3 and will be removed from Python 3.8: use time.perf_counter or time.process_time instead\n"
          ]
        },
        {
          "output_type": "stream",
          "name": "stdout",
          "text": [
            "              precision    recall  f1-score   support\n",
            "\n",
            "     AGAINST       0.73      0.63      0.68       183\n",
            "       FAVOR       0.32      0.52      0.40        58\n",
            "\n",
            "   micro avg       0.58      0.61      0.59       241\n",
            "   macro avg       0.53      0.58      0.54       241\n",
            "weighted avg       0.63      0.61      0.61       241\n",
            "\n",
            "Elapsed time2.746117999999967seconds\n",
            "Iteration: 7\n"
          ]
        },
        {
          "output_type": "stream",
          "name": "stderr",
          "text": [
            "/usr/local/lib/python3.7/dist-packages/ipykernel_launcher.py:56: DeprecationWarning: time.clock has been deprecated in Python 3.3 and will be removed from Python 3.8: use time.perf_counter or time.process_time instead\n",
            "/usr/local/lib/python3.7/dist-packages/ipykernel_launcher.py:45: DeprecationWarning: time.clock has been deprecated in Python 3.3 and will be removed from Python 3.8: use time.perf_counter or time.process_time instead\n"
          ]
        },
        {
          "output_type": "stream",
          "name": "stdout",
          "text": [
            "              precision    recall  f1-score   support\n",
            "\n",
            "     AGAINST       0.72      0.67      0.69       183\n",
            "       FAVOR       0.32      0.50      0.39        58\n",
            "\n",
            "   micro avg       0.58      0.63      0.60       241\n",
            "   macro avg       0.52      0.58      0.54       241\n",
            "weighted avg       0.62      0.63      0.62       241\n",
            "\n",
            "Elapsed time2.6709769999999935seconds\n",
            "Iteration: 8\n"
          ]
        },
        {
          "output_type": "stream",
          "name": "stderr",
          "text": [
            "/usr/local/lib/python3.7/dist-packages/ipykernel_launcher.py:56: DeprecationWarning: time.clock has been deprecated in Python 3.3 and will be removed from Python 3.8: use time.perf_counter or time.process_time instead\n",
            "/usr/local/lib/python3.7/dist-packages/ipykernel_launcher.py:45: DeprecationWarning: time.clock has been deprecated in Python 3.3 and will be removed from Python 3.8: use time.perf_counter or time.process_time instead\n"
          ]
        },
        {
          "output_type": "stream",
          "name": "stdout",
          "text": [
            "              precision    recall  f1-score   support\n",
            "\n",
            "     AGAINST       0.74      0.62      0.67       183\n",
            "       FAVOR       0.32      0.57      0.41        58\n",
            "\n",
            "   micro avg       0.57      0.61      0.59       241\n",
            "   macro avg       0.53      0.60      0.54       241\n",
            "weighted avg       0.64      0.61      0.61       241\n",
            "\n",
            "Elapsed time1.8595980000000054seconds\n",
            "Iteration: 9\n"
          ]
        },
        {
          "output_type": "stream",
          "name": "stderr",
          "text": [
            "/usr/local/lib/python3.7/dist-packages/ipykernel_launcher.py:56: DeprecationWarning: time.clock has been deprecated in Python 3.3 and will be removed from Python 3.8: use time.perf_counter or time.process_time instead\n",
            "/usr/local/lib/python3.7/dist-packages/ipykernel_launcher.py:45: DeprecationWarning: time.clock has been deprecated in Python 3.3 and will be removed from Python 3.8: use time.perf_counter or time.process_time instead\n"
          ]
        },
        {
          "output_type": "stream",
          "name": "stdout",
          "text": [
            "              precision    recall  f1-score   support\n",
            "\n",
            "     AGAINST       0.72      0.63      0.67       183\n",
            "       FAVOR       0.33      0.57      0.42        58\n",
            "\n",
            "   micro avg       0.57      0.61      0.59       241\n",
            "   macro avg       0.53      0.60      0.55       241\n",
            "weighted avg       0.63      0.61      0.61       241\n",
            "\n",
            "Elapsed time1.8555989999999838seconds\n",
            "Iteration: 10\n"
          ]
        },
        {
          "output_type": "stream",
          "name": "stderr",
          "text": [
            "/usr/local/lib/python3.7/dist-packages/ipykernel_launcher.py:56: DeprecationWarning: time.clock has been deprecated in Python 3.3 and will be removed from Python 3.8: use time.perf_counter or time.process_time instead\n",
            "/usr/local/lib/python3.7/dist-packages/ipykernel_launcher.py:45: DeprecationWarning: time.clock has been deprecated in Python 3.3 and will be removed from Python 3.8: use time.perf_counter or time.process_time instead\n"
          ]
        },
        {
          "output_type": "stream",
          "name": "stdout",
          "text": [
            "              precision    recall  f1-score   support\n",
            "\n",
            "     AGAINST       0.73      0.62      0.67       183\n",
            "       FAVOR       0.34      0.62      0.44        58\n",
            "\n",
            "   micro avg       0.57      0.62      0.59       241\n",
            "   macro avg       0.53      0.62      0.55       241\n",
            "weighted avg       0.63      0.62      0.61       241\n",
            "\n",
            "Elapsed time1.8774980000000028seconds\n",
            "Iteration: 11\n"
          ]
        },
        {
          "output_type": "stream",
          "name": "stderr",
          "text": [
            "/usr/local/lib/python3.7/dist-packages/ipykernel_launcher.py:56: DeprecationWarning: time.clock has been deprecated in Python 3.3 and will be removed from Python 3.8: use time.perf_counter or time.process_time instead\n",
            "/usr/local/lib/python3.7/dist-packages/ipykernel_launcher.py:45: DeprecationWarning: time.clock has been deprecated in Python 3.3 and will be removed from Python 3.8: use time.perf_counter or time.process_time instead\n"
          ]
        },
        {
          "output_type": "stream",
          "name": "stdout",
          "text": [
            "              precision    recall  f1-score   support\n",
            "\n",
            "     AGAINST       0.73      0.60      0.66       183\n",
            "       FAVOR       0.32      0.59      0.41        58\n",
            "\n",
            "   micro avg       0.56      0.60      0.58       241\n",
            "   macro avg       0.52      0.59      0.54       241\n",
            "weighted avg       0.63      0.60      0.60       241\n",
            "\n",
            "Elapsed time1.8792040000000156seconds\n",
            "Iteration: 12\n"
          ]
        },
        {
          "output_type": "stream",
          "name": "stderr",
          "text": [
            "/usr/local/lib/python3.7/dist-packages/ipykernel_launcher.py:56: DeprecationWarning: time.clock has been deprecated in Python 3.3 and will be removed from Python 3.8: use time.perf_counter or time.process_time instead\n",
            "/usr/local/lib/python3.7/dist-packages/ipykernel_launcher.py:45: DeprecationWarning: time.clock has been deprecated in Python 3.3 and will be removed from Python 3.8: use time.perf_counter or time.process_time instead\n"
          ]
        },
        {
          "output_type": "stream",
          "name": "stdout",
          "text": [
            "              precision    recall  f1-score   support\n",
            "\n",
            "     AGAINST       0.74      0.61      0.66       183\n",
            "       FAVOR       0.33      0.60      0.43        58\n",
            "\n",
            "   micro avg       0.57      0.61      0.59       241\n",
            "   macro avg       0.53      0.61      0.55       241\n",
            "weighted avg       0.64      0.61      0.61       241\n",
            "\n",
            "Elapsed time1.8491149999999834seconds\n",
            "Iteration: 13\n"
          ]
        },
        {
          "output_type": "stream",
          "name": "stderr",
          "text": [
            "/usr/local/lib/python3.7/dist-packages/ipykernel_launcher.py:56: DeprecationWarning: time.clock has been deprecated in Python 3.3 and will be removed from Python 3.8: use time.perf_counter or time.process_time instead\n",
            "/usr/local/lib/python3.7/dist-packages/ipykernel_launcher.py:45: DeprecationWarning: time.clock has been deprecated in Python 3.3 and will be removed from Python 3.8: use time.perf_counter or time.process_time instead\n"
          ]
        },
        {
          "output_type": "stream",
          "name": "stdout",
          "text": [
            "              precision    recall  f1-score   support\n",
            "\n",
            "     AGAINST       0.72      0.61      0.66       183\n",
            "       FAVOR       0.33      0.59      0.42        58\n",
            "\n",
            "   micro avg       0.56      0.60      0.58       241\n",
            "   macro avg       0.52      0.60      0.54       241\n",
            "weighted avg       0.63      0.60      0.60       241\n",
            "\n",
            "Elapsed time1.8863810000000285seconds\n",
            "Iteration: 14\n"
          ]
        },
        {
          "output_type": "stream",
          "name": "stderr",
          "text": [
            "/usr/local/lib/python3.7/dist-packages/ipykernel_launcher.py:56: DeprecationWarning: time.clock has been deprecated in Python 3.3 and will be removed from Python 3.8: use time.perf_counter or time.process_time instead\n",
            "/usr/local/lib/python3.7/dist-packages/ipykernel_launcher.py:45: DeprecationWarning: time.clock has been deprecated in Python 3.3 and will be removed from Python 3.8: use time.perf_counter or time.process_time instead\n"
          ]
        },
        {
          "output_type": "stream",
          "name": "stdout",
          "text": [
            "              precision    recall  f1-score   support\n",
            "\n",
            "     AGAINST       0.74      0.60      0.66       183\n",
            "       FAVOR       0.32      0.60      0.42        58\n",
            "\n",
            "   micro avg       0.57      0.60      0.58       241\n",
            "   macro avg       0.53      0.60      0.54       241\n",
            "weighted avg       0.64      0.60      0.61       241\n",
            "\n",
            "Elapsed time1.7969899999999939seconds\n",
            "Iteration: 15\n"
          ]
        },
        {
          "output_type": "stream",
          "name": "stderr",
          "text": [
            "/usr/local/lib/python3.7/dist-packages/ipykernel_launcher.py:56: DeprecationWarning: time.clock has been deprecated in Python 3.3 and will be removed from Python 3.8: use time.perf_counter or time.process_time instead\n",
            "/usr/local/lib/python3.7/dist-packages/ipykernel_launcher.py:45: DeprecationWarning: time.clock has been deprecated in Python 3.3 and will be removed from Python 3.8: use time.perf_counter or time.process_time instead\n"
          ]
        },
        {
          "output_type": "stream",
          "name": "stdout",
          "text": [
            "              precision    recall  f1-score   support\n",
            "\n",
            "     AGAINST       0.74      0.60      0.66       183\n",
            "       FAVOR       0.31      0.60      0.41        58\n",
            "\n",
            "   micro avg       0.56      0.60      0.58       241\n",
            "   macro avg       0.53      0.60      0.54       241\n",
            "weighted avg       0.64      0.60      0.60       241\n",
            "\n",
            "Elapsed time1.8241870000000517seconds\n",
            "Iteration: 16\n"
          ]
        },
        {
          "output_type": "stream",
          "name": "stderr",
          "text": [
            "/usr/local/lib/python3.7/dist-packages/ipykernel_launcher.py:56: DeprecationWarning: time.clock has been deprecated in Python 3.3 and will be removed from Python 3.8: use time.perf_counter or time.process_time instead\n",
            "/usr/local/lib/python3.7/dist-packages/ipykernel_launcher.py:45: DeprecationWarning: time.clock has been deprecated in Python 3.3 and will be removed from Python 3.8: use time.perf_counter or time.process_time instead\n"
          ]
        },
        {
          "output_type": "stream",
          "name": "stdout",
          "text": [
            "              precision    recall  f1-score   support\n",
            "\n",
            "     AGAINST       0.74      0.61      0.67       183\n",
            "       FAVOR       0.32      0.60      0.42        58\n",
            "\n",
            "   micro avg       0.56      0.61      0.59       241\n",
            "   macro avg       0.53      0.61      0.54       241\n",
            "weighted avg       0.64      0.61      0.61       241\n",
            "\n",
            "Elapsed time1.8247279999999932seconds\n",
            "Iteration: 17\n"
          ]
        },
        {
          "output_type": "stream",
          "name": "stderr",
          "text": [
            "/usr/local/lib/python3.7/dist-packages/ipykernel_launcher.py:56: DeprecationWarning: time.clock has been deprecated in Python 3.3 and will be removed from Python 3.8: use time.perf_counter or time.process_time instead\n",
            "/usr/local/lib/python3.7/dist-packages/ipykernel_launcher.py:45: DeprecationWarning: time.clock has been deprecated in Python 3.3 and will be removed from Python 3.8: use time.perf_counter or time.process_time instead\n"
          ]
        },
        {
          "output_type": "stream",
          "name": "stdout",
          "text": [
            "              precision    recall  f1-score   support\n",
            "\n",
            "     AGAINST       0.73      0.62      0.67       183\n",
            "       FAVOR       0.32      0.57      0.41        58\n",
            "\n",
            "   micro avg       0.57      0.61      0.59       241\n",
            "   macro avg       0.53      0.60      0.54       241\n",
            "weighted avg       0.63      0.61      0.61       241\n",
            "\n",
            "Elapsed time1.8373759999999493seconds\n",
            "Iteration: 18\n"
          ]
        },
        {
          "output_type": "stream",
          "name": "stderr",
          "text": [
            "/usr/local/lib/python3.7/dist-packages/ipykernel_launcher.py:56: DeprecationWarning: time.clock has been deprecated in Python 3.3 and will be removed from Python 3.8: use time.perf_counter or time.process_time instead\n",
            "/usr/local/lib/python3.7/dist-packages/ipykernel_launcher.py:45: DeprecationWarning: time.clock has been deprecated in Python 3.3 and will be removed from Python 3.8: use time.perf_counter or time.process_time instead\n"
          ]
        },
        {
          "output_type": "stream",
          "name": "stdout",
          "text": [
            "              precision    recall  f1-score   support\n",
            "\n",
            "     AGAINST       0.74      0.62      0.67       183\n",
            "       FAVOR       0.32      0.59      0.41        58\n",
            "\n",
            "   micro avg       0.57      0.61      0.59       241\n",
            "   macro avg       0.53      0.60      0.54       241\n",
            "weighted avg       0.64      0.61      0.61       241\n",
            "\n",
            "Elapsed time1.848854000000017seconds\n",
            "Iteration: 19\n"
          ]
        },
        {
          "output_type": "stream",
          "name": "stderr",
          "text": [
            "/usr/local/lib/python3.7/dist-packages/ipykernel_launcher.py:56: DeprecationWarning: time.clock has been deprecated in Python 3.3 and will be removed from Python 3.8: use time.perf_counter or time.process_time instead\n",
            "/usr/local/lib/python3.7/dist-packages/ipykernel_launcher.py:45: DeprecationWarning: time.clock has been deprecated in Python 3.3 and will be removed from Python 3.8: use time.perf_counter or time.process_time instead\n"
          ]
        },
        {
          "output_type": "stream",
          "name": "stdout",
          "text": [
            "              precision    recall  f1-score   support\n",
            "\n",
            "     AGAINST       0.73      0.62      0.67       183\n",
            "       FAVOR       0.31      0.59      0.41        58\n",
            "\n",
            "   micro avg       0.56      0.61      0.58       241\n",
            "   macro avg       0.52      0.60      0.54       241\n",
            "weighted avg       0.63      0.61      0.61       241\n",
            "\n",
            "Elapsed time2.1596099999999865seconds\n"
          ]
        },
        {
          "output_type": "stream",
          "name": "stderr",
          "text": [
            "/usr/local/lib/python3.7/dist-packages/ipykernel_launcher.py:56: DeprecationWarning: time.clock has been deprecated in Python 3.3 and will be removed from Python 3.8: use time.perf_counter or time.process_time instead\n"
          ]
        }
      ]
    },
    {
      "cell_type": "code",
      "metadata": {
        "id": "FRn1cgfOZVqi",
        "colab": {
          "base_uri": "https://localhost:8080/"
        },
        "outputId": "97fa51dc-8661-4525-d4bc-5ed79c902aea"
      },
      "source": [
        "textcat_bow = spacy.load(\"/content/drive/MyDrive/2022-ILTAPP/resources/bow_Feminism_Stance_Semeval2016\")\n",
        "tweets = textcat_bow(test_texts[10])\n",
        "print(\"Text: \"+ test_texts[10])\n",
        "print(\"Gold Label:\"+ test_cats[10])\n",
        "print(\" Predicted Label:\") \n",
        "print(tweets.cats)\n",
        "print(\"=======================================\")"
      ],
      "execution_count": 51,
      "outputs": [
        {
          "output_type": "stream",
          "name": "stdout",
          "text": [
            "Text: sometiimes you just feel like punching a feminist in the face SemST\n",
            "Gold Label:AGAINST\n",
            " Predicted Label:\n",
            "{'AGAINST': 0.4215056300163269, 'FAVOR': 0.36623576283454895, 'NONE': 0.21225865185260773}\n",
            "=======================================\n"
          ]
        }
      ]
    },
    {
      "cell_type": "markdown",
      "source": [
        "# ASSIGNMENTS\n",
        "\n",
        "1. TODO Train the classifiers for the other 4 targets in the Stance SemEval 2016 dataset.\n"
      ],
      "metadata": {
        "id": "Pi_z4TWn72oq"
      }
    },
    {
      "cell_type": "code",
      "source": [
        "training_data, train_texts, train_cats = load_data_spacy('/content/drive/MyDrive/2022-ILTAPP/datasets/stance-semeval2016/train.Atheism.tsv')\n",
        "test_data, test_texts, test_cats = load_data_spacy('/content/drive/MyDrive/2022-ILTAPP/datasets/stance-semeval2016/test.Atheism.tsv')\n",
        "nlp = train_spacy(training_data, 20, test_texts, test_cats, \"simple_cnn\")\n",
        "\n",
        "training_data, train_texts, train_cats = load_data_spacy('/content/drive/MyDrive/2022-ILTAPP/datasets/stance-semeval2016/train.Hillary Clinton.tsv')\n",
        "test_data, test_texts, test_cats = load_data_spacy('/content/drive/MyDrive/2022-ILTAPP/datasets/stance-semeval2016/test.Hillary Clinton.tsv')\n",
        "nlp = train_spacy(training_data, 20, test_texts, test_cats, \"simple_cnn\")\n",
        "\n",
        "training_data, train_texts, train_cats = load_data_spacy('/content/drive/MyDrive/2022-ILTAPP/datasets/stance-semeval2016/train.Legalization of Abortion.tsv')\n",
        "test_data, test_texts, test_cats = load_data_spacy('/content/drive/My Drive/2022-ILTAPP/datasets/stance-semeval2016/test.Legalization of Abortion.tsv')\n",
        "nlp = train_spacy(training_data, 20, test_texts, test_cats, \"simple_cnn\")\n",
        "\n",
        "training_data, train_texts, train_cats = load_data_spacy('/content/drive/MyDrive/2022-ILTAPP/datasets/stance-semeval2016/train.Climate Change is a Real Concern.tsv')\n",
        "test_data, test_texts, test_cats = load_data_spacy('/content/drive/MyDrive/2022-ILTAPP/datasets/stance-semeval2016/test.Climate Change is a Real Concern.tsv')\n",
        "nlp = train_spacy(training_data, 20, test_texts, test_cats, \"simple_cnn\")\n",
        "\n",
        "\n"
      ],
      "metadata": {
        "colab": {
          "base_uri": "https://localhost:8080/"
        },
        "id": "ve8MSvLu6OZF",
        "outputId": "b6601ec8-6af1-4505-e9f5-d312d2597e35"
      },
      "execution_count": 52,
      "outputs": [
        {
          "output_type": "stream",
          "name": "stdout",
          "text": [
            "AGAINST    304\n",
            "NONE       117\n",
            "FAVOR       92\n",
            "Name: Stance, dtype: int64\n",
            "AGAINST    160\n",
            "FAVOR       32\n",
            "NONE        28\n",
            "Name: Stance, dtype: int64\n",
            "Training the model...\n",
            "LOSS \t  P  \t  R  \t  F  \n",
            "Iteration: 0\n"
          ]
        },
        {
          "output_type": "stream",
          "name": "stderr",
          "text": [
            "/usr/local/lib/python3.7/dist-packages/ipykernel_launcher.py:45: DeprecationWarning: time.clock has been deprecated in Python 3.3 and will be removed from Python 3.8: use time.perf_counter or time.process_time instead\n",
            "/usr/local/lib/python3.7/dist-packages/sklearn/metrics/_classification.py:1318: UndefinedMetricWarning: Precision and F-score are ill-defined and being set to 0.0 in labels with no predicted samples. Use `zero_division` parameter to control this behavior.\n",
            "  _warn_prf(average, modifier, msg_start, len(result))\n",
            "/usr/local/lib/python3.7/dist-packages/sklearn/metrics/_classification.py:1318: UndefinedMetricWarning: Precision and F-score are ill-defined and being set to 0.0 in labels with no predicted samples. Use `zero_division` parameter to control this behavior.\n",
            "  _warn_prf(average, modifier, msg_start, len(result))\n",
            "/usr/local/lib/python3.7/dist-packages/sklearn/metrics/_classification.py:1318: UndefinedMetricWarning: Precision and F-score are ill-defined and being set to 0.0 in labels with no predicted samples. Use `zero_division` parameter to control this behavior.\n",
            "  _warn_prf(average, modifier, msg_start, len(result))\n",
            "/usr/local/lib/python3.7/dist-packages/ipykernel_launcher.py:56: DeprecationWarning: time.clock has been deprecated in Python 3.3 and will be removed from Python 3.8: use time.perf_counter or time.process_time instead\n",
            "/usr/local/lib/python3.7/dist-packages/ipykernel_launcher.py:45: DeprecationWarning: time.clock has been deprecated in Python 3.3 and will be removed from Python 3.8: use time.perf_counter or time.process_time instead\n"
          ]
        },
        {
          "output_type": "stream",
          "name": "stdout",
          "text": [
            "              precision    recall  f1-score   support\n",
            "\n",
            "     AGAINST       0.73      1.00      0.84       160\n",
            "       FAVOR       0.00      0.00      0.00        32\n",
            "\n",
            "   micro avg       0.73      0.83      0.78       192\n",
            "   macro avg       0.36      0.50      0.42       192\n",
            "weighted avg       0.61      0.83      0.70       192\n",
            "\n",
            "Elapsed time1.7056100000000356seconds\n",
            "Iteration: 1\n"
          ]
        },
        {
          "output_type": "stream",
          "name": "stderr",
          "text": [
            "/usr/local/lib/python3.7/dist-packages/sklearn/metrics/_classification.py:1318: UndefinedMetricWarning: Precision and F-score are ill-defined and being set to 0.0 in labels with no predicted samples. Use `zero_division` parameter to control this behavior.\n",
            "  _warn_prf(average, modifier, msg_start, len(result))\n",
            "/usr/local/lib/python3.7/dist-packages/sklearn/metrics/_classification.py:1318: UndefinedMetricWarning: Precision and F-score are ill-defined and being set to 0.0 in labels with no predicted samples. Use `zero_division` parameter to control this behavior.\n",
            "  _warn_prf(average, modifier, msg_start, len(result))\n",
            "/usr/local/lib/python3.7/dist-packages/sklearn/metrics/_classification.py:1318: UndefinedMetricWarning: Precision and F-score are ill-defined and being set to 0.0 in labels with no predicted samples. Use `zero_division` parameter to control this behavior.\n",
            "  _warn_prf(average, modifier, msg_start, len(result))\n",
            "/usr/local/lib/python3.7/dist-packages/ipykernel_launcher.py:56: DeprecationWarning: time.clock has been deprecated in Python 3.3 and will be removed from Python 3.8: use time.perf_counter or time.process_time instead\n",
            "/usr/local/lib/python3.7/dist-packages/ipykernel_launcher.py:45: DeprecationWarning: time.clock has been deprecated in Python 3.3 and will be removed from Python 3.8: use time.perf_counter or time.process_time instead\n"
          ]
        },
        {
          "output_type": "stream",
          "name": "stdout",
          "text": [
            "              precision    recall  f1-score   support\n",
            "\n",
            "     AGAINST       0.73      1.00      0.84       160\n",
            "       FAVOR       0.00      0.00      0.00        32\n",
            "\n",
            "   micro avg       0.73      0.83      0.78       192\n",
            "   macro avg       0.36      0.50      0.42       192\n",
            "weighted avg       0.61      0.83      0.70       192\n",
            "\n",
            "Elapsed time1.5686019999999985seconds\n",
            "Iteration: 2\n",
            "              precision    recall  f1-score   support\n",
            "\n",
            "     AGAINST       0.73      0.99      0.84       160\n",
            "       FAVOR       0.00      0.00      0.00        32\n",
            "\n",
            "   micro avg       0.73      0.83      0.78       192\n",
            "   macro avg       0.37      0.50      0.42       192\n",
            "weighted avg       0.61      0.83      0.70       192\n",
            "\n",
            "Elapsed time1.4718260000000214seconds\n",
            "Iteration: 3\n"
          ]
        },
        {
          "output_type": "stream",
          "name": "stderr",
          "text": [
            "/usr/local/lib/python3.7/dist-packages/ipykernel_launcher.py:56: DeprecationWarning: time.clock has been deprecated in Python 3.3 and will be removed from Python 3.8: use time.perf_counter or time.process_time instead\n",
            "/usr/local/lib/python3.7/dist-packages/ipykernel_launcher.py:45: DeprecationWarning: time.clock has been deprecated in Python 3.3 and will be removed from Python 3.8: use time.perf_counter or time.process_time instead\n"
          ]
        },
        {
          "output_type": "stream",
          "name": "stdout",
          "text": [
            "              precision    recall  f1-score   support\n",
            "\n",
            "     AGAINST       0.81      0.91      0.86       160\n",
            "       FAVOR       0.50      0.16      0.24        32\n",
            "\n",
            "   micro avg       0.79      0.79      0.79       192\n",
            "   macro avg       0.65      0.53      0.55       192\n",
            "weighted avg       0.76      0.79      0.75       192\n",
            "\n",
            "Elapsed time1.4896009999999933seconds\n",
            "Iteration: 4\n"
          ]
        },
        {
          "output_type": "stream",
          "name": "stderr",
          "text": [
            "/usr/local/lib/python3.7/dist-packages/ipykernel_launcher.py:56: DeprecationWarning: time.clock has been deprecated in Python 3.3 and will be removed from Python 3.8: use time.perf_counter or time.process_time instead\n",
            "/usr/local/lib/python3.7/dist-packages/ipykernel_launcher.py:45: DeprecationWarning: time.clock has been deprecated in Python 3.3 and will be removed from Python 3.8: use time.perf_counter or time.process_time instead\n"
          ]
        },
        {
          "output_type": "stream",
          "name": "stdout",
          "text": [
            "              precision    recall  f1-score   support\n",
            "\n",
            "     AGAINST       0.85      0.76      0.80       160\n",
            "       FAVOR       0.75      0.19      0.30        32\n",
            "\n",
            "   micro avg       0.84      0.67      0.74       192\n",
            "   macro avg       0.80      0.47      0.55       192\n",
            "weighted avg       0.83      0.67      0.72       192\n",
            "\n",
            "Elapsed time1.4537689999999657seconds\n",
            "Iteration: 5\n"
          ]
        },
        {
          "output_type": "stream",
          "name": "stderr",
          "text": [
            "/usr/local/lib/python3.7/dist-packages/ipykernel_launcher.py:56: DeprecationWarning: time.clock has been deprecated in Python 3.3 and will be removed from Python 3.8: use time.perf_counter or time.process_time instead\n",
            "/usr/local/lib/python3.7/dist-packages/ipykernel_launcher.py:45: DeprecationWarning: time.clock has been deprecated in Python 3.3 and will be removed from Python 3.8: use time.perf_counter or time.process_time instead\n"
          ]
        },
        {
          "output_type": "stream",
          "name": "stdout",
          "text": [
            "              precision    recall  f1-score   support\n",
            "\n",
            "     AGAINST       0.83      0.81      0.82       160\n",
            "       FAVOR       1.00      0.06      0.12        32\n",
            "\n",
            "   micro avg       0.84      0.69      0.75       192\n",
            "   macro avg       0.92      0.44      0.47       192\n",
            "weighted avg       0.86      0.69      0.71       192\n",
            "\n",
            "Elapsed time1.4697100000000205seconds\n",
            "Iteration: 6\n"
          ]
        },
        {
          "output_type": "stream",
          "name": "stderr",
          "text": [
            "/usr/local/lib/python3.7/dist-packages/ipykernel_launcher.py:56: DeprecationWarning: time.clock has been deprecated in Python 3.3 and will be removed from Python 3.8: use time.perf_counter or time.process_time instead\n",
            "/usr/local/lib/python3.7/dist-packages/ipykernel_launcher.py:45: DeprecationWarning: time.clock has been deprecated in Python 3.3 and will be removed from Python 3.8: use time.perf_counter or time.process_time instead\n"
          ]
        },
        {
          "output_type": "stream",
          "name": "stdout",
          "text": [
            "              precision    recall  f1-score   support\n",
            "\n",
            "     AGAINST       0.83      0.78      0.80       160\n",
            "       FAVOR       0.50      0.09      0.16        32\n",
            "\n",
            "   micro avg       0.82      0.66      0.73       192\n",
            "   macro avg       0.67      0.43      0.48       192\n",
            "weighted avg       0.78      0.66      0.70       192\n",
            "\n",
            "Elapsed time1.432657000000006seconds\n",
            "Iteration: 7\n"
          ]
        },
        {
          "output_type": "stream",
          "name": "stderr",
          "text": [
            "/usr/local/lib/python3.7/dist-packages/ipykernel_launcher.py:56: DeprecationWarning: time.clock has been deprecated in Python 3.3 and will be removed from Python 3.8: use time.perf_counter or time.process_time instead\n",
            "/usr/local/lib/python3.7/dist-packages/ipykernel_launcher.py:45: DeprecationWarning: time.clock has been deprecated in Python 3.3 and will be removed from Python 3.8: use time.perf_counter or time.process_time instead\n"
          ]
        },
        {
          "output_type": "stream",
          "name": "stdout",
          "text": [
            "              precision    recall  f1-score   support\n",
            "\n",
            "     AGAINST       0.85      0.72      0.78       160\n",
            "       FAVOR       0.41      0.22      0.29        32\n",
            "\n",
            "   micro avg       0.80      0.64      0.71       192\n",
            "   macro avg       0.63      0.47      0.53       192\n",
            "weighted avg       0.77      0.64      0.70       192\n",
            "\n",
            "Elapsed time1.4379260000000045seconds\n",
            "Iteration: 8\n"
          ]
        },
        {
          "output_type": "stream",
          "name": "stderr",
          "text": [
            "/usr/local/lib/python3.7/dist-packages/ipykernel_launcher.py:56: DeprecationWarning: time.clock has been deprecated in Python 3.3 and will be removed from Python 3.8: use time.perf_counter or time.process_time instead\n",
            "/usr/local/lib/python3.7/dist-packages/ipykernel_launcher.py:45: DeprecationWarning: time.clock has been deprecated in Python 3.3 and will be removed from Python 3.8: use time.perf_counter or time.process_time instead\n"
          ]
        },
        {
          "output_type": "stream",
          "name": "stdout",
          "text": [
            "              precision    recall  f1-score   support\n",
            "\n",
            "     AGAINST       0.83      0.75      0.79       160\n",
            "       FAVOR       0.32      0.25      0.28        32\n",
            "\n",
            "   micro avg       0.76      0.67      0.71       192\n",
            "   macro avg       0.58      0.50      0.54       192\n",
            "weighted avg       0.75      0.67      0.70       192\n",
            "\n",
            "Elapsed time1.457695000000001seconds\n",
            "Iteration: 9\n"
          ]
        },
        {
          "output_type": "stream",
          "name": "stderr",
          "text": [
            "/usr/local/lib/python3.7/dist-packages/ipykernel_launcher.py:56: DeprecationWarning: time.clock has been deprecated in Python 3.3 and will be removed from Python 3.8: use time.perf_counter or time.process_time instead\n",
            "/usr/local/lib/python3.7/dist-packages/ipykernel_launcher.py:45: DeprecationWarning: time.clock has been deprecated in Python 3.3 and will be removed from Python 3.8: use time.perf_counter or time.process_time instead\n"
          ]
        },
        {
          "output_type": "stream",
          "name": "stdout",
          "text": [
            "              precision    recall  f1-score   support\n",
            "\n",
            "     AGAINST       0.84      0.71      0.77       160\n",
            "       FAVOR       0.33      0.28      0.31        32\n",
            "\n",
            "   micro avg       0.75      0.64      0.69       192\n",
            "   macro avg       0.59      0.49      0.54       192\n",
            "weighted avg       0.75      0.64      0.69       192\n",
            "\n",
            "Elapsed time1.4472659999999564seconds\n",
            "Iteration: 10\n"
          ]
        },
        {
          "output_type": "stream",
          "name": "stderr",
          "text": [
            "/usr/local/lib/python3.7/dist-packages/ipykernel_launcher.py:56: DeprecationWarning: time.clock has been deprecated in Python 3.3 and will be removed from Python 3.8: use time.perf_counter or time.process_time instead\n",
            "/usr/local/lib/python3.7/dist-packages/ipykernel_launcher.py:45: DeprecationWarning: time.clock has been deprecated in Python 3.3 and will be removed from Python 3.8: use time.perf_counter or time.process_time instead\n"
          ]
        },
        {
          "output_type": "stream",
          "name": "stdout",
          "text": [
            "              precision    recall  f1-score   support\n",
            "\n",
            "     AGAINST       0.83      0.73      0.78       160\n",
            "       FAVOR       0.35      0.28      0.31        32\n",
            "\n",
            "   micro avg       0.75      0.66      0.70       192\n",
            "   macro avg       0.59      0.51      0.54       192\n",
            "weighted avg       0.75      0.66      0.70       192\n",
            "\n",
            "Elapsed time1.4661969999999656seconds\n",
            "Iteration: 11\n"
          ]
        },
        {
          "output_type": "stream",
          "name": "stderr",
          "text": [
            "/usr/local/lib/python3.7/dist-packages/ipykernel_launcher.py:56: DeprecationWarning: time.clock has been deprecated in Python 3.3 and will be removed from Python 3.8: use time.perf_counter or time.process_time instead\n",
            "/usr/local/lib/python3.7/dist-packages/ipykernel_launcher.py:45: DeprecationWarning: time.clock has been deprecated in Python 3.3 and will be removed from Python 3.8: use time.perf_counter or time.process_time instead\n"
          ]
        },
        {
          "output_type": "stream",
          "name": "stdout",
          "text": [
            "              precision    recall  f1-score   support\n",
            "\n",
            "     AGAINST       0.83      0.76      0.79       160\n",
            "       FAVOR       0.29      0.28      0.29        32\n",
            "\n",
            "   micro avg       0.73      0.68      0.70       192\n",
            "   macro avg       0.56      0.52      0.54       192\n",
            "weighted avg       0.74      0.68      0.71       192\n",
            "\n",
            "Elapsed time1.4260249999999814seconds\n",
            "Iteration: 12\n"
          ]
        },
        {
          "output_type": "stream",
          "name": "stderr",
          "text": [
            "/usr/local/lib/python3.7/dist-packages/ipykernel_launcher.py:56: DeprecationWarning: time.clock has been deprecated in Python 3.3 and will be removed from Python 3.8: use time.perf_counter or time.process_time instead\n",
            "/usr/local/lib/python3.7/dist-packages/ipykernel_launcher.py:45: DeprecationWarning: time.clock has been deprecated in Python 3.3 and will be removed from Python 3.8: use time.perf_counter or time.process_time instead\n"
          ]
        },
        {
          "output_type": "stream",
          "name": "stdout",
          "text": [
            "              precision    recall  f1-score   support\n",
            "\n",
            "     AGAINST       0.83      0.74      0.78       160\n",
            "       FAVOR       0.33      0.25      0.29        32\n",
            "\n",
            "   micro avg       0.76      0.66      0.71       192\n",
            "   macro avg       0.58      0.50      0.53       192\n",
            "weighted avg       0.74      0.66      0.70       192\n",
            "\n",
            "Elapsed time2.1125529999999912seconds\n",
            "Iteration: 13\n"
          ]
        },
        {
          "output_type": "stream",
          "name": "stderr",
          "text": [
            "/usr/local/lib/python3.7/dist-packages/ipykernel_launcher.py:56: DeprecationWarning: time.clock has been deprecated in Python 3.3 and will be removed from Python 3.8: use time.perf_counter or time.process_time instead\n",
            "/usr/local/lib/python3.7/dist-packages/ipykernel_launcher.py:45: DeprecationWarning: time.clock has been deprecated in Python 3.3 and will be removed from Python 3.8: use time.perf_counter or time.process_time instead\n"
          ]
        },
        {
          "output_type": "stream",
          "name": "stdout",
          "text": [
            "              precision    recall  f1-score   support\n",
            "\n",
            "     AGAINST       0.82      0.77      0.79       160\n",
            "       FAVOR       0.31      0.28      0.30        32\n",
            "\n",
            "   micro avg       0.74      0.69      0.71       192\n",
            "   macro avg       0.57      0.53      0.54       192\n",
            "weighted avg       0.74      0.69      0.71       192\n",
            "\n",
            "Elapsed time2.150938999999994seconds\n",
            "Iteration: 14\n"
          ]
        },
        {
          "output_type": "stream",
          "name": "stderr",
          "text": [
            "/usr/local/lib/python3.7/dist-packages/ipykernel_launcher.py:56: DeprecationWarning: time.clock has been deprecated in Python 3.3 and will be removed from Python 3.8: use time.perf_counter or time.process_time instead\n",
            "/usr/local/lib/python3.7/dist-packages/ipykernel_launcher.py:45: DeprecationWarning: time.clock has been deprecated in Python 3.3 and will be removed from Python 3.8: use time.perf_counter or time.process_time instead\n"
          ]
        },
        {
          "output_type": "stream",
          "name": "stdout",
          "text": [
            "              precision    recall  f1-score   support\n",
            "\n",
            "     AGAINST       0.82      0.74      0.78       160\n",
            "       FAVOR       0.26      0.22      0.24        32\n",
            "\n",
            "   micro avg       0.73      0.66      0.69       192\n",
            "   macro avg       0.54      0.48      0.51       192\n",
            "weighted avg       0.73      0.66      0.69       192\n",
            "\n",
            "Elapsed time2.1509849999999915seconds\n",
            "Iteration: 15\n"
          ]
        },
        {
          "output_type": "stream",
          "name": "stderr",
          "text": [
            "/usr/local/lib/python3.7/dist-packages/ipykernel_launcher.py:56: DeprecationWarning: time.clock has been deprecated in Python 3.3 and will be removed from Python 3.8: use time.perf_counter or time.process_time instead\n",
            "/usr/local/lib/python3.7/dist-packages/ipykernel_launcher.py:45: DeprecationWarning: time.clock has been deprecated in Python 3.3 and will be removed from Python 3.8: use time.perf_counter or time.process_time instead\n"
          ]
        },
        {
          "output_type": "stream",
          "name": "stdout",
          "text": [
            "              precision    recall  f1-score   support\n",
            "\n",
            "     AGAINST       0.82      0.76      0.79       160\n",
            "       FAVOR       0.27      0.28      0.28        32\n",
            "\n",
            "   micro avg       0.72      0.68      0.70       192\n",
            "   macro avg       0.55      0.52      0.53       192\n",
            "weighted avg       0.73      0.68      0.70       192\n",
            "\n",
            "Elapsed time2.1743470000000116seconds\n",
            "Iteration: 16\n"
          ]
        },
        {
          "output_type": "stream",
          "name": "stderr",
          "text": [
            "/usr/local/lib/python3.7/dist-packages/ipykernel_launcher.py:56: DeprecationWarning: time.clock has been deprecated in Python 3.3 and will be removed from Python 3.8: use time.perf_counter or time.process_time instead\n",
            "/usr/local/lib/python3.7/dist-packages/ipykernel_launcher.py:45: DeprecationWarning: time.clock has been deprecated in Python 3.3 and will be removed from Python 3.8: use time.perf_counter or time.process_time instead\n"
          ]
        },
        {
          "output_type": "stream",
          "name": "stdout",
          "text": [
            "              precision    recall  f1-score   support\n",
            "\n",
            "     AGAINST       0.82      0.76      0.79       160\n",
            "       FAVOR       0.27      0.25      0.26        32\n",
            "\n",
            "   micro avg       0.72      0.67      0.70       192\n",
            "   macro avg       0.54      0.50      0.52       192\n",
            "weighted avg       0.73      0.67      0.70       192\n",
            "\n",
            "Elapsed time2.1700889999999617seconds\n",
            "Iteration: 17\n"
          ]
        },
        {
          "output_type": "stream",
          "name": "stderr",
          "text": [
            "/usr/local/lib/python3.7/dist-packages/ipykernel_launcher.py:56: DeprecationWarning: time.clock has been deprecated in Python 3.3 and will be removed from Python 3.8: use time.perf_counter or time.process_time instead\n",
            "/usr/local/lib/python3.7/dist-packages/ipykernel_launcher.py:45: DeprecationWarning: time.clock has been deprecated in Python 3.3 and will be removed from Python 3.8: use time.perf_counter or time.process_time instead\n"
          ]
        },
        {
          "output_type": "stream",
          "name": "stdout",
          "text": [
            "              precision    recall  f1-score   support\n",
            "\n",
            "     AGAINST       0.81      0.74      0.77       160\n",
            "       FAVOR       0.25      0.25      0.25        32\n",
            "\n",
            "   micro avg       0.71      0.66      0.68       192\n",
            "   macro avg       0.53      0.49      0.51       192\n",
            "weighted avg       0.72      0.66      0.69       192\n",
            "\n",
            "Elapsed time2.193768000000034seconds\n",
            "Iteration: 18\n"
          ]
        },
        {
          "output_type": "stream",
          "name": "stderr",
          "text": [
            "/usr/local/lib/python3.7/dist-packages/ipykernel_launcher.py:56: DeprecationWarning: time.clock has been deprecated in Python 3.3 and will be removed from Python 3.8: use time.perf_counter or time.process_time instead\n",
            "/usr/local/lib/python3.7/dist-packages/ipykernel_launcher.py:45: DeprecationWarning: time.clock has been deprecated in Python 3.3 and will be removed from Python 3.8: use time.perf_counter or time.process_time instead\n"
          ]
        },
        {
          "output_type": "stream",
          "name": "stdout",
          "text": [
            "              precision    recall  f1-score   support\n",
            "\n",
            "     AGAINST       0.81      0.74      0.77       160\n",
            "       FAVOR       0.29      0.25      0.27        32\n",
            "\n",
            "   micro avg       0.73      0.66      0.69       192\n",
            "   macro avg       0.55      0.49      0.52       192\n",
            "weighted avg       0.73      0.66      0.69       192\n",
            "\n",
            "Elapsed time1.893213000000003seconds\n",
            "Iteration: 19\n"
          ]
        },
        {
          "output_type": "stream",
          "name": "stderr",
          "text": [
            "/usr/local/lib/python3.7/dist-packages/ipykernel_launcher.py:56: DeprecationWarning: time.clock has been deprecated in Python 3.3 and will be removed from Python 3.8: use time.perf_counter or time.process_time instead\n",
            "/usr/local/lib/python3.7/dist-packages/ipykernel_launcher.py:45: DeprecationWarning: time.clock has been deprecated in Python 3.3 and will be removed from Python 3.8: use time.perf_counter or time.process_time instead\n"
          ]
        },
        {
          "output_type": "stream",
          "name": "stdout",
          "text": [
            "              precision    recall  f1-score   support\n",
            "\n",
            "     AGAINST       0.82      0.76      0.79       160\n",
            "       FAVOR       0.32      0.25      0.28        32\n",
            "\n",
            "   micro avg       0.75      0.68      0.71       192\n",
            "   macro avg       0.57      0.51      0.54       192\n",
            "weighted avg       0.74      0.68      0.70       192\n",
            "\n",
            "Elapsed time1.4913310000000024seconds\n",
            "AGAINST    393\n",
            "NONE       178\n",
            "FAVOR      118\n",
            "Name: Stance, dtype: int64\n",
            "AGAINST    172\n",
            "NONE        78\n",
            "FAVOR       45\n",
            "Name: Stance, dtype: int64\n"
          ]
        },
        {
          "output_type": "stream",
          "name": "stderr",
          "text": [
            "/usr/local/lib/python3.7/dist-packages/ipykernel_launcher.py:56: DeprecationWarning: time.clock has been deprecated in Python 3.3 and will be removed from Python 3.8: use time.perf_counter or time.process_time instead\n"
          ]
        },
        {
          "output_type": "stream",
          "name": "stdout",
          "text": [
            "Training the model...\n",
            "LOSS \t  P  \t  R  \t  F  \n",
            "Iteration: 0\n"
          ]
        },
        {
          "output_type": "stream",
          "name": "stderr",
          "text": [
            "/usr/local/lib/python3.7/dist-packages/ipykernel_launcher.py:45: DeprecationWarning: time.clock has been deprecated in Python 3.3 and will be removed from Python 3.8: use time.perf_counter or time.process_time instead\n",
            "/usr/local/lib/python3.7/dist-packages/sklearn/metrics/_classification.py:1318: UndefinedMetricWarning: Precision and F-score are ill-defined and being set to 0.0 in labels with no predicted samples. Use `zero_division` parameter to control this behavior.\n",
            "  _warn_prf(average, modifier, msg_start, len(result))\n",
            "/usr/local/lib/python3.7/dist-packages/sklearn/metrics/_classification.py:1318: UndefinedMetricWarning: Precision and F-score are ill-defined and being set to 0.0 in labels with no predicted samples. Use `zero_division` parameter to control this behavior.\n",
            "  _warn_prf(average, modifier, msg_start, len(result))\n",
            "/usr/local/lib/python3.7/dist-packages/sklearn/metrics/_classification.py:1318: UndefinedMetricWarning: Precision and F-score are ill-defined and being set to 0.0 in labels with no predicted samples. Use `zero_division` parameter to control this behavior.\n",
            "  _warn_prf(average, modifier, msg_start, len(result))\n",
            "/usr/local/lib/python3.7/dist-packages/ipykernel_launcher.py:56: DeprecationWarning: time.clock has been deprecated in Python 3.3 and will be removed from Python 3.8: use time.perf_counter or time.process_time instead\n",
            "/usr/local/lib/python3.7/dist-packages/ipykernel_launcher.py:45: DeprecationWarning: time.clock has been deprecated in Python 3.3 and will be removed from Python 3.8: use time.perf_counter or time.process_time instead\n"
          ]
        },
        {
          "output_type": "stream",
          "name": "stdout",
          "text": [
            "              precision    recall  f1-score   support\n",
            "\n",
            "     AGAINST       0.58      1.00      0.74       172\n",
            "       FAVOR       0.00      0.00      0.00        45\n",
            "\n",
            "   micro avg       0.58      0.79      0.67       217\n",
            "   macro avg       0.29      0.50      0.37       217\n",
            "weighted avg       0.46      0.79      0.58       217\n",
            "\n",
            "Elapsed time2.2387539999999717seconds\n",
            "Iteration: 1\n"
          ]
        },
        {
          "output_type": "stream",
          "name": "stderr",
          "text": [
            "/usr/local/lib/python3.7/dist-packages/sklearn/metrics/_classification.py:1318: UndefinedMetricWarning: Precision and F-score are ill-defined and being set to 0.0 in labels with no predicted samples. Use `zero_division` parameter to control this behavior.\n",
            "  _warn_prf(average, modifier, msg_start, len(result))\n",
            "/usr/local/lib/python3.7/dist-packages/sklearn/metrics/_classification.py:1318: UndefinedMetricWarning: Precision and F-score are ill-defined and being set to 0.0 in labels with no predicted samples. Use `zero_division` parameter to control this behavior.\n",
            "  _warn_prf(average, modifier, msg_start, len(result))\n",
            "/usr/local/lib/python3.7/dist-packages/sklearn/metrics/_classification.py:1318: UndefinedMetricWarning: Precision and F-score are ill-defined and being set to 0.0 in labels with no predicted samples. Use `zero_division` parameter to control this behavior.\n",
            "  _warn_prf(average, modifier, msg_start, len(result))\n",
            "/usr/local/lib/python3.7/dist-packages/ipykernel_launcher.py:56: DeprecationWarning: time.clock has been deprecated in Python 3.3 and will be removed from Python 3.8: use time.perf_counter or time.process_time instead\n",
            "/usr/local/lib/python3.7/dist-packages/ipykernel_launcher.py:45: DeprecationWarning: time.clock has been deprecated in Python 3.3 and will be removed from Python 3.8: use time.perf_counter or time.process_time instead\n"
          ]
        },
        {
          "output_type": "stream",
          "name": "stdout",
          "text": [
            "              precision    recall  f1-score   support\n",
            "\n",
            "     AGAINST       0.58      1.00      0.74       172\n",
            "       FAVOR       0.00      0.00      0.00        45\n",
            "\n",
            "   micro avg       0.58      0.79      0.67       217\n",
            "   macro avg       0.29      0.50      0.37       217\n",
            "weighted avg       0.46      0.79      0.58       217\n",
            "\n",
            "Elapsed time1.893498999999963seconds\n",
            "Iteration: 2\n",
            "              precision    recall  f1-score   support\n",
            "\n",
            "     AGAINST       0.59      0.98      0.74       172\n",
            "       FAVOR       0.40      0.04      0.08        45\n",
            "\n",
            "   micro avg       0.59      0.79      0.67       217\n",
            "   macro avg       0.50      0.51      0.41       217\n",
            "weighted avg       0.55      0.79      0.60       217\n",
            "\n",
            "Elapsed time1.8816529999999716seconds\n",
            "Iteration: 3\n"
          ]
        },
        {
          "output_type": "stream",
          "name": "stderr",
          "text": [
            "/usr/local/lib/python3.7/dist-packages/ipykernel_launcher.py:56: DeprecationWarning: time.clock has been deprecated in Python 3.3 and will be removed from Python 3.8: use time.perf_counter or time.process_time instead\n",
            "/usr/local/lib/python3.7/dist-packages/ipykernel_launcher.py:45: DeprecationWarning: time.clock has been deprecated in Python 3.3 and will be removed from Python 3.8: use time.perf_counter or time.process_time instead\n"
          ]
        },
        {
          "output_type": "stream",
          "name": "stdout",
          "text": [
            "              precision    recall  f1-score   support\n",
            "\n",
            "     AGAINST       0.63      0.94      0.75       172\n",
            "       FAVOR       0.54      0.16      0.24        45\n",
            "\n",
            "   micro avg       0.62      0.77      0.69       217\n",
            "   macro avg       0.58      0.55      0.50       217\n",
            "weighted avg       0.61      0.77      0.65       217\n",
            "\n",
            "Elapsed time1.871313999999984seconds\n",
            "Iteration: 4\n"
          ]
        },
        {
          "output_type": "stream",
          "name": "stderr",
          "text": [
            "/usr/local/lib/python3.7/dist-packages/ipykernel_launcher.py:56: DeprecationWarning: time.clock has been deprecated in Python 3.3 and will be removed from Python 3.8: use time.perf_counter or time.process_time instead\n",
            "/usr/local/lib/python3.7/dist-packages/ipykernel_launcher.py:45: DeprecationWarning: time.clock has been deprecated in Python 3.3 and will be removed from Python 3.8: use time.perf_counter or time.process_time instead\n"
          ]
        },
        {
          "output_type": "stream",
          "name": "stdout",
          "text": [
            "              precision    recall  f1-score   support\n",
            "\n",
            "     AGAINST       0.66      0.80      0.72       172\n",
            "       FAVOR       0.62      0.29      0.39        45\n",
            "\n",
            "   micro avg       0.65      0.69      0.67       217\n",
            "   macro avg       0.64      0.54      0.56       217\n",
            "weighted avg       0.65      0.69      0.65       217\n",
            "\n",
            "Elapsed time1.8828179999999861seconds\n",
            "Iteration: 5\n"
          ]
        },
        {
          "output_type": "stream",
          "name": "stderr",
          "text": [
            "/usr/local/lib/python3.7/dist-packages/ipykernel_launcher.py:56: DeprecationWarning: time.clock has been deprecated in Python 3.3 and will be removed from Python 3.8: use time.perf_counter or time.process_time instead\n",
            "/usr/local/lib/python3.7/dist-packages/ipykernel_launcher.py:45: DeprecationWarning: time.clock has been deprecated in Python 3.3 and will be removed from Python 3.8: use time.perf_counter or time.process_time instead\n"
          ]
        },
        {
          "output_type": "stream",
          "name": "stdout",
          "text": [
            "              precision    recall  f1-score   support\n",
            "\n",
            "     AGAINST       0.66      0.78      0.72       172\n",
            "       FAVOR       0.56      0.20      0.30        45\n",
            "\n",
            "   micro avg       0.65      0.66      0.66       217\n",
            "   macro avg       0.61      0.49      0.51       217\n",
            "weighted avg       0.64      0.66      0.63       217\n",
            "\n",
            "Elapsed time1.8603919999999903seconds\n",
            "Iteration: 6\n"
          ]
        },
        {
          "output_type": "stream",
          "name": "stderr",
          "text": [
            "/usr/local/lib/python3.7/dist-packages/ipykernel_launcher.py:56: DeprecationWarning: time.clock has been deprecated in Python 3.3 and will be removed from Python 3.8: use time.perf_counter or time.process_time instead\n",
            "/usr/local/lib/python3.7/dist-packages/ipykernel_launcher.py:45: DeprecationWarning: time.clock has been deprecated in Python 3.3 and will be removed from Python 3.8: use time.perf_counter or time.process_time instead\n"
          ]
        },
        {
          "output_type": "stream",
          "name": "stdout",
          "text": [
            "              precision    recall  f1-score   support\n",
            "\n",
            "     AGAINST       0.68      0.84      0.75       172\n",
            "       FAVOR       0.65      0.29      0.40        45\n",
            "\n",
            "   micro avg       0.67      0.72      0.70       217\n",
            "   macro avg       0.66      0.56      0.57       217\n",
            "weighted avg       0.67      0.72      0.68       217\n",
            "\n",
            "Elapsed time1.8335429999999633seconds\n",
            "Iteration: 7\n"
          ]
        },
        {
          "output_type": "stream",
          "name": "stderr",
          "text": [
            "/usr/local/lib/python3.7/dist-packages/ipykernel_launcher.py:56: DeprecationWarning: time.clock has been deprecated in Python 3.3 and will be removed from Python 3.8: use time.perf_counter or time.process_time instead\n",
            "/usr/local/lib/python3.7/dist-packages/ipykernel_launcher.py:45: DeprecationWarning: time.clock has been deprecated in Python 3.3 and will be removed from Python 3.8: use time.perf_counter or time.process_time instead\n"
          ]
        },
        {
          "output_type": "stream",
          "name": "stdout",
          "text": [
            "              precision    recall  f1-score   support\n",
            "\n",
            "     AGAINST       0.66      0.84      0.74       172\n",
            "       FAVOR       0.58      0.24      0.34        45\n",
            "\n",
            "   micro avg       0.66      0.71      0.68       217\n",
            "   macro avg       0.62      0.54      0.54       217\n",
            "weighted avg       0.65      0.71      0.66       217\n",
            "\n",
            "Elapsed time1.8330799999999954seconds\n",
            "Iteration: 8\n"
          ]
        },
        {
          "output_type": "stream",
          "name": "stderr",
          "text": [
            "/usr/local/lib/python3.7/dist-packages/ipykernel_launcher.py:56: DeprecationWarning: time.clock has been deprecated in Python 3.3 and will be removed from Python 3.8: use time.perf_counter or time.process_time instead\n",
            "/usr/local/lib/python3.7/dist-packages/ipykernel_launcher.py:45: DeprecationWarning: time.clock has been deprecated in Python 3.3 and will be removed from Python 3.8: use time.perf_counter or time.process_time instead\n"
          ]
        },
        {
          "output_type": "stream",
          "name": "stdout",
          "text": [
            "              precision    recall  f1-score   support\n",
            "\n",
            "     AGAINST       0.68      0.85      0.75       172\n",
            "       FAVOR       0.57      0.27      0.36        45\n",
            "\n",
            "   micro avg       0.67      0.73      0.70       217\n",
            "   macro avg       0.62      0.56      0.56       217\n",
            "weighted avg       0.65      0.73      0.67       217\n",
            "\n",
            "Elapsed time1.839542999999992seconds\n",
            "Iteration: 9\n"
          ]
        },
        {
          "output_type": "stream",
          "name": "stderr",
          "text": [
            "/usr/local/lib/python3.7/dist-packages/ipykernel_launcher.py:56: DeprecationWarning: time.clock has been deprecated in Python 3.3 and will be removed from Python 3.8: use time.perf_counter or time.process_time instead\n",
            "/usr/local/lib/python3.7/dist-packages/ipykernel_launcher.py:45: DeprecationWarning: time.clock has been deprecated in Python 3.3 and will be removed from Python 3.8: use time.perf_counter or time.process_time instead\n"
          ]
        },
        {
          "output_type": "stream",
          "name": "stdout",
          "text": [
            "              precision    recall  f1-score   support\n",
            "\n",
            "     AGAINST       0.68      0.84      0.75       172\n",
            "       FAVOR       0.50      0.20      0.29        45\n",
            "\n",
            "   micro avg       0.67      0.71      0.69       217\n",
            "   macro avg       0.59      0.52      0.52       217\n",
            "weighted avg       0.64      0.71      0.66       217\n",
            "\n",
            "Elapsed time1.8609050000000025seconds\n",
            "Iteration: 10\n"
          ]
        },
        {
          "output_type": "stream",
          "name": "stderr",
          "text": [
            "/usr/local/lib/python3.7/dist-packages/ipykernel_launcher.py:56: DeprecationWarning: time.clock has been deprecated in Python 3.3 and will be removed from Python 3.8: use time.perf_counter or time.process_time instead\n",
            "/usr/local/lib/python3.7/dist-packages/ipykernel_launcher.py:45: DeprecationWarning: time.clock has been deprecated in Python 3.3 and will be removed from Python 3.8: use time.perf_counter or time.process_time instead\n"
          ]
        },
        {
          "output_type": "stream",
          "name": "stdout",
          "text": [
            "              precision    recall  f1-score   support\n",
            "\n",
            "     AGAINST       0.69      0.84      0.76       172\n",
            "       FAVOR       0.53      0.20      0.29        45\n",
            "\n",
            "   micro avg       0.68      0.71      0.69       217\n",
            "   macro avg       0.61      0.52      0.52       217\n",
            "weighted avg       0.65      0.71      0.66       217\n",
            "\n",
            "Elapsed time1.8345980000000282seconds\n",
            "Iteration: 11\n"
          ]
        },
        {
          "output_type": "stream",
          "name": "stderr",
          "text": [
            "/usr/local/lib/python3.7/dist-packages/ipykernel_launcher.py:56: DeprecationWarning: time.clock has been deprecated in Python 3.3 and will be removed from Python 3.8: use time.perf_counter or time.process_time instead\n",
            "/usr/local/lib/python3.7/dist-packages/ipykernel_launcher.py:45: DeprecationWarning: time.clock has been deprecated in Python 3.3 and will be removed from Python 3.8: use time.perf_counter or time.process_time instead\n"
          ]
        },
        {
          "output_type": "stream",
          "name": "stdout",
          "text": [
            "              precision    recall  f1-score   support\n",
            "\n",
            "     AGAINST       0.67      0.84      0.75       172\n",
            "       FAVOR       0.45      0.20      0.28        45\n",
            "\n",
            "   micro avg       0.65      0.71      0.68       217\n",
            "   macro avg       0.56      0.52      0.51       217\n",
            "weighted avg       0.62      0.71      0.65       217\n",
            "\n",
            "Elapsed time1.8402449999999817seconds\n",
            "Iteration: 12\n"
          ]
        },
        {
          "output_type": "stream",
          "name": "stderr",
          "text": [
            "/usr/local/lib/python3.7/dist-packages/ipykernel_launcher.py:56: DeprecationWarning: time.clock has been deprecated in Python 3.3 and will be removed from Python 3.8: use time.perf_counter or time.process_time instead\n",
            "/usr/local/lib/python3.7/dist-packages/ipykernel_launcher.py:45: DeprecationWarning: time.clock has been deprecated in Python 3.3 and will be removed from Python 3.8: use time.perf_counter or time.process_time instead\n"
          ]
        },
        {
          "output_type": "stream",
          "name": "stdout",
          "text": [
            "              precision    recall  f1-score   support\n",
            "\n",
            "     AGAINST       0.69      0.84      0.76       172\n",
            "       FAVOR       0.52      0.27      0.35        45\n",
            "\n",
            "   micro avg       0.67      0.72      0.69       217\n",
            "   macro avg       0.61      0.55      0.55       217\n",
            "weighted avg       0.65      0.72      0.67       217\n",
            "\n",
            "Elapsed time1.7934890000000223seconds\n",
            "Iteration: 13\n"
          ]
        },
        {
          "output_type": "stream",
          "name": "stderr",
          "text": [
            "/usr/local/lib/python3.7/dist-packages/ipykernel_launcher.py:56: DeprecationWarning: time.clock has been deprecated in Python 3.3 and will be removed from Python 3.8: use time.perf_counter or time.process_time instead\n",
            "/usr/local/lib/python3.7/dist-packages/ipykernel_launcher.py:45: DeprecationWarning: time.clock has been deprecated in Python 3.3 and will be removed from Python 3.8: use time.perf_counter or time.process_time instead\n"
          ]
        },
        {
          "output_type": "stream",
          "name": "stdout",
          "text": [
            "              precision    recall  f1-score   support\n",
            "\n",
            "     AGAINST       0.67      0.83      0.74       172\n",
            "       FAVOR       0.48      0.24      0.32        45\n",
            "\n",
            "   micro avg       0.65      0.71      0.68       217\n",
            "   macro avg       0.57      0.54      0.53       217\n",
            "weighted avg       0.63      0.71      0.66       217\n",
            "\n",
            "Elapsed time1.811302000000012seconds\n",
            "Iteration: 14\n"
          ]
        },
        {
          "output_type": "stream",
          "name": "stderr",
          "text": [
            "/usr/local/lib/python3.7/dist-packages/ipykernel_launcher.py:56: DeprecationWarning: time.clock has been deprecated in Python 3.3 and will be removed from Python 3.8: use time.perf_counter or time.process_time instead\n",
            "/usr/local/lib/python3.7/dist-packages/ipykernel_launcher.py:45: DeprecationWarning: time.clock has been deprecated in Python 3.3 and will be removed from Python 3.8: use time.perf_counter or time.process_time instead\n"
          ]
        },
        {
          "output_type": "stream",
          "name": "stdout",
          "text": [
            "              precision    recall  f1-score   support\n",
            "\n",
            "     AGAINST       0.67      0.83      0.74       172\n",
            "       FAVOR       0.45      0.22      0.30        45\n",
            "\n",
            "   micro avg       0.65      0.70      0.67       217\n",
            "   macro avg       0.56      0.52      0.52       217\n",
            "weighted avg       0.62      0.70      0.65       217\n",
            "\n",
            "Elapsed time1.8478759999999852seconds\n",
            "Iteration: 15\n"
          ]
        },
        {
          "output_type": "stream",
          "name": "stderr",
          "text": [
            "/usr/local/lib/python3.7/dist-packages/ipykernel_launcher.py:56: DeprecationWarning: time.clock has been deprecated in Python 3.3 and will be removed from Python 3.8: use time.perf_counter or time.process_time instead\n",
            "/usr/local/lib/python3.7/dist-packages/ipykernel_launcher.py:45: DeprecationWarning: time.clock has been deprecated in Python 3.3 and will be removed from Python 3.8: use time.perf_counter or time.process_time instead\n"
          ]
        },
        {
          "output_type": "stream",
          "name": "stdout",
          "text": [
            "              precision    recall  f1-score   support\n",
            "\n",
            "     AGAINST       0.66      0.83      0.73       172\n",
            "       FAVOR       0.48      0.24      0.32        45\n",
            "\n",
            "   micro avg       0.64      0.71      0.67       217\n",
            "   macro avg       0.57      0.54      0.53       217\n",
            "weighted avg       0.62      0.71      0.65       217\n",
            "\n",
            "Elapsed time1.81551300000001seconds\n",
            "Iteration: 16\n"
          ]
        },
        {
          "output_type": "stream",
          "name": "stderr",
          "text": [
            "/usr/local/lib/python3.7/dist-packages/ipykernel_launcher.py:56: DeprecationWarning: time.clock has been deprecated in Python 3.3 and will be removed from Python 3.8: use time.perf_counter or time.process_time instead\n",
            "/usr/local/lib/python3.7/dist-packages/ipykernel_launcher.py:45: DeprecationWarning: time.clock has been deprecated in Python 3.3 and will be removed from Python 3.8: use time.perf_counter or time.process_time instead\n"
          ]
        },
        {
          "output_type": "stream",
          "name": "stdout",
          "text": [
            "              precision    recall  f1-score   support\n",
            "\n",
            "     AGAINST       0.67      0.83      0.74       172\n",
            "       FAVOR       0.52      0.27      0.35        45\n",
            "\n",
            "   micro avg       0.66      0.71      0.68       217\n",
            "   macro avg       0.60      0.55      0.55       217\n",
            "weighted avg       0.64      0.71      0.66       217\n",
            "\n",
            "Elapsed time1.8223350000000096seconds\n",
            "Iteration: 17\n"
          ]
        },
        {
          "output_type": "stream",
          "name": "stderr",
          "text": [
            "/usr/local/lib/python3.7/dist-packages/ipykernel_launcher.py:56: DeprecationWarning: time.clock has been deprecated in Python 3.3 and will be removed from Python 3.8: use time.perf_counter or time.process_time instead\n",
            "/usr/local/lib/python3.7/dist-packages/ipykernel_launcher.py:45: DeprecationWarning: time.clock has been deprecated in Python 3.3 and will be removed from Python 3.8: use time.perf_counter or time.process_time instead\n"
          ]
        },
        {
          "output_type": "stream",
          "name": "stdout",
          "text": [
            "              precision    recall  f1-score   support\n",
            "\n",
            "     AGAINST       0.67      0.85      0.75       172\n",
            "       FAVOR       0.50      0.22      0.31        45\n",
            "\n",
            "   micro avg       0.65      0.72      0.68       217\n",
            "   macro avg       0.58      0.54      0.53       217\n",
            "weighted avg       0.63      0.72      0.66       217\n",
            "\n",
            "Elapsed time1.9637140000000386seconds\n",
            "Iteration: 18\n"
          ]
        },
        {
          "output_type": "stream",
          "name": "stderr",
          "text": [
            "/usr/local/lib/python3.7/dist-packages/ipykernel_launcher.py:56: DeprecationWarning: time.clock has been deprecated in Python 3.3 and will be removed from Python 3.8: use time.perf_counter or time.process_time instead\n",
            "/usr/local/lib/python3.7/dist-packages/ipykernel_launcher.py:45: DeprecationWarning: time.clock has been deprecated in Python 3.3 and will be removed from Python 3.8: use time.perf_counter or time.process_time instead\n"
          ]
        },
        {
          "output_type": "stream",
          "name": "stdout",
          "text": [
            "              precision    recall  f1-score   support\n",
            "\n",
            "     AGAINST       0.66      0.87      0.75       172\n",
            "       FAVOR       0.47      0.18      0.26        45\n",
            "\n",
            "   micro avg       0.65      0.73      0.69       217\n",
            "   macro avg       0.57      0.52      0.50       217\n",
            "weighted avg       0.62      0.73      0.65       217\n",
            "\n",
            "Elapsed time1.8144910000000323seconds\n",
            "Iteration: 19\n"
          ]
        },
        {
          "output_type": "stream",
          "name": "stderr",
          "text": [
            "/usr/local/lib/python3.7/dist-packages/ipykernel_launcher.py:56: DeprecationWarning: time.clock has been deprecated in Python 3.3 and will be removed from Python 3.8: use time.perf_counter or time.process_time instead\n",
            "/usr/local/lib/python3.7/dist-packages/ipykernel_launcher.py:45: DeprecationWarning: time.clock has been deprecated in Python 3.3 and will be removed from Python 3.8: use time.perf_counter or time.process_time instead\n"
          ]
        },
        {
          "output_type": "stream",
          "name": "stdout",
          "text": [
            "              precision    recall  f1-score   support\n",
            "\n",
            "     AGAINST       0.67      0.87      0.76       172\n",
            "       FAVOR       0.53      0.22      0.31        45\n",
            "\n",
            "   micro avg       0.66      0.74      0.69       217\n",
            "   macro avg       0.60      0.55      0.53       217\n",
            "weighted avg       0.64      0.74      0.66       217\n",
            "\n",
            "Elapsed time1.836274000000003seconds\n",
            "AGAINST    355\n",
            "NONE       177\n",
            "FAVOR      121\n",
            "Name: Stance, dtype: int64\n",
            "AGAINST    189\n",
            "FAVOR       46\n",
            "NONE        45\n",
            "Name: Stance, dtype: int64\n"
          ]
        },
        {
          "output_type": "stream",
          "name": "stderr",
          "text": [
            "/usr/local/lib/python3.7/dist-packages/ipykernel_launcher.py:56: DeprecationWarning: time.clock has been deprecated in Python 3.3 and will be removed from Python 3.8: use time.perf_counter or time.process_time instead\n"
          ]
        },
        {
          "output_type": "stream",
          "name": "stdout",
          "text": [
            "Training the model...\n",
            "LOSS \t  P  \t  R  \t  F  \n",
            "Iteration: 0\n"
          ]
        },
        {
          "output_type": "stream",
          "name": "stderr",
          "text": [
            "/usr/local/lib/python3.7/dist-packages/ipykernel_launcher.py:45: DeprecationWarning: time.clock has been deprecated in Python 3.3 and will be removed from Python 3.8: use time.perf_counter or time.process_time instead\n",
            "/usr/local/lib/python3.7/dist-packages/sklearn/metrics/_classification.py:1318: UndefinedMetricWarning: Precision and F-score are ill-defined and being set to 0.0 in labels with no predicted samples. Use `zero_division` parameter to control this behavior.\n",
            "  _warn_prf(average, modifier, msg_start, len(result))\n",
            "/usr/local/lib/python3.7/dist-packages/sklearn/metrics/_classification.py:1318: UndefinedMetricWarning: Precision and F-score are ill-defined and being set to 0.0 in labels with no predicted samples. Use `zero_division` parameter to control this behavior.\n",
            "  _warn_prf(average, modifier, msg_start, len(result))\n",
            "/usr/local/lib/python3.7/dist-packages/sklearn/metrics/_classification.py:1318: UndefinedMetricWarning: Precision and F-score are ill-defined and being set to 0.0 in labels with no predicted samples. Use `zero_division` parameter to control this behavior.\n",
            "  _warn_prf(average, modifier, msg_start, len(result))\n",
            "/usr/local/lib/python3.7/dist-packages/ipykernel_launcher.py:56: DeprecationWarning: time.clock has been deprecated in Python 3.3 and will be removed from Python 3.8: use time.perf_counter or time.process_time instead\n",
            "/usr/local/lib/python3.7/dist-packages/ipykernel_launcher.py:45: DeprecationWarning: time.clock has been deprecated in Python 3.3 and will be removed from Python 3.8: use time.perf_counter or time.process_time instead\n"
          ]
        },
        {
          "output_type": "stream",
          "name": "stdout",
          "text": [
            "              precision    recall  f1-score   support\n",
            "\n",
            "     AGAINST       0.68      1.00      0.81       189\n",
            "       FAVOR       0.00      0.00      0.00        46\n",
            "\n",
            "   micro avg       0.68      0.80      0.73       235\n",
            "   macro avg       0.34      0.50      0.40       235\n",
            "weighted avg       0.54      0.80      0.65       235\n",
            "\n",
            "Elapsed time2.259096999999997seconds\n",
            "Iteration: 1\n"
          ]
        },
        {
          "output_type": "stream",
          "name": "stderr",
          "text": [
            "/usr/local/lib/python3.7/dist-packages/sklearn/metrics/_classification.py:1318: UndefinedMetricWarning: Precision and F-score are ill-defined and being set to 0.0 in labels with no predicted samples. Use `zero_division` parameter to control this behavior.\n",
            "  _warn_prf(average, modifier, msg_start, len(result))\n",
            "/usr/local/lib/python3.7/dist-packages/sklearn/metrics/_classification.py:1318: UndefinedMetricWarning: Precision and F-score are ill-defined and being set to 0.0 in labels with no predicted samples. Use `zero_division` parameter to control this behavior.\n",
            "  _warn_prf(average, modifier, msg_start, len(result))\n",
            "/usr/local/lib/python3.7/dist-packages/sklearn/metrics/_classification.py:1318: UndefinedMetricWarning: Precision and F-score are ill-defined and being set to 0.0 in labels with no predicted samples. Use `zero_division` parameter to control this behavior.\n",
            "  _warn_prf(average, modifier, msg_start, len(result))\n",
            "/usr/local/lib/python3.7/dist-packages/ipykernel_launcher.py:56: DeprecationWarning: time.clock has been deprecated in Python 3.3 and will be removed from Python 3.8: use time.perf_counter or time.process_time instead\n",
            "/usr/local/lib/python3.7/dist-packages/ipykernel_launcher.py:45: DeprecationWarning: time.clock has been deprecated in Python 3.3 and will be removed from Python 3.8: use time.perf_counter or time.process_time instead\n"
          ]
        },
        {
          "output_type": "stream",
          "name": "stdout",
          "text": [
            "              precision    recall  f1-score   support\n",
            "\n",
            "     AGAINST       0.68      1.00      0.81       189\n",
            "       FAVOR       0.00      0.00      0.00        46\n",
            "\n",
            "   micro avg       0.68      0.80      0.73       235\n",
            "   macro avg       0.34      0.50      0.40       235\n",
            "weighted avg       0.54      0.80      0.65       235\n",
            "\n",
            "Elapsed time1.9088109999999574seconds\n",
            "Iteration: 2\n",
            "              precision    recall  f1-score   support\n",
            "\n",
            "     AGAINST       0.68      0.99      0.81       189\n",
            "       FAVOR       0.33      0.02      0.04        46\n",
            "\n",
            "   micro avg       0.68      0.80      0.74       235\n",
            "   macro avg       0.51      0.51      0.42       235\n",
            "weighted avg       0.61      0.80      0.66       235\n",
            "\n",
            "Elapsed time1.8400769999999511seconds\n",
            "Iteration: 3\n"
          ]
        },
        {
          "output_type": "stream",
          "name": "stderr",
          "text": [
            "/usr/local/lib/python3.7/dist-packages/ipykernel_launcher.py:56: DeprecationWarning: time.clock has been deprecated in Python 3.3 and will be removed from Python 3.8: use time.perf_counter or time.process_time instead\n",
            "/usr/local/lib/python3.7/dist-packages/ipykernel_launcher.py:45: DeprecationWarning: time.clock has been deprecated in Python 3.3 and will be removed from Python 3.8: use time.perf_counter or time.process_time instead\n"
          ]
        },
        {
          "output_type": "stream",
          "name": "stdout",
          "text": [
            "              precision    recall  f1-score   support\n",
            "\n",
            "     AGAINST       0.73      0.86      0.79       189\n",
            "       FAVOR       0.55      0.26      0.35        46\n",
            "\n",
            "   micro avg       0.71      0.74      0.73       235\n",
            "   macro avg       0.64      0.56      0.57       235\n",
            "weighted avg       0.69      0.74      0.70       235\n",
            "\n",
            "Elapsed time1.76325700000001seconds\n",
            "Iteration: 4\n"
          ]
        },
        {
          "output_type": "stream",
          "name": "stderr",
          "text": [
            "/usr/local/lib/python3.7/dist-packages/ipykernel_launcher.py:56: DeprecationWarning: time.clock has been deprecated in Python 3.3 and will be removed from Python 3.8: use time.perf_counter or time.process_time instead\n",
            "/usr/local/lib/python3.7/dist-packages/ipykernel_launcher.py:45: DeprecationWarning: time.clock has been deprecated in Python 3.3 and will be removed from Python 3.8: use time.perf_counter or time.process_time instead\n"
          ]
        },
        {
          "output_type": "stream",
          "name": "stdout",
          "text": [
            "              precision    recall  f1-score   support\n",
            "\n",
            "     AGAINST       0.73      0.82      0.78       189\n",
            "       FAVOR       0.50      0.33      0.39        46\n",
            "\n",
            "   micro avg       0.71      0.72      0.71       235\n",
            "   macro avg       0.62      0.57      0.58       235\n",
            "weighted avg       0.69      0.72      0.70       235\n",
            "\n",
            "Elapsed time1.8040100000000052seconds\n",
            "Iteration: 5\n"
          ]
        },
        {
          "output_type": "stream",
          "name": "stderr",
          "text": [
            "/usr/local/lib/python3.7/dist-packages/ipykernel_launcher.py:56: DeprecationWarning: time.clock has been deprecated in Python 3.3 and will be removed from Python 3.8: use time.perf_counter or time.process_time instead\n",
            "/usr/local/lib/python3.7/dist-packages/ipykernel_launcher.py:45: DeprecationWarning: time.clock has been deprecated in Python 3.3 and will be removed from Python 3.8: use time.perf_counter or time.process_time instead\n"
          ]
        },
        {
          "output_type": "stream",
          "name": "stdout",
          "text": [
            "              precision    recall  f1-score   support\n",
            "\n",
            "     AGAINST       0.75      0.67      0.71       189\n",
            "       FAVOR       0.44      0.41      0.43        46\n",
            "\n",
            "   micro avg       0.69      0.62      0.65       235\n",
            "   macro avg       0.60      0.54      0.57       235\n",
            "weighted avg       0.69      0.62      0.65       235\n",
            "\n",
            "Elapsed time1.9151360000000182seconds\n",
            "Iteration: 6\n"
          ]
        },
        {
          "output_type": "stream",
          "name": "stderr",
          "text": [
            "/usr/local/lib/python3.7/dist-packages/ipykernel_launcher.py:56: DeprecationWarning: time.clock has been deprecated in Python 3.3 and will be removed from Python 3.8: use time.perf_counter or time.process_time instead\n",
            "/usr/local/lib/python3.7/dist-packages/ipykernel_launcher.py:45: DeprecationWarning: time.clock has been deprecated in Python 3.3 and will be removed from Python 3.8: use time.perf_counter or time.process_time instead\n"
          ]
        },
        {
          "output_type": "stream",
          "name": "stdout",
          "text": [
            "              precision    recall  f1-score   support\n",
            "\n",
            "     AGAINST       0.74      0.67      0.70       189\n",
            "       FAVOR       0.46      0.50      0.48        46\n",
            "\n",
            "   micro avg       0.68      0.63      0.65       235\n",
            "   macro avg       0.60      0.58      0.59       235\n",
            "weighted avg       0.69      0.63      0.66       235\n",
            "\n",
            "Elapsed time1.8508770000000254seconds\n",
            "Iteration: 7\n"
          ]
        },
        {
          "output_type": "stream",
          "name": "stderr",
          "text": [
            "/usr/local/lib/python3.7/dist-packages/ipykernel_launcher.py:56: DeprecationWarning: time.clock has been deprecated in Python 3.3 and will be removed from Python 3.8: use time.perf_counter or time.process_time instead\n",
            "/usr/local/lib/python3.7/dist-packages/ipykernel_launcher.py:45: DeprecationWarning: time.clock has been deprecated in Python 3.3 and will be removed from Python 3.8: use time.perf_counter or time.process_time instead\n"
          ]
        },
        {
          "output_type": "stream",
          "name": "stdout",
          "text": [
            "              precision    recall  f1-score   support\n",
            "\n",
            "     AGAINST       0.76      0.67      0.71       189\n",
            "       FAVOR       0.42      0.37      0.40        46\n",
            "\n",
            "   micro avg       0.69      0.61      0.65       235\n",
            "   macro avg       0.59      0.52      0.55       235\n",
            "weighted avg       0.69      0.61      0.65       235\n",
            "\n",
            "Elapsed time1.832808seconds\n",
            "Iteration: 8\n"
          ]
        },
        {
          "output_type": "stream",
          "name": "stderr",
          "text": [
            "/usr/local/lib/python3.7/dist-packages/ipykernel_launcher.py:56: DeprecationWarning: time.clock has been deprecated in Python 3.3 and will be removed from Python 3.8: use time.perf_counter or time.process_time instead\n",
            "/usr/local/lib/python3.7/dist-packages/ipykernel_launcher.py:45: DeprecationWarning: time.clock has been deprecated in Python 3.3 and will be removed from Python 3.8: use time.perf_counter or time.process_time instead\n"
          ]
        },
        {
          "output_type": "stream",
          "name": "stdout",
          "text": [
            "              precision    recall  f1-score   support\n",
            "\n",
            "     AGAINST       0.77      0.67      0.72       189\n",
            "       FAVOR       0.47      0.52      0.49        46\n",
            "\n",
            "   micro avg       0.70      0.64      0.67       235\n",
            "   macro avg       0.62      0.59      0.61       235\n",
            "weighted avg       0.71      0.64      0.67       235\n",
            "\n",
            "Elapsed time1.7941690000000108seconds\n",
            "Iteration: 9\n"
          ]
        },
        {
          "output_type": "stream",
          "name": "stderr",
          "text": [
            "/usr/local/lib/python3.7/dist-packages/ipykernel_launcher.py:56: DeprecationWarning: time.clock has been deprecated in Python 3.3 and will be removed from Python 3.8: use time.perf_counter or time.process_time instead\n",
            "/usr/local/lib/python3.7/dist-packages/ipykernel_launcher.py:45: DeprecationWarning: time.clock has been deprecated in Python 3.3 and will be removed from Python 3.8: use time.perf_counter or time.process_time instead\n"
          ]
        },
        {
          "output_type": "stream",
          "name": "stdout",
          "text": [
            "              precision    recall  f1-score   support\n",
            "\n",
            "     AGAINST       0.76      0.70      0.73       189\n",
            "       FAVOR       0.45      0.43      0.44        46\n",
            "\n",
            "   micro avg       0.70      0.65      0.67       235\n",
            "   macro avg       0.61      0.57      0.59       235\n",
            "weighted avg       0.70      0.65      0.67       235\n",
            "\n",
            "Elapsed time1.7881379999999467seconds\n",
            "Iteration: 10\n"
          ]
        },
        {
          "output_type": "stream",
          "name": "stderr",
          "text": [
            "/usr/local/lib/python3.7/dist-packages/ipykernel_launcher.py:56: DeprecationWarning: time.clock has been deprecated in Python 3.3 and will be removed from Python 3.8: use time.perf_counter or time.process_time instead\n",
            "/usr/local/lib/python3.7/dist-packages/ipykernel_launcher.py:45: DeprecationWarning: time.clock has been deprecated in Python 3.3 and will be removed from Python 3.8: use time.perf_counter or time.process_time instead\n"
          ]
        },
        {
          "output_type": "stream",
          "name": "stdout",
          "text": [
            "              precision    recall  f1-score   support\n",
            "\n",
            "     AGAINST       0.76      0.74      0.75       189\n",
            "       FAVOR       0.50      0.43      0.47        46\n",
            "\n",
            "   micro avg       0.71      0.68      0.70       235\n",
            "   macro avg       0.63      0.59      0.61       235\n",
            "weighted avg       0.71      0.68      0.69       235\n",
            "\n",
            "Elapsed time1.815082000000018seconds\n",
            "Iteration: 11\n"
          ]
        },
        {
          "output_type": "stream",
          "name": "stderr",
          "text": [
            "/usr/local/lib/python3.7/dist-packages/ipykernel_launcher.py:56: DeprecationWarning: time.clock has been deprecated in Python 3.3 and will be removed from Python 3.8: use time.perf_counter or time.process_time instead\n",
            "/usr/local/lib/python3.7/dist-packages/ipykernel_launcher.py:45: DeprecationWarning: time.clock has been deprecated in Python 3.3 and will be removed from Python 3.8: use time.perf_counter or time.process_time instead\n"
          ]
        },
        {
          "output_type": "stream",
          "name": "stdout",
          "text": [
            "              precision    recall  f1-score   support\n",
            "\n",
            "     AGAINST       0.76      0.71      0.74       189\n",
            "       FAVOR       0.48      0.43      0.45        46\n",
            "\n",
            "   micro avg       0.70      0.66      0.68       235\n",
            "   macro avg       0.62      0.57      0.60       235\n",
            "weighted avg       0.70      0.66      0.68       235\n",
            "\n",
            "Elapsed time1.838596999999993seconds\n",
            "Iteration: 12\n"
          ]
        },
        {
          "output_type": "stream",
          "name": "stderr",
          "text": [
            "/usr/local/lib/python3.7/dist-packages/ipykernel_launcher.py:56: DeprecationWarning: time.clock has been deprecated in Python 3.3 and will be removed from Python 3.8: use time.perf_counter or time.process_time instead\n",
            "/usr/local/lib/python3.7/dist-packages/ipykernel_launcher.py:45: DeprecationWarning: time.clock has been deprecated in Python 3.3 and will be removed from Python 3.8: use time.perf_counter or time.process_time instead\n"
          ]
        },
        {
          "output_type": "stream",
          "name": "stdout",
          "text": [
            "              precision    recall  f1-score   support\n",
            "\n",
            "     AGAINST       0.76      0.70      0.73       189\n",
            "       FAVOR       0.49      0.39      0.43        46\n",
            "\n",
            "   micro avg       0.71      0.64      0.67       235\n",
            "   macro avg       0.62      0.54      0.58       235\n",
            "weighted avg       0.71      0.64      0.67       235\n",
            "\n",
            "Elapsed time1.8633060000000228seconds\n",
            "Iteration: 13\n"
          ]
        },
        {
          "output_type": "stream",
          "name": "stderr",
          "text": [
            "/usr/local/lib/python3.7/dist-packages/ipykernel_launcher.py:56: DeprecationWarning: time.clock has been deprecated in Python 3.3 and will be removed from Python 3.8: use time.perf_counter or time.process_time instead\n",
            "/usr/local/lib/python3.7/dist-packages/ipykernel_launcher.py:45: DeprecationWarning: time.clock has been deprecated in Python 3.3 and will be removed from Python 3.8: use time.perf_counter or time.process_time instead\n"
          ]
        },
        {
          "output_type": "stream",
          "name": "stdout",
          "text": [
            "              precision    recall  f1-score   support\n",
            "\n",
            "     AGAINST       0.74      0.69      0.72       189\n",
            "       FAVOR       0.44      0.43      0.44        46\n",
            "\n",
            "   micro avg       0.68      0.64      0.66       235\n",
            "   macro avg       0.59      0.56      0.58       235\n",
            "weighted avg       0.68      0.64      0.66       235\n",
            "\n",
            "Elapsed time1.83201600000001seconds\n",
            "Iteration: 14\n"
          ]
        },
        {
          "output_type": "stream",
          "name": "stderr",
          "text": [
            "/usr/local/lib/python3.7/dist-packages/ipykernel_launcher.py:56: DeprecationWarning: time.clock has been deprecated in Python 3.3 and will be removed from Python 3.8: use time.perf_counter or time.process_time instead\n",
            "/usr/local/lib/python3.7/dist-packages/ipykernel_launcher.py:45: DeprecationWarning: time.clock has been deprecated in Python 3.3 and will be removed from Python 3.8: use time.perf_counter or time.process_time instead\n"
          ]
        },
        {
          "output_type": "stream",
          "name": "stdout",
          "text": [
            "              precision    recall  f1-score   support\n",
            "\n",
            "     AGAINST       0.74      0.71      0.72       189\n",
            "       FAVOR       0.46      0.35      0.40        46\n",
            "\n",
            "   micro avg       0.69      0.64      0.66       235\n",
            "   macro avg       0.60      0.53      0.56       235\n",
            "weighted avg       0.68      0.64      0.66       235\n",
            "\n",
            "Elapsed time1.7821309999999926seconds\n",
            "Iteration: 15\n"
          ]
        },
        {
          "output_type": "stream",
          "name": "stderr",
          "text": [
            "/usr/local/lib/python3.7/dist-packages/ipykernel_launcher.py:56: DeprecationWarning: time.clock has been deprecated in Python 3.3 and will be removed from Python 3.8: use time.perf_counter or time.process_time instead\n",
            "/usr/local/lib/python3.7/dist-packages/ipykernel_launcher.py:45: DeprecationWarning: time.clock has been deprecated in Python 3.3 and will be removed from Python 3.8: use time.perf_counter or time.process_time instead\n"
          ]
        },
        {
          "output_type": "stream",
          "name": "stdout",
          "text": [
            "              precision    recall  f1-score   support\n",
            "\n",
            "     AGAINST       0.74      0.68      0.71       189\n",
            "       FAVOR       0.46      0.37      0.41        46\n",
            "\n",
            "   micro avg       0.69      0.62      0.65       235\n",
            "   macro avg       0.60      0.52      0.56       235\n",
            "weighted avg       0.68      0.62      0.65       235\n",
            "\n",
            "Elapsed time1.7742059999999924seconds\n",
            "Iteration: 16\n"
          ]
        },
        {
          "output_type": "stream",
          "name": "stderr",
          "text": [
            "/usr/local/lib/python3.7/dist-packages/ipykernel_launcher.py:56: DeprecationWarning: time.clock has been deprecated in Python 3.3 and will be removed from Python 3.8: use time.perf_counter or time.process_time instead\n",
            "/usr/local/lib/python3.7/dist-packages/ipykernel_launcher.py:45: DeprecationWarning: time.clock has been deprecated in Python 3.3 and will be removed from Python 3.8: use time.perf_counter or time.process_time instead\n"
          ]
        },
        {
          "output_type": "stream",
          "name": "stdout",
          "text": [
            "              precision    recall  f1-score   support\n",
            "\n",
            "     AGAINST       0.75      0.68      0.71       189\n",
            "       FAVOR       0.45      0.41      0.43        46\n",
            "\n",
            "   micro avg       0.69      0.63      0.66       235\n",
            "   macro avg       0.60      0.55      0.57       235\n",
            "weighted avg       0.69      0.63      0.66       235\n",
            "\n",
            "Elapsed time1.7956179999999904seconds\n",
            "Iteration: 17\n"
          ]
        },
        {
          "output_type": "stream",
          "name": "stderr",
          "text": [
            "/usr/local/lib/python3.7/dist-packages/ipykernel_launcher.py:56: DeprecationWarning: time.clock has been deprecated in Python 3.3 and will be removed from Python 3.8: use time.perf_counter or time.process_time instead\n",
            "/usr/local/lib/python3.7/dist-packages/ipykernel_launcher.py:45: DeprecationWarning: time.clock has been deprecated in Python 3.3 and will be removed from Python 3.8: use time.perf_counter or time.process_time instead\n"
          ]
        },
        {
          "output_type": "stream",
          "name": "stdout",
          "text": [
            "              precision    recall  f1-score   support\n",
            "\n",
            "     AGAINST       0.75      0.67      0.70       189\n",
            "       FAVOR       0.42      0.41      0.42        46\n",
            "\n",
            "   micro avg       0.68      0.62      0.65       235\n",
            "   macro avg       0.58      0.54      0.56       235\n",
            "weighted avg       0.68      0.62      0.65       235\n",
            "\n",
            "Elapsed time1.80948699999999seconds\n",
            "Iteration: 18\n"
          ]
        },
        {
          "output_type": "stream",
          "name": "stderr",
          "text": [
            "/usr/local/lib/python3.7/dist-packages/ipykernel_launcher.py:56: DeprecationWarning: time.clock has been deprecated in Python 3.3 and will be removed from Python 3.8: use time.perf_counter or time.process_time instead\n",
            "/usr/local/lib/python3.7/dist-packages/ipykernel_launcher.py:45: DeprecationWarning: time.clock has been deprecated in Python 3.3 and will be removed from Python 3.8: use time.perf_counter or time.process_time instead\n"
          ]
        },
        {
          "output_type": "stream",
          "name": "stdout",
          "text": [
            "              precision    recall  f1-score   support\n",
            "\n",
            "     AGAINST       0.74      0.65      0.69       189\n",
            "       FAVOR       0.41      0.41      0.41        46\n",
            "\n",
            "   micro avg       0.67      0.60      0.64       235\n",
            "   macro avg       0.58      0.53      0.55       235\n",
            "weighted avg       0.68      0.60      0.64       235\n",
            "\n",
            "Elapsed time1.8165609999999788seconds\n",
            "Iteration: 19\n"
          ]
        },
        {
          "output_type": "stream",
          "name": "stderr",
          "text": [
            "/usr/local/lib/python3.7/dist-packages/ipykernel_launcher.py:56: DeprecationWarning: time.clock has been deprecated in Python 3.3 and will be removed from Python 3.8: use time.perf_counter or time.process_time instead\n",
            "/usr/local/lib/python3.7/dist-packages/ipykernel_launcher.py:45: DeprecationWarning: time.clock has been deprecated in Python 3.3 and will be removed from Python 3.8: use time.perf_counter or time.process_time instead\n"
          ]
        },
        {
          "output_type": "stream",
          "name": "stdout",
          "text": [
            "              precision    recall  f1-score   support\n",
            "\n",
            "     AGAINST       0.73      0.63      0.68       189\n",
            "       FAVOR       0.37      0.37      0.37        46\n",
            "\n",
            "   micro avg       0.65      0.58      0.61       235\n",
            "   macro avg       0.55      0.50      0.52       235\n",
            "weighted avg       0.66      0.58      0.62       235\n",
            "\n",
            "Elapsed time1.7762590000000387seconds\n",
            "FAVOR      212\n",
            "NONE       168\n",
            "AGAINST     15\n",
            "Name: Stance, dtype: int64\n",
            "FAVOR      123\n",
            "NONE        35\n",
            "AGAINST     11\n",
            "Name: Stance, dtype: int64\n"
          ]
        },
        {
          "output_type": "stream",
          "name": "stderr",
          "text": [
            "/usr/local/lib/python3.7/dist-packages/ipykernel_launcher.py:56: DeprecationWarning: time.clock has been deprecated in Python 3.3 and will be removed from Python 3.8: use time.perf_counter or time.process_time instead\n"
          ]
        },
        {
          "output_type": "stream",
          "name": "stdout",
          "text": [
            "Training the model...\n",
            "LOSS \t  P  \t  R  \t  F  \n",
            "Iteration: 0\n"
          ]
        },
        {
          "output_type": "stream",
          "name": "stderr",
          "text": [
            "/usr/local/lib/python3.7/dist-packages/ipykernel_launcher.py:45: DeprecationWarning: time.clock has been deprecated in Python 3.3 and will be removed from Python 3.8: use time.perf_counter or time.process_time instead\n",
            "/usr/local/lib/python3.7/dist-packages/sklearn/metrics/_classification.py:1318: UndefinedMetricWarning: Precision and F-score are ill-defined and being set to 0.0 in labels with no predicted samples. Use `zero_division` parameter to control this behavior.\n",
            "  _warn_prf(average, modifier, msg_start, len(result))\n",
            "/usr/local/lib/python3.7/dist-packages/sklearn/metrics/_classification.py:1318: UndefinedMetricWarning: Precision and F-score are ill-defined and being set to 0.0 in labels with no predicted samples. Use `zero_division` parameter to control this behavior.\n",
            "  _warn_prf(average, modifier, msg_start, len(result))\n",
            "/usr/local/lib/python3.7/dist-packages/sklearn/metrics/_classification.py:1318: UndefinedMetricWarning: Precision and F-score are ill-defined and being set to 0.0 in labels with no predicted samples. Use `zero_division` parameter to control this behavior.\n",
            "  _warn_prf(average, modifier, msg_start, len(result))\n",
            "/usr/local/lib/python3.7/dist-packages/ipykernel_launcher.py:56: DeprecationWarning: time.clock has been deprecated in Python 3.3 and will be removed from Python 3.8: use time.perf_counter or time.process_time instead\n",
            "/usr/local/lib/python3.7/dist-packages/ipykernel_launcher.py:45: DeprecationWarning: time.clock has been deprecated in Python 3.3 and will be removed from Python 3.8: use time.perf_counter or time.process_time instead\n"
          ]
        },
        {
          "output_type": "stream",
          "name": "stdout",
          "text": [
            "              precision    recall  f1-score   support\n",
            "\n",
            "     AGAINST       0.00      0.00      0.00        11\n",
            "       FAVOR       0.73      1.00      0.84       123\n",
            "\n",
            "   micro avg       0.73      0.92      0.81       134\n",
            "   macro avg       0.36      0.50      0.42       134\n",
            "weighted avg       0.67      0.92      0.77       134\n",
            "\n",
            "Elapsed time1.3291760000000181seconds\n",
            "Iteration: 1\n"
          ]
        },
        {
          "output_type": "stream",
          "name": "stderr",
          "text": [
            "/usr/local/lib/python3.7/dist-packages/sklearn/metrics/_classification.py:1318: UndefinedMetricWarning: Precision and F-score are ill-defined and being set to 0.0 in labels with no predicted samples. Use `zero_division` parameter to control this behavior.\n",
            "  _warn_prf(average, modifier, msg_start, len(result))\n",
            "/usr/local/lib/python3.7/dist-packages/sklearn/metrics/_classification.py:1318: UndefinedMetricWarning: Precision and F-score are ill-defined and being set to 0.0 in labels with no predicted samples. Use `zero_division` parameter to control this behavior.\n",
            "  _warn_prf(average, modifier, msg_start, len(result))\n",
            "/usr/local/lib/python3.7/dist-packages/sklearn/metrics/_classification.py:1318: UndefinedMetricWarning: Precision and F-score are ill-defined and being set to 0.0 in labels with no predicted samples. Use `zero_division` parameter to control this behavior.\n",
            "  _warn_prf(average, modifier, msg_start, len(result))\n",
            "/usr/local/lib/python3.7/dist-packages/ipykernel_launcher.py:56: DeprecationWarning: time.clock has been deprecated in Python 3.3 and will be removed from Python 3.8: use time.perf_counter or time.process_time instead\n",
            "/usr/local/lib/python3.7/dist-packages/ipykernel_launcher.py:45: DeprecationWarning: time.clock has been deprecated in Python 3.3 and will be removed from Python 3.8: use time.perf_counter or time.process_time instead\n"
          ]
        },
        {
          "output_type": "stream",
          "name": "stdout",
          "text": [
            "              precision    recall  f1-score   support\n",
            "\n",
            "     AGAINST       0.00      0.00      0.00        11\n",
            "       FAVOR       0.73      1.00      0.84       123\n",
            "\n",
            "   micro avg       0.73      0.92      0.81       134\n",
            "   macro avg       0.36      0.50      0.42       134\n",
            "weighted avg       0.67      0.92      0.77       134\n",
            "\n",
            "Elapsed time1.0562549999999646seconds\n",
            "Iteration: 2\n"
          ]
        },
        {
          "output_type": "stream",
          "name": "stderr",
          "text": [
            "/usr/local/lib/python3.7/dist-packages/sklearn/metrics/_classification.py:1318: UndefinedMetricWarning: Precision and F-score are ill-defined and being set to 0.0 in labels with no predicted samples. Use `zero_division` parameter to control this behavior.\n",
            "  _warn_prf(average, modifier, msg_start, len(result))\n",
            "/usr/local/lib/python3.7/dist-packages/sklearn/metrics/_classification.py:1318: UndefinedMetricWarning: Precision and F-score are ill-defined and being set to 0.0 in labels with no predicted samples. Use `zero_division` parameter to control this behavior.\n",
            "  _warn_prf(average, modifier, msg_start, len(result))\n",
            "/usr/local/lib/python3.7/dist-packages/sklearn/metrics/_classification.py:1318: UndefinedMetricWarning: Precision and F-score are ill-defined and being set to 0.0 in labels with no predicted samples. Use `zero_division` parameter to control this behavior.\n",
            "  _warn_prf(average, modifier, msg_start, len(result))\n",
            "/usr/local/lib/python3.7/dist-packages/ipykernel_launcher.py:56: DeprecationWarning: time.clock has been deprecated in Python 3.3 and will be removed from Python 3.8: use time.perf_counter or time.process_time instead\n",
            "/usr/local/lib/python3.7/dist-packages/ipykernel_launcher.py:45: DeprecationWarning: time.clock has been deprecated in Python 3.3 and will be removed from Python 3.8: use time.perf_counter or time.process_time instead\n"
          ]
        },
        {
          "output_type": "stream",
          "name": "stdout",
          "text": [
            "              precision    recall  f1-score   support\n",
            "\n",
            "     AGAINST       0.00      0.00      0.00        11\n",
            "       FAVOR       0.73      0.99      0.84       123\n",
            "\n",
            "   micro avg       0.73      0.91      0.81       134\n",
            "   macro avg       0.36      0.50      0.42       134\n",
            "weighted avg       0.67      0.91      0.77       134\n",
            "\n",
            "Elapsed time1.0612829999999462seconds\n",
            "Iteration: 3\n"
          ]
        },
        {
          "output_type": "stream",
          "name": "stderr",
          "text": [
            "/usr/local/lib/python3.7/dist-packages/sklearn/metrics/_classification.py:1318: UndefinedMetricWarning: Precision and F-score are ill-defined and being set to 0.0 in labels with no predicted samples. Use `zero_division` parameter to control this behavior.\n",
            "  _warn_prf(average, modifier, msg_start, len(result))\n",
            "/usr/local/lib/python3.7/dist-packages/sklearn/metrics/_classification.py:1318: UndefinedMetricWarning: Precision and F-score are ill-defined and being set to 0.0 in labels with no predicted samples. Use `zero_division` parameter to control this behavior.\n",
            "  _warn_prf(average, modifier, msg_start, len(result))\n",
            "/usr/local/lib/python3.7/dist-packages/sklearn/metrics/_classification.py:1318: UndefinedMetricWarning: Precision and F-score are ill-defined and being set to 0.0 in labels with no predicted samples. Use `zero_division` parameter to control this behavior.\n",
            "  _warn_prf(average, modifier, msg_start, len(result))\n",
            "/usr/local/lib/python3.7/dist-packages/ipykernel_launcher.py:56: DeprecationWarning: time.clock has been deprecated in Python 3.3 and will be removed from Python 3.8: use time.perf_counter or time.process_time instead\n",
            "/usr/local/lib/python3.7/dist-packages/ipykernel_launcher.py:45: DeprecationWarning: time.clock has been deprecated in Python 3.3 and will be removed from Python 3.8: use time.perf_counter or time.process_time instead\n"
          ]
        },
        {
          "output_type": "stream",
          "name": "stdout",
          "text": [
            "              precision    recall  f1-score   support\n",
            "\n",
            "     AGAINST       0.00      0.00      0.00        11\n",
            "       FAVOR       0.73      1.00      0.84       123\n",
            "\n",
            "   micro avg       0.73      0.92      0.81       134\n",
            "   macro avg       0.36      0.50      0.42       134\n",
            "weighted avg       0.67      0.92      0.77       134\n",
            "\n",
            "Elapsed time1.0591140000000223seconds\n",
            "Iteration: 4\n"
          ]
        },
        {
          "output_type": "stream",
          "name": "stderr",
          "text": [
            "/usr/local/lib/python3.7/dist-packages/sklearn/metrics/_classification.py:1318: UndefinedMetricWarning: Precision and F-score are ill-defined and being set to 0.0 in labels with no predicted samples. Use `zero_division` parameter to control this behavior.\n",
            "  _warn_prf(average, modifier, msg_start, len(result))\n",
            "/usr/local/lib/python3.7/dist-packages/sklearn/metrics/_classification.py:1318: UndefinedMetricWarning: Precision and F-score are ill-defined and being set to 0.0 in labels with no predicted samples. Use `zero_division` parameter to control this behavior.\n",
            "  _warn_prf(average, modifier, msg_start, len(result))\n",
            "/usr/local/lib/python3.7/dist-packages/sklearn/metrics/_classification.py:1318: UndefinedMetricWarning: Precision and F-score are ill-defined and being set to 0.0 in labels with no predicted samples. Use `zero_division` parameter to control this behavior.\n",
            "  _warn_prf(average, modifier, msg_start, len(result))\n",
            "/usr/local/lib/python3.7/dist-packages/ipykernel_launcher.py:56: DeprecationWarning: time.clock has been deprecated in Python 3.3 and will be removed from Python 3.8: use time.perf_counter or time.process_time instead\n",
            "/usr/local/lib/python3.7/dist-packages/ipykernel_launcher.py:45: DeprecationWarning: time.clock has been deprecated in Python 3.3 and will be removed from Python 3.8: use time.perf_counter or time.process_time instead\n"
          ]
        },
        {
          "output_type": "stream",
          "name": "stdout",
          "text": [
            "              precision    recall  f1-score   support\n",
            "\n",
            "     AGAINST       0.00      0.00      0.00        11\n",
            "       FAVOR       0.79      0.94      0.86       123\n",
            "\n",
            "   micro avg       0.79      0.87      0.83       134\n",
            "   macro avg       0.40      0.47      0.43       134\n",
            "weighted avg       0.73      0.87      0.79       134\n",
            "\n",
            "Elapsed time1.085694999999987seconds\n",
            "Iteration: 5\n"
          ]
        },
        {
          "output_type": "stream",
          "name": "stderr",
          "text": [
            "/usr/local/lib/python3.7/dist-packages/sklearn/metrics/_classification.py:1318: UndefinedMetricWarning: Precision and F-score are ill-defined and being set to 0.0 in labels with no predicted samples. Use `zero_division` parameter to control this behavior.\n",
            "  _warn_prf(average, modifier, msg_start, len(result))\n",
            "/usr/local/lib/python3.7/dist-packages/sklearn/metrics/_classification.py:1318: UndefinedMetricWarning: Precision and F-score are ill-defined and being set to 0.0 in labels with no predicted samples. Use `zero_division` parameter to control this behavior.\n",
            "  _warn_prf(average, modifier, msg_start, len(result))\n",
            "/usr/local/lib/python3.7/dist-packages/sklearn/metrics/_classification.py:1318: UndefinedMetricWarning: Precision and F-score are ill-defined and being set to 0.0 in labels with no predicted samples. Use `zero_division` parameter to control this behavior.\n",
            "  _warn_prf(average, modifier, msg_start, len(result))\n",
            "/usr/local/lib/python3.7/dist-packages/ipykernel_launcher.py:56: DeprecationWarning: time.clock has been deprecated in Python 3.3 and will be removed from Python 3.8: use time.perf_counter or time.process_time instead\n",
            "/usr/local/lib/python3.7/dist-packages/ipykernel_launcher.py:45: DeprecationWarning: time.clock has been deprecated in Python 3.3 and will be removed from Python 3.8: use time.perf_counter or time.process_time instead\n"
          ]
        },
        {
          "output_type": "stream",
          "name": "stdout",
          "text": [
            "              precision    recall  f1-score   support\n",
            "\n",
            "     AGAINST       0.00      0.00      0.00        11\n",
            "       FAVOR       0.83      0.86      0.85       123\n",
            "\n",
            "   micro avg       0.83      0.79      0.81       134\n",
            "   macro avg       0.42      0.43      0.42       134\n",
            "weighted avg       0.77      0.79      0.78       134\n",
            "\n",
            "Elapsed time1.0753109999999992seconds\n",
            "Iteration: 6\n"
          ]
        },
        {
          "output_type": "stream",
          "name": "stderr",
          "text": [
            "/usr/local/lib/python3.7/dist-packages/sklearn/metrics/_classification.py:1318: UndefinedMetricWarning: Precision and F-score are ill-defined and being set to 0.0 in labels with no predicted samples. Use `zero_division` parameter to control this behavior.\n",
            "  _warn_prf(average, modifier, msg_start, len(result))\n",
            "/usr/local/lib/python3.7/dist-packages/sklearn/metrics/_classification.py:1318: UndefinedMetricWarning: Precision and F-score are ill-defined and being set to 0.0 in labels with no predicted samples. Use `zero_division` parameter to control this behavior.\n",
            "  _warn_prf(average, modifier, msg_start, len(result))\n",
            "/usr/local/lib/python3.7/dist-packages/sklearn/metrics/_classification.py:1318: UndefinedMetricWarning: Precision and F-score are ill-defined and being set to 0.0 in labels with no predicted samples. Use `zero_division` parameter to control this behavior.\n",
            "  _warn_prf(average, modifier, msg_start, len(result))\n",
            "/usr/local/lib/python3.7/dist-packages/ipykernel_launcher.py:56: DeprecationWarning: time.clock has been deprecated in Python 3.3 and will be removed from Python 3.8: use time.perf_counter or time.process_time instead\n",
            "/usr/local/lib/python3.7/dist-packages/ipykernel_launcher.py:45: DeprecationWarning: time.clock has been deprecated in Python 3.3 and will be removed from Python 3.8: use time.perf_counter or time.process_time instead\n"
          ]
        },
        {
          "output_type": "stream",
          "name": "stdout",
          "text": [
            "              precision    recall  f1-score   support\n",
            "\n",
            "     AGAINST       0.00      0.00      0.00        11\n",
            "       FAVOR       0.84      0.83      0.84       123\n",
            "\n",
            "   micro avg       0.84      0.76      0.80       134\n",
            "   macro avg       0.42      0.41      0.42       134\n",
            "weighted avg       0.77      0.76      0.77       134\n",
            "\n",
            "Elapsed time1.0724190000000249seconds\n",
            "Iteration: 7\n"
          ]
        },
        {
          "output_type": "stream",
          "name": "stderr",
          "text": [
            "/usr/local/lib/python3.7/dist-packages/sklearn/metrics/_classification.py:1318: UndefinedMetricWarning: Precision and F-score are ill-defined and being set to 0.0 in labels with no predicted samples. Use `zero_division` parameter to control this behavior.\n",
            "  _warn_prf(average, modifier, msg_start, len(result))\n",
            "/usr/local/lib/python3.7/dist-packages/sklearn/metrics/_classification.py:1318: UndefinedMetricWarning: Precision and F-score are ill-defined and being set to 0.0 in labels with no predicted samples. Use `zero_division` parameter to control this behavior.\n",
            "  _warn_prf(average, modifier, msg_start, len(result))\n",
            "/usr/local/lib/python3.7/dist-packages/sklearn/metrics/_classification.py:1318: UndefinedMetricWarning: Precision and F-score are ill-defined and being set to 0.0 in labels with no predicted samples. Use `zero_division` parameter to control this behavior.\n",
            "  _warn_prf(average, modifier, msg_start, len(result))\n",
            "/usr/local/lib/python3.7/dist-packages/ipykernel_launcher.py:56: DeprecationWarning: time.clock has been deprecated in Python 3.3 and will be removed from Python 3.8: use time.perf_counter or time.process_time instead\n",
            "/usr/local/lib/python3.7/dist-packages/ipykernel_launcher.py:45: DeprecationWarning: time.clock has been deprecated in Python 3.3 and will be removed from Python 3.8: use time.perf_counter or time.process_time instead\n"
          ]
        },
        {
          "output_type": "stream",
          "name": "stdout",
          "text": [
            "              precision    recall  f1-score   support\n",
            "\n",
            "     AGAINST       0.00      0.00      0.00        11\n",
            "       FAVOR       0.84      0.79      0.82       123\n",
            "\n",
            "   micro avg       0.84      0.72      0.78       134\n",
            "   macro avg       0.42      0.39      0.41       134\n",
            "weighted avg       0.77      0.72      0.75       134\n",
            "\n",
            "Elapsed time1.0627479999999991seconds\n",
            "Iteration: 8\n"
          ]
        },
        {
          "output_type": "stream",
          "name": "stderr",
          "text": [
            "/usr/local/lib/python3.7/dist-packages/sklearn/metrics/_classification.py:1318: UndefinedMetricWarning: Precision and F-score are ill-defined and being set to 0.0 in labels with no predicted samples. Use `zero_division` parameter to control this behavior.\n",
            "  _warn_prf(average, modifier, msg_start, len(result))\n",
            "/usr/local/lib/python3.7/dist-packages/sklearn/metrics/_classification.py:1318: UndefinedMetricWarning: Precision and F-score are ill-defined and being set to 0.0 in labels with no predicted samples. Use `zero_division` parameter to control this behavior.\n",
            "  _warn_prf(average, modifier, msg_start, len(result))\n",
            "/usr/local/lib/python3.7/dist-packages/sklearn/metrics/_classification.py:1318: UndefinedMetricWarning: Precision and F-score are ill-defined and being set to 0.0 in labels with no predicted samples. Use `zero_division` parameter to control this behavior.\n",
            "  _warn_prf(average, modifier, msg_start, len(result))\n",
            "/usr/local/lib/python3.7/dist-packages/ipykernel_launcher.py:56: DeprecationWarning: time.clock has been deprecated in Python 3.3 and will be removed from Python 3.8: use time.perf_counter or time.process_time instead\n",
            "/usr/local/lib/python3.7/dist-packages/ipykernel_launcher.py:45: DeprecationWarning: time.clock has been deprecated in Python 3.3 and will be removed from Python 3.8: use time.perf_counter or time.process_time instead\n"
          ]
        },
        {
          "output_type": "stream",
          "name": "stdout",
          "text": [
            "              precision    recall  f1-score   support\n",
            "\n",
            "     AGAINST       0.00      0.00      0.00        11\n",
            "       FAVOR       0.82      0.84      0.83       123\n",
            "\n",
            "   micro avg       0.82      0.77      0.79       134\n",
            "   macro avg       0.41      0.42      0.41       134\n",
            "weighted avg       0.75      0.77      0.76       134\n",
            "\n",
            "Elapsed time1.0763790000000313seconds\n",
            "Iteration: 9\n",
            "              precision    recall  f1-score   support\n",
            "\n",
            "     AGAINST       0.00      0.00      0.00        11\n",
            "       FAVOR       0.81      0.81      0.81       123\n",
            "\n",
            "   micro avg       0.81      0.75      0.78       134\n",
            "   macro avg       0.41      0.41      0.41       134\n",
            "weighted avg       0.75      0.75      0.75       134\n",
            "\n",
            "Elapsed time1.056214999999952seconds\n",
            "Iteration: 10\n"
          ]
        },
        {
          "output_type": "stream",
          "name": "stderr",
          "text": [
            "/usr/local/lib/python3.7/dist-packages/ipykernel_launcher.py:56: DeprecationWarning: time.clock has been deprecated in Python 3.3 and will be removed from Python 3.8: use time.perf_counter or time.process_time instead\n",
            "/usr/local/lib/python3.7/dist-packages/ipykernel_launcher.py:45: DeprecationWarning: time.clock has been deprecated in Python 3.3 and will be removed from Python 3.8: use time.perf_counter or time.process_time instead\n"
          ]
        },
        {
          "output_type": "stream",
          "name": "stdout",
          "text": [
            "              precision    recall  f1-score   support\n",
            "\n",
            "     AGAINST       0.00      0.00      0.00        11\n",
            "       FAVOR       0.79      0.85      0.82       123\n",
            "\n",
            "   micro avg       0.78      0.78      0.78       134\n",
            "   macro avg       0.39      0.42      0.41       134\n",
            "weighted avg       0.72      0.78      0.75       134\n",
            "\n",
            "Elapsed time1.085696999999982seconds\n",
            "Iteration: 11\n"
          ]
        },
        {
          "output_type": "stream",
          "name": "stderr",
          "text": [
            "/usr/local/lib/python3.7/dist-packages/ipykernel_launcher.py:56: DeprecationWarning: time.clock has been deprecated in Python 3.3 and will be removed from Python 3.8: use time.perf_counter or time.process_time instead\n",
            "/usr/local/lib/python3.7/dist-packages/ipykernel_launcher.py:45: DeprecationWarning: time.clock has been deprecated in Python 3.3 and will be removed from Python 3.8: use time.perf_counter or time.process_time instead\n"
          ]
        },
        {
          "output_type": "stream",
          "name": "stdout",
          "text": [
            "              precision    recall  f1-score   support\n",
            "\n",
            "     AGAINST       0.00      0.00      0.00        11\n",
            "       FAVOR       0.82      0.77      0.79       123\n",
            "\n",
            "   micro avg       0.81      0.71      0.76       134\n",
            "   macro avg       0.41      0.39      0.40       134\n",
            "weighted avg       0.75      0.71      0.73       134\n",
            "\n",
            "Elapsed time1.0479990000000043seconds\n",
            "Iteration: 12\n"
          ]
        },
        {
          "output_type": "stream",
          "name": "stderr",
          "text": [
            "/usr/local/lib/python3.7/dist-packages/ipykernel_launcher.py:56: DeprecationWarning: time.clock has been deprecated in Python 3.3 and will be removed from Python 3.8: use time.perf_counter or time.process_time instead\n",
            "/usr/local/lib/python3.7/dist-packages/ipykernel_launcher.py:45: DeprecationWarning: time.clock has been deprecated in Python 3.3 and will be removed from Python 3.8: use time.perf_counter or time.process_time instead\n"
          ]
        },
        {
          "output_type": "stream",
          "name": "stdout",
          "text": [
            "              precision    recall  f1-score   support\n",
            "\n",
            "     AGAINST       0.00      0.00      0.00        11\n",
            "       FAVOR       0.79      0.84      0.81       123\n",
            "\n",
            "   micro avg       0.78      0.77      0.77       134\n",
            "   macro avg       0.39      0.42      0.41       134\n",
            "weighted avg       0.72      0.77      0.74       134\n",
            "\n",
            "Elapsed time1.3830659999999853seconds\n",
            "Iteration: 13\n"
          ]
        },
        {
          "output_type": "stream",
          "name": "stderr",
          "text": [
            "/usr/local/lib/python3.7/dist-packages/ipykernel_launcher.py:56: DeprecationWarning: time.clock has been deprecated in Python 3.3 and will be removed from Python 3.8: use time.perf_counter or time.process_time instead\n",
            "/usr/local/lib/python3.7/dist-packages/ipykernel_launcher.py:45: DeprecationWarning: time.clock has been deprecated in Python 3.3 and will be removed from Python 3.8: use time.perf_counter or time.process_time instead\n"
          ]
        },
        {
          "output_type": "stream",
          "name": "stdout",
          "text": [
            "              precision    recall  f1-score   support\n",
            "\n",
            "     AGAINST       0.00      0.00      0.00        11\n",
            "       FAVOR       0.81      0.82      0.82       123\n",
            "\n",
            "   micro avg       0.81      0.75      0.78       134\n",
            "   macro avg       0.41      0.41      0.41       134\n",
            "weighted avg       0.75      0.75      0.75       134\n",
            "\n",
            "Elapsed time1.0642539999999485seconds\n",
            "Iteration: 14\n"
          ]
        },
        {
          "output_type": "stream",
          "name": "stderr",
          "text": [
            "/usr/local/lib/python3.7/dist-packages/ipykernel_launcher.py:56: DeprecationWarning: time.clock has been deprecated in Python 3.3 and will be removed from Python 3.8: use time.perf_counter or time.process_time instead\n",
            "/usr/local/lib/python3.7/dist-packages/ipykernel_launcher.py:45: DeprecationWarning: time.clock has been deprecated in Python 3.3 and will be removed from Python 3.8: use time.perf_counter or time.process_time instead\n"
          ]
        },
        {
          "output_type": "stream",
          "name": "stdout",
          "text": [
            "              precision    recall  f1-score   support\n",
            "\n",
            "     AGAINST       0.00      0.00      0.00        11\n",
            "       FAVOR       0.82      0.83      0.82       123\n",
            "\n",
            "   micro avg       0.81      0.76      0.78       134\n",
            "   macro avg       0.41      0.41      0.41       134\n",
            "weighted avg       0.75      0.76      0.76       134\n",
            "\n",
            "Elapsed time1.0737340000000017seconds\n",
            "Iteration: 15\n"
          ]
        },
        {
          "output_type": "stream",
          "name": "stderr",
          "text": [
            "/usr/local/lib/python3.7/dist-packages/ipykernel_launcher.py:56: DeprecationWarning: time.clock has been deprecated in Python 3.3 and will be removed from Python 3.8: use time.perf_counter or time.process_time instead\n",
            "/usr/local/lib/python3.7/dist-packages/ipykernel_launcher.py:45: DeprecationWarning: time.clock has been deprecated in Python 3.3 and will be removed from Python 3.8: use time.perf_counter or time.process_time instead\n"
          ]
        },
        {
          "output_type": "stream",
          "name": "stdout",
          "text": [
            "              precision    recall  f1-score   support\n",
            "\n",
            "     AGAINST       0.00      0.00      0.00        11\n",
            "       FAVOR       0.79      0.84      0.81       123\n",
            "\n",
            "   micro avg       0.79      0.77      0.78       134\n",
            "   macro avg       0.40      0.42      0.41       134\n",
            "weighted avg       0.73      0.77      0.75       134\n",
            "\n",
            "Elapsed time1.074294000000009seconds\n",
            "Iteration: 16\n"
          ]
        },
        {
          "output_type": "stream",
          "name": "stderr",
          "text": [
            "/usr/local/lib/python3.7/dist-packages/ipykernel_launcher.py:56: DeprecationWarning: time.clock has been deprecated in Python 3.3 and will be removed from Python 3.8: use time.perf_counter or time.process_time instead\n",
            "/usr/local/lib/python3.7/dist-packages/ipykernel_launcher.py:45: DeprecationWarning: time.clock has been deprecated in Python 3.3 and will be removed from Python 3.8: use time.perf_counter or time.process_time instead\n"
          ]
        },
        {
          "output_type": "stream",
          "name": "stdout",
          "text": [
            "              precision    recall  f1-score   support\n",
            "\n",
            "     AGAINST       0.00      0.00      0.00        11\n",
            "       FAVOR       0.79      0.84      0.81       123\n",
            "\n",
            "   micro avg       0.78      0.77      0.77       134\n",
            "   macro avg       0.39      0.42      0.41       134\n",
            "weighted avg       0.72      0.77      0.74       134\n",
            "\n",
            "Elapsed time1.1541579999999954seconds\n",
            "Iteration: 17\n"
          ]
        },
        {
          "output_type": "stream",
          "name": "stderr",
          "text": [
            "/usr/local/lib/python3.7/dist-packages/ipykernel_launcher.py:56: DeprecationWarning: time.clock has been deprecated in Python 3.3 and will be removed from Python 3.8: use time.perf_counter or time.process_time instead\n",
            "/usr/local/lib/python3.7/dist-packages/ipykernel_launcher.py:45: DeprecationWarning: time.clock has been deprecated in Python 3.3 and will be removed from Python 3.8: use time.perf_counter or time.process_time instead\n"
          ]
        },
        {
          "output_type": "stream",
          "name": "stdout",
          "text": [
            "              precision    recall  f1-score   support\n",
            "\n",
            "     AGAINST       0.00      0.00      0.00        11\n",
            "       FAVOR       0.79      0.84      0.81       123\n",
            "\n",
            "   micro avg       0.78      0.77      0.77       134\n",
            "   macro avg       0.39      0.42      0.41       134\n",
            "weighted avg       0.72      0.77      0.74       134\n",
            "\n",
            "Elapsed time1.0476540000000227seconds\n",
            "Iteration: 18\n"
          ]
        },
        {
          "output_type": "stream",
          "name": "stderr",
          "text": [
            "/usr/local/lib/python3.7/dist-packages/ipykernel_launcher.py:56: DeprecationWarning: time.clock has been deprecated in Python 3.3 and will be removed from Python 3.8: use time.perf_counter or time.process_time instead\n",
            "/usr/local/lib/python3.7/dist-packages/ipykernel_launcher.py:45: DeprecationWarning: time.clock has been deprecated in Python 3.3 and will be removed from Python 3.8: use time.perf_counter or time.process_time instead\n"
          ]
        },
        {
          "output_type": "stream",
          "name": "stdout",
          "text": [
            "              precision    recall  f1-score   support\n",
            "\n",
            "     AGAINST       0.00      0.00      0.00        11\n",
            "       FAVOR       0.78      0.85      0.82       123\n",
            "\n",
            "   micro avg       0.78      0.78      0.78       134\n",
            "   macro avg       0.39      0.43      0.41       134\n",
            "weighted avg       0.72      0.78      0.75       134\n",
            "\n",
            "Elapsed time1.043875000000014seconds\n",
            "Iteration: 19\n"
          ]
        },
        {
          "output_type": "stream",
          "name": "stderr",
          "text": [
            "/usr/local/lib/python3.7/dist-packages/ipykernel_launcher.py:56: DeprecationWarning: time.clock has been deprecated in Python 3.3 and will be removed from Python 3.8: use time.perf_counter or time.process_time instead\n",
            "/usr/local/lib/python3.7/dist-packages/ipykernel_launcher.py:45: DeprecationWarning: time.clock has been deprecated in Python 3.3 and will be removed from Python 3.8: use time.perf_counter or time.process_time instead\n"
          ]
        },
        {
          "output_type": "stream",
          "name": "stdout",
          "text": [
            "              precision    recall  f1-score   support\n",
            "\n",
            "     AGAINST       0.00      0.00      0.00        11\n",
            "       FAVOR       0.78      0.85      0.81       123\n",
            "\n",
            "   micro avg       0.78      0.78      0.78       134\n",
            "   macro avg       0.39      0.42      0.41       134\n",
            "weighted avg       0.72      0.78      0.75       134\n",
            "\n",
            "Elapsed time1.0551209999999855seconds\n"
          ]
        },
        {
          "output_type": "stream",
          "name": "stderr",
          "text": [
            "/usr/local/lib/python3.7/dist-packages/ipykernel_launcher.py:56: DeprecationWarning: time.clock has been deprecated in Python 3.3 and will be removed from Python 3.8: use time.perf_counter or time.process_time instead\n"
          ]
        }
      ]
    },
    {
      "cell_type": "markdown",
      "source": [
        "2. TODO Reuse the above code to train a new classifier for fake news using the celebrity and the fake news datasets: \n",
        "\n",
        "  Data: \"/content/drive/My Drive/Colab Notebooks/2022-ILTAPP/datasets/fake_rada\"\n",
        "\n",
        "  2.1 HINT: You need to (i) load the data into a pandas dataframe; (ii) modify the labels from the converter and training functions.\n",
        "\n",
        "  2.2 HINT:Once you have a pandas dataframe, it is easy to split the data into 80% for training and 20% for testing."
      ],
      "metadata": {
        "id": "2tjlt42i8XsI"
      }
    },
    {
      "cell_type": "code",
      "source": [
        "def Sort(sub_li):\n",
        "  # reverse = True (Soresulting_list = list(first_list)rts in Descending  order) \n",
        "  # key is set to sort using second element of  \n",
        "  # sublist lambda has been used \n",
        "  return(sorted(sub_li, key = lambda x: x[1],reverse=True))  \n",
        "\n",
        "# run the predictions on each sentence in the evaluation  dataset, and return the metrics\n",
        "def evaluate(tokenizer, textcat, test_texts, test_cats ):\n",
        "  docs = (tokenizer(text) for text in test_texts)\n",
        "  preds = []\n",
        "  for i, doc in enumerate(textcat.pipe(docs)):\n",
        "    #print(doc.cats.items())\n",
        "    scores = Sort(doc.cats.items())\n",
        "    #print(scores)\n",
        "    catList=[]\n",
        "    for score in scores:\n",
        "      catList.append(score[0])\n",
        "    preds.append(catList[0])\n",
        "        \n",
        "  labels = ['fake', 'legit']\n",
        "  print(classification_report(test_cats, preds,labels=labels))\n",
        "\n",
        "def train_spacy(train_data, iterations,test_texts,test_cats, model_arch, dropout = 0.3, model=None, init_tok2vec=None):\n",
        "    ''' Train a spacy NER model, which can be queried against with test data\n",
        "   \n",
        "    train_data : training data in the format of (sentence, {cats: ['AGAINST'|'FAVOR'|'NONE']})\n",
        "    labels : a list of unique annotations\n",
        "    iterations : number of training iterations\n",
        "    dropout : dropout proportion for training\n",
        "    display_freq : number of epochs between logging losses to console\n",
        "    '''\n",
        "    \n",
        "    nlp = spacy.load('en_core_web_sm')\n",
        "    \n",
        "\n",
        "    # add the text classifier to the pipeline if it doesn't exist\n",
        "    # nlp.create_pipe works for built-ins that are registered with spaCy\n",
        "    if \"textcat\" not in nlp.pipe_names:\n",
        "        textcat = nlp.create_pipe(\n",
        "            \"textcat\", config={\"exclusive_classes\": True, \"architecture\": model_arch}\n",
        "        )\n",
        "        nlp.add_pipe(textcat, last=True)\n",
        "        \n",
        "    # otherwise, get it, so we can add labels to it\n",
        "    else:\n",
        "        textcat = nlp.get_pipe(\"textcat\")\n",
        "\n",
        "    # add label to text classifier\n",
        "    textcat.add_label(\"fake\")\n",
        "    textcat.add_label(\"legit\")\n",
        "\n",
        "    # get names of other pipes to disable them during training\n",
        "    pipe_exceptions = [\"textcat\", \"trf_wordpiecer\", \"trf_tok2vec\"]\n",
        "    other_pipes = [pipe for pipe in nlp.pipe_names if pipe not in pipe_exceptions]\n",
        "    with nlp.disable_pipes(*other_pipes):  # only train textcat\n",
        "        optimizer = nlp.begin_training()\n",
        "        if init_tok2vec is not None:\n",
        "            with init_tok2vec.open(\"rb\") as file_:\n",
        "                textcat.model.tok2vec.from_bytes(file_.read())\n",
        "        print(\"Training the model...\")\n",
        "        print(\"{:^5}\\t{:^5}\\t{:^5}\\t{:^5}\".format(\"LOSS\", \"P\", \"R\", \"F\"))\n",
        "        batch_sizes = compounding(16.0, 64.0, 1.5)\n",
        "        for i in range(iterations):\n",
        "            print('Iteration: '+str(i))\n",
        "            start_time = time.clock()\n",
        "            losses = {}\n",
        "            # batch up the examples using spaCy's minibatch\n",
        "            random.shuffle(train_data)\n",
        "            batches = minibatch(train_data, size=batch_sizes)\n",
        "            for batch in batches:\n",
        "                texts, annotations = zip(*batch)\n",
        "                nlp.update(texts, annotations, sgd=optimizer, drop=dropout, losses=losses)\n",
        "            with textcat.model.use_params(optimizer.averages):\n",
        "                # evaluate on the test data \n",
        "                evaluate(nlp.tokenizer, textcat, test_texts,test_cats)\n",
        "            print ('Elapsed time'+str(time.clock() - start_time)+  \"seconds\")\n",
        "        with nlp.use_params(optimizer.averages):\n",
        "            model_name = model_arch + \"_Feminism_Stance_Semeval2016\"\n",
        "            filepath = \"/content/drive/MyDrive/2022-ILTAPP/resources/\" + model_name \n",
        "            nlp.to_disk(filepath)\n",
        "    return nlp\n",
        "\n",
        "def load_data_spacy(fname):\n",
        "    # Read dataset\n",
        "\n",
        "    # Since the file we are reading does not have the first row as column names we will specify them ourselves\n",
        "    #   header = 0    -> We tell you not to take the first row as names.\n",
        "    #   names = [...] -> The list of names to be used to identify the columns\n",
        "    data = pd.read_csv(fname, sep='\\t', encoding='utf-8', header=0, names=['Type', 'Text'])\n",
        "    #data = pd.read_csv(fname, sep='\\t', encoding='utf-8')\n",
        "\n",
        "    # Split data\n",
        "    \n",
        "    training_data, test_data = train_test_split(data, test_size=0.2)\n",
        "\n",
        "   # Now we can directly use the names we have given to the columns to identify them\n",
        "    # In case you do not know the names and want to identify them by column number, you would put this -> training_data[training_data.keys()[1]].tolist()\n",
        "    training_data[training_data.keys()[1]].tolist()\n",
        "\n",
        "    train_texts = training_data['Text'].tolist()\n",
        "    train_cats = training_data['Type'].tolist()\n",
        "\n",
        "    test_texts = test_data['Text'].tolist()\n",
        "    test_cats = test_data['Type'].tolist()\n",
        "         \n",
        "    final_train_cats=[]\n",
        "    for cat in train_cats:\n",
        "      cat_list = {}\n",
        "      if cat == 'fake':\n",
        "        cat_list['fake'] =  1\n",
        "        cat_list['legit'] =  0\n",
        "     \n",
        "      else:\n",
        "        cat_list['fake'] =  0\n",
        "        cat_list['legit'] =  1\n",
        "        \n",
        "      final_train_cats.append(cat_list)\n",
        "      \n",
        "    train_data = list(zip(train_texts, [{\"cats\": cats} for cats in final_train_cats]))\n",
        "    # In the return we add the test separation\n",
        "    return train_data, test_data, train_texts, train_cats, test_texts, test_cats\n",
        "\n"
      ],
      "metadata": {
        "id": "Iolf9A-F6OPz"
      },
      "execution_count": 53,
      "outputs": []
    },
    {
      "cell_type": "code",
      "source": [
        "\n",
        "train_data, test_data, train_texts, train_cats, test_texts, test_cats = load_data_spacy(\"/content/drive/MyDrive/2022-ILTAPP/datasets/fake_rada/fake_news_full.tsv\")\n",
        "nlp = train_spacy(train_data, 20, test_texts, test_cats, \"simple_cnn\")\n"
      ],
      "metadata": {
        "colab": {
          "base_uri": "https://localhost:8080/"
        },
        "id": "mUjI2oXL6OGD",
        "outputId": "fea9d6b8-10ad-449f-de2d-c46fc136776b"
      },
      "execution_count": 54,
      "outputs": [
        {
          "output_type": "stream",
          "name": "stdout",
          "text": [
            "Training the model...\n",
            "LOSS \t  P  \t  R  \t  F  \n",
            "Iteration: 0\n"
          ]
        },
        {
          "output_type": "stream",
          "name": "stderr",
          "text": [
            "/usr/local/lib/python3.7/dist-packages/ipykernel_launcher.py:65: DeprecationWarning: time.clock has been deprecated in Python 3.3 and will be removed from Python 3.8: use time.perf_counter or time.process_time instead\n"
          ]
        },
        {
          "output_type": "stream",
          "name": "stdout",
          "text": [
            "              precision    recall  f1-score   support\n",
            "\n",
            "        fake       0.85      0.22      0.35        49\n",
            "       legit       0.54      0.96      0.69        47\n",
            "\n",
            "    accuracy                           0.58        96\n",
            "   macro avg       0.69      0.59      0.52        96\n",
            "weighted avg       0.70      0.58      0.52        96\n",
            "\n",
            "Elapsed time5.512871000000018seconds\n",
            "Iteration: 1\n"
          ]
        },
        {
          "output_type": "stream",
          "name": "stderr",
          "text": [
            "/usr/local/lib/python3.7/dist-packages/ipykernel_launcher.py:76: DeprecationWarning: time.clock has been deprecated in Python 3.3 and will be removed from Python 3.8: use time.perf_counter or time.process_time instead\n",
            "/usr/local/lib/python3.7/dist-packages/ipykernel_launcher.py:65: DeprecationWarning: time.clock has been deprecated in Python 3.3 and will be removed from Python 3.8: use time.perf_counter or time.process_time instead\n",
            "/usr/local/lib/python3.7/dist-packages/sklearn/metrics/_classification.py:1318: UndefinedMetricWarning: Precision and F-score are ill-defined and being set to 0.0 in labels with no predicted samples. Use `zero_division` parameter to control this behavior.\n",
            "  _warn_prf(average, modifier, msg_start, len(result))\n",
            "/usr/local/lib/python3.7/dist-packages/sklearn/metrics/_classification.py:1318: UndefinedMetricWarning: Precision and F-score are ill-defined and being set to 0.0 in labels with no predicted samples. Use `zero_division` parameter to control this behavior.\n",
            "  _warn_prf(average, modifier, msg_start, len(result))\n",
            "/usr/local/lib/python3.7/dist-packages/sklearn/metrics/_classification.py:1318: UndefinedMetricWarning: Precision and F-score are ill-defined and being set to 0.0 in labels with no predicted samples. Use `zero_division` parameter to control this behavior.\n",
            "  _warn_prf(average, modifier, msg_start, len(result))\n",
            "/usr/local/lib/python3.7/dist-packages/ipykernel_launcher.py:76: DeprecationWarning: time.clock has been deprecated in Python 3.3 and will be removed from Python 3.8: use time.perf_counter or time.process_time instead\n",
            "/usr/local/lib/python3.7/dist-packages/ipykernel_launcher.py:65: DeprecationWarning: time.clock has been deprecated in Python 3.3 and will be removed from Python 3.8: use time.perf_counter or time.process_time instead\n"
          ]
        },
        {
          "output_type": "stream",
          "name": "stdout",
          "text": [
            "              precision    recall  f1-score   support\n",
            "\n",
            "        fake       0.00      0.00      0.00        49\n",
            "       legit       0.49      1.00      0.66        47\n",
            "\n",
            "    accuracy                           0.49        96\n",
            "   macro avg       0.24      0.50      0.33        96\n",
            "weighted avg       0.24      0.49      0.32        96\n",
            "\n",
            "Elapsed time4.971512000000018seconds\n",
            "Iteration: 2\n",
            "              precision    recall  f1-score   support\n",
            "\n",
            "        fake       0.60      0.84      0.70        49\n",
            "       legit       0.71      0.43      0.53        47\n",
            "\n",
            "    accuracy                           0.64        96\n",
            "   macro avg       0.66      0.63      0.62        96\n",
            "weighted avg       0.66      0.64      0.62        96\n",
            "\n",
            "Elapsed time5.201062000000036seconds\n",
            "Iteration: 3\n"
          ]
        },
        {
          "output_type": "stream",
          "name": "stderr",
          "text": [
            "/usr/local/lib/python3.7/dist-packages/ipykernel_launcher.py:76: DeprecationWarning: time.clock has been deprecated in Python 3.3 and will be removed from Python 3.8: use time.perf_counter or time.process_time instead\n",
            "/usr/local/lib/python3.7/dist-packages/ipykernel_launcher.py:65: DeprecationWarning: time.clock has been deprecated in Python 3.3 and will be removed from Python 3.8: use time.perf_counter or time.process_time instead\n"
          ]
        },
        {
          "output_type": "stream",
          "name": "stdout",
          "text": [
            "              precision    recall  f1-score   support\n",
            "\n",
            "        fake       0.72      0.80      0.76        49\n",
            "       legit       0.76      0.68      0.72        47\n",
            "\n",
            "    accuracy                           0.74        96\n",
            "   macro avg       0.74      0.74      0.74        96\n",
            "weighted avg       0.74      0.74      0.74        96\n",
            "\n",
            "Elapsed time4.981127000000015seconds\n",
            "Iteration: 4\n"
          ]
        },
        {
          "output_type": "stream",
          "name": "stderr",
          "text": [
            "/usr/local/lib/python3.7/dist-packages/ipykernel_launcher.py:76: DeprecationWarning: time.clock has been deprecated in Python 3.3 and will be removed from Python 3.8: use time.perf_counter or time.process_time instead\n",
            "/usr/local/lib/python3.7/dist-packages/ipykernel_launcher.py:65: DeprecationWarning: time.clock has been deprecated in Python 3.3 and will be removed from Python 3.8: use time.perf_counter or time.process_time instead\n"
          ]
        },
        {
          "output_type": "stream",
          "name": "stdout",
          "text": [
            "              precision    recall  f1-score   support\n",
            "\n",
            "        fake       0.67      0.86      0.75        49\n",
            "       legit       0.79      0.55      0.65        47\n",
            "\n",
            "    accuracy                           0.71        96\n",
            "   macro avg       0.73      0.71      0.70        96\n",
            "weighted avg       0.73      0.71      0.70        96\n",
            "\n",
            "Elapsed time5.244661000000008seconds\n",
            "Iteration: 5\n"
          ]
        },
        {
          "output_type": "stream",
          "name": "stderr",
          "text": [
            "/usr/local/lib/python3.7/dist-packages/ipykernel_launcher.py:76: DeprecationWarning: time.clock has been deprecated in Python 3.3 and will be removed from Python 3.8: use time.perf_counter or time.process_time instead\n",
            "/usr/local/lib/python3.7/dist-packages/ipykernel_launcher.py:65: DeprecationWarning: time.clock has been deprecated in Python 3.3 and will be removed from Python 3.8: use time.perf_counter or time.process_time instead\n"
          ]
        },
        {
          "output_type": "stream",
          "name": "stdout",
          "text": [
            "              precision    recall  f1-score   support\n",
            "\n",
            "        fake       0.74      0.76      0.75        49\n",
            "       legit       0.74      0.72      0.73        47\n",
            "\n",
            "    accuracy                           0.74        96\n",
            "   macro avg       0.74      0.74      0.74        96\n",
            "weighted avg       0.74      0.74      0.74        96\n",
            "\n",
            "Elapsed time4.949882000000002seconds\n",
            "Iteration: 6\n"
          ]
        },
        {
          "output_type": "stream",
          "name": "stderr",
          "text": [
            "/usr/local/lib/python3.7/dist-packages/ipykernel_launcher.py:76: DeprecationWarning: time.clock has been deprecated in Python 3.3 and will be removed from Python 3.8: use time.perf_counter or time.process_time instead\n",
            "/usr/local/lib/python3.7/dist-packages/ipykernel_launcher.py:65: DeprecationWarning: time.clock has been deprecated in Python 3.3 and will be removed from Python 3.8: use time.perf_counter or time.process_time instead\n"
          ]
        },
        {
          "output_type": "stream",
          "name": "stdout",
          "text": [
            "              precision    recall  f1-score   support\n",
            "\n",
            "        fake       0.79      0.63      0.70        49\n",
            "       legit       0.68      0.83      0.75        47\n",
            "\n",
            "    accuracy                           0.73        96\n",
            "   macro avg       0.74      0.73      0.73        96\n",
            "weighted avg       0.74      0.73      0.73        96\n",
            "\n",
            "Elapsed time4.928399000000013seconds\n",
            "Iteration: 7\n"
          ]
        },
        {
          "output_type": "stream",
          "name": "stderr",
          "text": [
            "/usr/local/lib/python3.7/dist-packages/ipykernel_launcher.py:76: DeprecationWarning: time.clock has been deprecated in Python 3.3 and will be removed from Python 3.8: use time.perf_counter or time.process_time instead\n",
            "/usr/local/lib/python3.7/dist-packages/ipykernel_launcher.py:65: DeprecationWarning: time.clock has been deprecated in Python 3.3 and will be removed from Python 3.8: use time.perf_counter or time.process_time instead\n"
          ]
        },
        {
          "output_type": "stream",
          "name": "stdout",
          "text": [
            "              precision    recall  f1-score   support\n",
            "\n",
            "        fake       0.61      0.88      0.72        49\n",
            "       legit       0.77      0.43      0.55        47\n",
            "\n",
            "    accuracy                           0.66        96\n",
            "   macro avg       0.69      0.65      0.64        96\n",
            "weighted avg       0.69      0.66      0.64        96\n",
            "\n",
            "Elapsed time4.927389000000062seconds\n",
            "Iteration: 8\n"
          ]
        },
        {
          "output_type": "stream",
          "name": "stderr",
          "text": [
            "/usr/local/lib/python3.7/dist-packages/ipykernel_launcher.py:76: DeprecationWarning: time.clock has been deprecated in Python 3.3 and will be removed from Python 3.8: use time.perf_counter or time.process_time instead\n",
            "/usr/local/lib/python3.7/dist-packages/ipykernel_launcher.py:65: DeprecationWarning: time.clock has been deprecated in Python 3.3 and will be removed from Python 3.8: use time.perf_counter or time.process_time instead\n"
          ]
        },
        {
          "output_type": "stream",
          "name": "stdout",
          "text": [
            "              precision    recall  f1-score   support\n",
            "\n",
            "        fake       0.78      0.65      0.71        49\n",
            "       legit       0.69      0.81      0.75        47\n",
            "\n",
            "    accuracy                           0.73        96\n",
            "   macro avg       0.74      0.73      0.73        96\n",
            "weighted avg       0.74      0.73      0.73        96\n",
            "\n",
            "Elapsed time4.9346910000000435seconds\n",
            "Iteration: 9\n"
          ]
        },
        {
          "output_type": "stream",
          "name": "stderr",
          "text": [
            "/usr/local/lib/python3.7/dist-packages/ipykernel_launcher.py:76: DeprecationWarning: time.clock has been deprecated in Python 3.3 and will be removed from Python 3.8: use time.perf_counter or time.process_time instead\n",
            "/usr/local/lib/python3.7/dist-packages/ipykernel_launcher.py:65: DeprecationWarning: time.clock has been deprecated in Python 3.3 and will be removed from Python 3.8: use time.perf_counter or time.process_time instead\n"
          ]
        },
        {
          "output_type": "stream",
          "name": "stdout",
          "text": [
            "              precision    recall  f1-score   support\n",
            "\n",
            "        fake       0.65      0.86      0.74        49\n",
            "       legit       0.77      0.51      0.62        47\n",
            "\n",
            "    accuracy                           0.69        96\n",
            "   macro avg       0.71      0.68      0.68        96\n",
            "weighted avg       0.71      0.69      0.68        96\n",
            "\n",
            "Elapsed time5.0361780000000635seconds\n",
            "Iteration: 10\n"
          ]
        },
        {
          "output_type": "stream",
          "name": "stderr",
          "text": [
            "/usr/local/lib/python3.7/dist-packages/ipykernel_launcher.py:76: DeprecationWarning: time.clock has been deprecated in Python 3.3 and will be removed from Python 3.8: use time.perf_counter or time.process_time instead\n",
            "/usr/local/lib/python3.7/dist-packages/ipykernel_launcher.py:65: DeprecationWarning: time.clock has been deprecated in Python 3.3 and will be removed from Python 3.8: use time.perf_counter or time.process_time instead\n"
          ]
        },
        {
          "output_type": "stream",
          "name": "stdout",
          "text": [
            "              precision    recall  f1-score   support\n",
            "\n",
            "        fake       0.76      0.69      0.72        49\n",
            "       legit       0.71      0.77      0.73        47\n",
            "\n",
            "    accuracy                           0.73        96\n",
            "   macro avg       0.73      0.73      0.73        96\n",
            "weighted avg       0.73      0.73      0.73        96\n",
            "\n",
            "Elapsed time4.9054570000000695seconds\n",
            "Iteration: 11\n"
          ]
        },
        {
          "output_type": "stream",
          "name": "stderr",
          "text": [
            "/usr/local/lib/python3.7/dist-packages/ipykernel_launcher.py:76: DeprecationWarning: time.clock has been deprecated in Python 3.3 and will be removed from Python 3.8: use time.perf_counter or time.process_time instead\n",
            "/usr/local/lib/python3.7/dist-packages/ipykernel_launcher.py:65: DeprecationWarning: time.clock has been deprecated in Python 3.3 and will be removed from Python 3.8: use time.perf_counter or time.process_time instead\n"
          ]
        },
        {
          "output_type": "stream",
          "name": "stdout",
          "text": [
            "              precision    recall  f1-score   support\n",
            "\n",
            "        fake       0.65      0.82      0.72        49\n",
            "       legit       0.74      0.53      0.62        47\n",
            "\n",
            "    accuracy                           0.68        96\n",
            "   macro avg       0.69      0.67      0.67        96\n",
            "weighted avg       0.69      0.68      0.67        96\n",
            "\n",
            "Elapsed time4.902674000000047seconds\n",
            "Iteration: 12\n"
          ]
        },
        {
          "output_type": "stream",
          "name": "stderr",
          "text": [
            "/usr/local/lib/python3.7/dist-packages/ipykernel_launcher.py:76: DeprecationWarning: time.clock has been deprecated in Python 3.3 and will be removed from Python 3.8: use time.perf_counter or time.process_time instead\n",
            "/usr/local/lib/python3.7/dist-packages/ipykernel_launcher.py:65: DeprecationWarning: time.clock has been deprecated in Python 3.3 and will be removed from Python 3.8: use time.perf_counter or time.process_time instead\n"
          ]
        },
        {
          "output_type": "stream",
          "name": "stdout",
          "text": [
            "              precision    recall  f1-score   support\n",
            "\n",
            "        fake       0.73      0.76      0.74        49\n",
            "       legit       0.73      0.70      0.72        47\n",
            "\n",
            "    accuracy                           0.73        96\n",
            "   macro avg       0.73      0.73      0.73        96\n",
            "weighted avg       0.73      0.73      0.73        96\n",
            "\n",
            "Elapsed time4.983365000000049seconds\n",
            "Iteration: 13\n"
          ]
        },
        {
          "output_type": "stream",
          "name": "stderr",
          "text": [
            "/usr/local/lib/python3.7/dist-packages/ipykernel_launcher.py:76: DeprecationWarning: time.clock has been deprecated in Python 3.3 and will be removed from Python 3.8: use time.perf_counter or time.process_time instead\n",
            "/usr/local/lib/python3.7/dist-packages/ipykernel_launcher.py:65: DeprecationWarning: time.clock has been deprecated in Python 3.3 and will be removed from Python 3.8: use time.perf_counter or time.process_time instead\n"
          ]
        },
        {
          "output_type": "stream",
          "name": "stdout",
          "text": [
            "              precision    recall  f1-score   support\n",
            "\n",
            "        fake       0.70      0.76      0.73        49\n",
            "       legit       0.72      0.66      0.69        47\n",
            "\n",
            "    accuracy                           0.71        96\n",
            "   macro avg       0.71      0.71      0.71        96\n",
            "weighted avg       0.71      0.71      0.71        96\n",
            "\n",
            "Elapsed time5.217180999999982seconds\n",
            "Iteration: 14\n"
          ]
        },
        {
          "output_type": "stream",
          "name": "stderr",
          "text": [
            "/usr/local/lib/python3.7/dist-packages/ipykernel_launcher.py:76: DeprecationWarning: time.clock has been deprecated in Python 3.3 and will be removed from Python 3.8: use time.perf_counter or time.process_time instead\n",
            "/usr/local/lib/python3.7/dist-packages/ipykernel_launcher.py:65: DeprecationWarning: time.clock has been deprecated in Python 3.3 and will be removed from Python 3.8: use time.perf_counter or time.process_time instead\n"
          ]
        },
        {
          "output_type": "stream",
          "name": "stdout",
          "text": [
            "              precision    recall  f1-score   support\n",
            "\n",
            "        fake       0.76      0.71      0.74        49\n",
            "       legit       0.72      0.77      0.74        47\n",
            "\n",
            "    accuracy                           0.74        96\n",
            "   macro avg       0.74      0.74      0.74        96\n",
            "weighted avg       0.74      0.74      0.74        96\n",
            "\n",
            "Elapsed time5.229831999999988seconds\n",
            "Iteration: 15\n"
          ]
        },
        {
          "output_type": "stream",
          "name": "stderr",
          "text": [
            "/usr/local/lib/python3.7/dist-packages/ipykernel_launcher.py:76: DeprecationWarning: time.clock has been deprecated in Python 3.3 and will be removed from Python 3.8: use time.perf_counter or time.process_time instead\n",
            "/usr/local/lib/python3.7/dist-packages/ipykernel_launcher.py:65: DeprecationWarning: time.clock has been deprecated in Python 3.3 and will be removed from Python 3.8: use time.perf_counter or time.process_time instead\n"
          ]
        },
        {
          "output_type": "stream",
          "name": "stdout",
          "text": [
            "              precision    recall  f1-score   support\n",
            "\n",
            "        fake       0.72      0.73      0.73        49\n",
            "       legit       0.72      0.70      0.71        47\n",
            "\n",
            "    accuracy                           0.72        96\n",
            "   macro avg       0.72      0.72      0.72        96\n",
            "weighted avg       0.72      0.72      0.72        96\n",
            "\n",
            "Elapsed time5.442413999999985seconds\n",
            "Iteration: 16\n"
          ]
        },
        {
          "output_type": "stream",
          "name": "stderr",
          "text": [
            "/usr/local/lib/python3.7/dist-packages/ipykernel_launcher.py:76: DeprecationWarning: time.clock has been deprecated in Python 3.3 and will be removed from Python 3.8: use time.perf_counter or time.process_time instead\n",
            "/usr/local/lib/python3.7/dist-packages/ipykernel_launcher.py:65: DeprecationWarning: time.clock has been deprecated in Python 3.3 and will be removed from Python 3.8: use time.perf_counter or time.process_time instead\n"
          ]
        },
        {
          "output_type": "stream",
          "name": "stdout",
          "text": [
            "              precision    recall  f1-score   support\n",
            "\n",
            "        fake       0.71      0.76      0.73        49\n",
            "       legit       0.73      0.68      0.70        47\n",
            "\n",
            "    accuracy                           0.72        96\n",
            "   macro avg       0.72      0.72      0.72        96\n",
            "weighted avg       0.72      0.72      0.72        96\n",
            "\n",
            "Elapsed time5.11072999999999seconds\n",
            "Iteration: 17\n"
          ]
        },
        {
          "output_type": "stream",
          "name": "stderr",
          "text": [
            "/usr/local/lib/python3.7/dist-packages/ipykernel_launcher.py:76: DeprecationWarning: time.clock has been deprecated in Python 3.3 and will be removed from Python 3.8: use time.perf_counter or time.process_time instead\n",
            "/usr/local/lib/python3.7/dist-packages/ipykernel_launcher.py:65: DeprecationWarning: time.clock has been deprecated in Python 3.3 and will be removed from Python 3.8: use time.perf_counter or time.process_time instead\n"
          ]
        },
        {
          "output_type": "stream",
          "name": "stdout",
          "text": [
            "              precision    recall  f1-score   support\n",
            "\n",
            "        fake       0.71      0.73      0.72        49\n",
            "       legit       0.71      0.68      0.70        47\n",
            "\n",
            "    accuracy                           0.71        96\n",
            "   macro avg       0.71      0.71      0.71        96\n",
            "weighted avg       0.71      0.71      0.71        96\n",
            "\n",
            "Elapsed time4.9923069999999825seconds\n",
            "Iteration: 18\n"
          ]
        },
        {
          "output_type": "stream",
          "name": "stderr",
          "text": [
            "/usr/local/lib/python3.7/dist-packages/ipykernel_launcher.py:76: DeprecationWarning: time.clock has been deprecated in Python 3.3 and will be removed from Python 3.8: use time.perf_counter or time.process_time instead\n",
            "/usr/local/lib/python3.7/dist-packages/ipykernel_launcher.py:65: DeprecationWarning: time.clock has been deprecated in Python 3.3 and will be removed from Python 3.8: use time.perf_counter or time.process_time instead\n"
          ]
        },
        {
          "output_type": "stream",
          "name": "stdout",
          "text": [
            "              precision    recall  f1-score   support\n",
            "\n",
            "        fake       0.73      0.61      0.67        49\n",
            "       legit       0.65      0.77      0.71        47\n",
            "\n",
            "    accuracy                           0.69        96\n",
            "   macro avg       0.69      0.69      0.69        96\n",
            "weighted avg       0.69      0.69      0.69        96\n",
            "\n",
            "Elapsed time4.781829000000016seconds\n",
            "Iteration: 19\n"
          ]
        },
        {
          "output_type": "stream",
          "name": "stderr",
          "text": [
            "/usr/local/lib/python3.7/dist-packages/ipykernel_launcher.py:76: DeprecationWarning: time.clock has been deprecated in Python 3.3 and will be removed from Python 3.8: use time.perf_counter or time.process_time instead\n",
            "/usr/local/lib/python3.7/dist-packages/ipykernel_launcher.py:65: DeprecationWarning: time.clock has been deprecated in Python 3.3 and will be removed from Python 3.8: use time.perf_counter or time.process_time instead\n"
          ]
        },
        {
          "output_type": "stream",
          "name": "stdout",
          "text": [
            "              precision    recall  f1-score   support\n",
            "\n",
            "        fake       0.69      0.69      0.69        49\n",
            "       legit       0.68      0.68      0.68        47\n",
            "\n",
            "    accuracy                           0.69        96\n",
            "   macro avg       0.69      0.69      0.69        96\n",
            "weighted avg       0.69      0.69      0.69        96\n",
            "\n",
            "Elapsed time4.893314999999916seconds\n"
          ]
        },
        {
          "output_type": "stream",
          "name": "stderr",
          "text": [
            "/usr/local/lib/python3.7/dist-packages/ipykernel_launcher.py:76: DeprecationWarning: time.clock has been deprecated in Python 3.3 and will be removed from Python 3.8: use time.perf_counter or time.process_time instead\n"
          ]
        }
      ]
    },
    {
      "cell_type": "code",
      "source": [
        ""
      ],
      "metadata": {
        "id": "qM8zScoy6N7x"
      },
      "execution_count": 54,
      "outputs": []
    },
    {
      "cell_type": "code",
      "source": [
        ""
      ],
      "metadata": {
        "id": "XwTH6W9W6NuK"
      },
      "execution_count": 54,
      "outputs": []
    },
    {
      "cell_type": "markdown",
      "metadata": {
        "id": "3yn8oL27D9zx"
      },
      "source": [
        "# ASSIGNMENTS\n",
        "\n",
        "3. TODO Try the different spacy language models to see the difference in performance.\n"
      ]
    },
    {
      "cell_type": "code",
      "source": [
        ""
      ],
      "metadata": {
        "id": "5xAMCSsSAUVI"
      },
      "execution_count": null,
      "outputs": []
    }
  ]
}